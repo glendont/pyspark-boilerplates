{
 "cells": [
  {
   "cell_type": "markdown",
   "metadata": {},
   "source": [
    "## Learning PySpark"
   ]
  },
  {
   "cell_type": "markdown",
   "metadata": {},
   "source": [
    "### Importing requirements"
   ]
  },
  {
   "cell_type": "code",
   "execution_count": 294,
   "metadata": {},
   "outputs": [
    {
     "data": {
      "application/javascript": [
       "\n",
       "            setTimeout(function() {\n",
       "                var nbb_cell_id = 294;\n",
       "                var nbb_unformatted_code = \"import os\\nfrom pyspark import SparkContext\\nfrom pyspark.conf import SparkConf\\nfrom pyspark.context import SparkContext\\nfrom pyspark import SparkFiles\\n\\nimport pyspark.sql.functions as F  ## similar to numpy for pandas\\nfrom pyspark.sql import types as T\";\n",
       "                var nbb_formatted_code = \"import os\\nfrom pyspark import SparkContext\\nfrom pyspark.conf import SparkConf\\nfrom pyspark.context import SparkContext\\nfrom pyspark import SparkFiles\\n\\nimport pyspark.sql.functions as F  ## similar to numpy for pandas\\nfrom pyspark.sql import types as T\";\n",
       "                var nbb_cells = Jupyter.notebook.get_cells();\n",
       "                for (var i = 0; i < nbb_cells.length; ++i) {\n",
       "                    if (nbb_cells[i].input_prompt_number == nbb_cell_id) {\n",
       "                        if (nbb_cells[i].get_text() == nbb_unformatted_code) {\n",
       "                             nbb_cells[i].set_text(nbb_formatted_code);\n",
       "                        }\n",
       "                        break;\n",
       "                    }\n",
       "                }\n",
       "            }, 500);\n",
       "            "
      ],
      "text/plain": [
       "<IPython.core.display.Javascript object>"
      ]
     },
     "metadata": {},
     "output_type": "display_data"
    }
   ],
   "source": [
    "import os\n",
    "from pyspark import SparkContext\n",
    "from pyspark.conf import SparkConf\n",
    "from pyspark.context import SparkContext\n",
    "from pyspark import SparkFiles\n",
    "\n",
    "import pyspark.sql.functions as F  ## similar to numpy for pandas\n",
    "from pyspark.sql import types as T\n",
    "\n",
    "%load_ext nb_black"
   ]
  },
  {
   "cell_type": "markdown",
   "metadata": {},
   "source": [
    "### Starting a Spark Context "
   ]
  },
  {
   "cell_type": "code",
   "execution_count": 4,
   "metadata": {},
   "outputs": [],
   "source": [
    "sc = SparkContext(\"local\",\"MyApplication\")"
   ]
  },
  {
   "cell_type": "markdown",
   "metadata": {},
   "source": [
    "### Stopping a Spark Context"
   ]
  },
  {
   "cell_type": "code",
   "execution_count": 3,
   "metadata": {},
   "outputs": [],
   "source": [
    "sc.stop()"
   ]
  },
  {
   "cell_type": "code",
   "execution_count": 5,
   "metadata": {},
   "outputs": [
    {
     "data": {
      "text/html": [
       "\n",
       "        <div>\n",
       "            <p><b>SparkContext</b></p>\n",
       "\n",
       "            <p><a href=\"http://glendons-mbp-2:4040\">Spark UI</a></p>\n",
       "\n",
       "            <dl>\n",
       "              <dt>Version</dt>\n",
       "                <dd><code>v3.0.0-preview2</code></dd>\n",
       "              <dt>Master</dt>\n",
       "                <dd><code>local</code></dd>\n",
       "              <dt>AppName</dt>\n",
       "                <dd><code>MyApplication</code></dd>\n",
       "            </dl>\n",
       "        </div>\n",
       "        "
      ],
      "text/plain": [
       "<SparkContext master=local appName=MyApplication>"
      ]
     },
     "execution_count": 5,
     "metadata": {},
     "output_type": "execute_result"
    }
   ],
   "source": [
    "sc"
   ]
  },
  {
   "cell_type": "code",
   "execution_count": 7,
   "metadata": {},
   "outputs": [
    {
     "data": {
      "application/javascript": [
       "\n",
       "            setTimeout(function() {\n",
       "                var nbb_cell_id = 7;\n",
       "                var nbb_unformatted_code = \"from pyspark.sql import SparkSession\\n\\nspark = SparkSession.builder.appName(\\\"Spark Basic Operations\\\").getOrCreate()\";\n",
       "                var nbb_formatted_code = \"from pyspark.sql import SparkSession\\n\\nspark = SparkSession.builder.appName(\\\"Spark Basic Operations\\\").getOrCreate()\";\n",
       "                var nbb_cells = Jupyter.notebook.get_cells();\n",
       "                for (var i = 0; i < nbb_cells.length; ++i) {\n",
       "                    if (nbb_cells[i].input_prompt_number == nbb_cell_id) {\n",
       "                        if (nbb_cells[i].get_text() == nbb_unformatted_code) {\n",
       "                             nbb_cells[i].set_text(nbb_formatted_code);\n",
       "                        }\n",
       "                        break;\n",
       "                    }\n",
       "                }\n",
       "            }, 500);\n",
       "            "
      ],
      "text/plain": [
       "<IPython.core.display.Javascript object>"
      ]
     },
     "metadata": {},
     "output_type": "display_data"
    }
   ],
   "source": [
    "from pyspark.sql import SparkSession\n",
    "\n",
    "spark = SparkSession.builder.appName(\"Spark Basic Operations\").getOrCreate()"
   ]
  },
  {
   "cell_type": "code",
   "execution_count": 288,
   "metadata": {},
   "outputs": [
    {
     "data": {
      "text/html": [
       "\n",
       "            <div>\n",
       "                <p><b>SparkSession - hive</b></p>\n",
       "                \n",
       "        <div>\n",
       "            <p><b>SparkContext</b></p>\n",
       "\n",
       "            <p><a href=\"http://glendons-mbp-2:4040\">Spark UI</a></p>\n",
       "\n",
       "            <dl>\n",
       "              <dt>Version</dt>\n",
       "                <dd><code>v3.0.0-preview2</code></dd>\n",
       "              <dt>Master</dt>\n",
       "                <dd><code>local</code></dd>\n",
       "              <dt>AppName</dt>\n",
       "                <dd><code>MyApplication</code></dd>\n",
       "            </dl>\n",
       "        </div>\n",
       "        \n",
       "            </div>\n",
       "        "
      ],
      "text/plain": [
       "<pyspark.sql.session.SparkSession at 0x111436eb8>"
      ]
     },
     "execution_count": 288,
     "metadata": {},
     "output_type": "execute_result"
    },
    {
     "data": {
      "application/javascript": [
       "\n",
       "            setTimeout(function() {\n",
       "                var nbb_cell_id = 288;\n",
       "                var nbb_unformatted_code = \"spark\";\n",
       "                var nbb_formatted_code = \"spark\";\n",
       "                var nbb_cells = Jupyter.notebook.get_cells();\n",
       "                for (var i = 0; i < nbb_cells.length; ++i) {\n",
       "                    if (nbb_cells[i].input_prompt_number == nbb_cell_id) {\n",
       "                        if (nbb_cells[i].get_text() == nbb_unformatted_code) {\n",
       "                             nbb_cells[i].set_text(nbb_formatted_code);\n",
       "                        }\n",
       "                        break;\n",
       "                    }\n",
       "                }\n",
       "            }, 500);\n",
       "            "
      ],
      "text/plain": [
       "<IPython.core.display.Javascript object>"
      ]
     },
     "metadata": {},
     "output_type": "display_data"
    }
   ],
   "source": [
    "spark"
   ]
  },
  {
   "cell_type": "markdown",
   "metadata": {},
   "source": [
    "# PySpark Dataframe"
   ]
  },
  {
   "cell_type": "markdown",
   "metadata": {},
   "source": [
    "### Creating a Dataframe from Scratch"
   ]
  },
  {
   "cell_type": "code",
   "execution_count": 295,
   "metadata": {},
   "outputs": [
    {
     "data": {
      "application/javascript": [
       "\n",
       "            setTimeout(function() {\n",
       "                var nbb_cell_id = 295;\n",
       "                var nbb_unformatted_code = \"from pyspark.sql import Row\\nfrom pyspark.sql.types import StructField, StructType, StringType, LongType\";\n",
       "                var nbb_formatted_code = \"from pyspark.sql import Row\\nfrom pyspark.sql.types import StructField, StructType, StringType, LongType\";\n",
       "                var nbb_cells = Jupyter.notebook.get_cells();\n",
       "                for (var i = 0; i < nbb_cells.length; ++i) {\n",
       "                    if (nbb_cells[i].input_prompt_number == nbb_cell_id) {\n",
       "                        if (nbb_cells[i].get_text() == nbb_unformatted_code) {\n",
       "                             nbb_cells[i].set_text(nbb_formatted_code);\n",
       "                        }\n",
       "                        break;\n",
       "                    }\n",
       "                }\n",
       "            }, 500);\n",
       "            "
      ],
      "text/plain": [
       "<IPython.core.display.Javascript object>"
      ]
     },
     "metadata": {},
     "output_type": "display_data"
    }
   ],
   "source": [
    "from pyspark.sql import Row\n",
    "from pyspark.sql.types import StructField, StructType, StringType, LongType"
   ]
  },
  {
   "cell_type": "code",
   "execution_count": 296,
   "metadata": {},
   "outputs": [
    {
     "data": {
      "application/javascript": [
       "\n",
       "            setTimeout(function() {\n",
       "                var nbb_cell_id = 296;\n",
       "                var nbb_unformatted_code = \"schema = StructType(\\n    [\\n        StructField(name=\\\"city\\\", dataType=StringType(), nullable=True),\\n        StructField(name=\\\"country\\\", dataType=StringType(), nullable=True),\\n        StructField(name=\\\"counts\\\", dataType=LongType(), nullable=False),\\n    ]\\n)\";\n",
       "                var nbb_formatted_code = \"schema = StructType(\\n    [\\n        StructField(name=\\\"city\\\", dataType=StringType(), nullable=True),\\n        StructField(name=\\\"country\\\", dataType=StringType(), nullable=True),\\n        StructField(name=\\\"counts\\\", dataType=LongType(), nullable=False),\\n    ]\\n)\";\n",
       "                var nbb_cells = Jupyter.notebook.get_cells();\n",
       "                for (var i = 0; i < nbb_cells.length; ++i) {\n",
       "                    if (nbb_cells[i].input_prompt_number == nbb_cell_id) {\n",
       "                        if (nbb_cells[i].get_text() == nbb_unformatted_code) {\n",
       "                             nbb_cells[i].set_text(nbb_formatted_code);\n",
       "                        }\n",
       "                        break;\n",
       "                    }\n",
       "                }\n",
       "            }, 500);\n",
       "            "
      ],
      "text/plain": [
       "<IPython.core.display.Javascript object>"
      ]
     },
     "metadata": {},
     "output_type": "display_data"
    }
   ],
   "source": [
    "schema = StructType(\n",
    "    [\n",
    "        StructField(name=\"city\", dataType=StringType(), nullable=True),\n",
    "        StructField(name=\"country\", dataType=StringType(), nullable=True),\n",
    "        StructField(name=\"counts\", dataType=LongType(), nullable=False),\n",
    "    ]\n",
    ")"
   ]
  },
  {
   "cell_type": "code",
   "execution_count": 297,
   "metadata": {},
   "outputs": [
    {
     "data": {
      "application/javascript": [
       "\n",
       "            setTimeout(function() {\n",
       "                var nbb_cell_id = 297;\n",
       "                var nbb_unformatted_code = \"rows = [\\n    Row(\\\"LA\\\", \\\"US\\\", 3),\\n    Row(\\\"New York\\\", \\\"US\\\", 1),\\n    Row(\\\"London\\\", \\\"UK\\\", 3),\\n]\";\n",
       "                var nbb_formatted_code = \"rows = [\\n    Row(\\\"LA\\\", \\\"US\\\", 3),\\n    Row(\\\"New York\\\", \\\"US\\\", 1),\\n    Row(\\\"London\\\", \\\"UK\\\", 3),\\n]\";\n",
       "                var nbb_cells = Jupyter.notebook.get_cells();\n",
       "                for (var i = 0; i < nbb_cells.length; ++i) {\n",
       "                    if (nbb_cells[i].input_prompt_number == nbb_cell_id) {\n",
       "                        if (nbb_cells[i].get_text() == nbb_unformatted_code) {\n",
       "                             nbb_cells[i].set_text(nbb_formatted_code);\n",
       "                        }\n",
       "                        break;\n",
       "                    }\n",
       "                }\n",
       "            }, 500);\n",
       "            "
      ],
      "text/plain": [
       "<IPython.core.display.Javascript object>"
      ]
     },
     "metadata": {},
     "output_type": "display_data"
    }
   ],
   "source": [
    "rows = [\n",
    "    Row(\"LA\", \"US\", 3),\n",
    "    Row(\"New York\", \"US\", 1),\n",
    "    Row(\"London\", \"UK\", 3),\n",
    "]"
   ]
  },
  {
   "cell_type": "code",
   "execution_count": 298,
   "metadata": {},
   "outputs": [
    {
     "data": {
      "application/javascript": [
       "\n",
       "            setTimeout(function() {\n",
       "                var nbb_cell_id = 298;\n",
       "                var nbb_unformatted_code = \"parallelizeRows = spark.sparkContext.parallelize(rows)\";\n",
       "                var nbb_formatted_code = \"parallelizeRows = spark.sparkContext.parallelize(rows)\";\n",
       "                var nbb_cells = Jupyter.notebook.get_cells();\n",
       "                for (var i = 0; i < nbb_cells.length; ++i) {\n",
       "                    if (nbb_cells[i].input_prompt_number == nbb_cell_id) {\n",
       "                        if (nbb_cells[i].get_text() == nbb_unformatted_code) {\n",
       "                             nbb_cells[i].set_text(nbb_formatted_code);\n",
       "                        }\n",
       "                        break;\n",
       "                    }\n",
       "                }\n",
       "            }, 500);\n",
       "            "
      ],
      "text/plain": [
       "<IPython.core.display.Javascript object>"
      ]
     },
     "metadata": {},
     "output_type": "display_data"
    }
   ],
   "source": [
    "parallelizeRows = spark.sparkContext.parallelize(rows)"
   ]
  },
  {
   "cell_type": "code",
   "execution_count": 299,
   "metadata": {},
   "outputs": [
    {
     "name": "stdout",
     "output_type": "stream",
     "text": [
      "+--------+-------+------+\n",
      "|    city|country|counts|\n",
      "+--------+-------+------+\n",
      "|      LA|     US|     3|\n",
      "|New York|     US|     1|\n",
      "|  London|     UK|     3|\n",
      "+--------+-------+------+\n",
      "\n"
     ]
    },
    {
     "data": {
      "application/javascript": [
       "\n",
       "            setTimeout(function() {\n",
       "                var nbb_cell_id = 299;\n",
       "                var nbb_unformatted_code = \"df = spark.createDataFrame(parallelizeRows, schema)\\ndf.show()\";\n",
       "                var nbb_formatted_code = \"df = spark.createDataFrame(parallelizeRows, schema)\\ndf.show()\";\n",
       "                var nbb_cells = Jupyter.notebook.get_cells();\n",
       "                for (var i = 0; i < nbb_cells.length; ++i) {\n",
       "                    if (nbb_cells[i].input_prompt_number == nbb_cell_id) {\n",
       "                        if (nbb_cells[i].get_text() == nbb_unformatted_code) {\n",
       "                             nbb_cells[i].set_text(nbb_formatted_code);\n",
       "                        }\n",
       "                        break;\n",
       "                    }\n",
       "                }\n",
       "            }, 500);\n",
       "            "
      ],
      "text/plain": [
       "<IPython.core.display.Javascript object>"
      ]
     },
     "metadata": {},
     "output_type": "display_data"
    }
   ],
   "source": [
    "df = spark.createDataFrame(parallelizeRows, schema)\n",
    "df.show()"
   ]
  },
  {
   "cell_type": "markdown",
   "metadata": {},
   "source": [
    "### Reading from CSV"
   ]
  },
  {
   "cell_type": "code",
   "execution_count": 300,
   "metadata": {},
   "outputs": [
    {
     "data": {
      "application/javascript": [
       "\n",
       "            setTimeout(function() {\n",
       "                var nbb_cell_id = 300;\n",
       "                var nbb_unformatted_code = \"df2 = spark.read.csv(\\\"finaloutput.csv\\\", inferSchema=True, header=True)\";\n",
       "                var nbb_formatted_code = \"df2 = spark.read.csv(\\\"finaloutput.csv\\\", inferSchema=True, header=True)\";\n",
       "                var nbb_cells = Jupyter.notebook.get_cells();\n",
       "                for (var i = 0; i < nbb_cells.length; ++i) {\n",
       "                    if (nbb_cells[i].input_prompt_number == nbb_cell_id) {\n",
       "                        if (nbb_cells[i].get_text() == nbb_unformatted_code) {\n",
       "                             nbb_cells[i].set_text(nbb_formatted_code);\n",
       "                        }\n",
       "                        break;\n",
       "                    }\n",
       "                }\n",
       "            }, 500);\n",
       "            "
      ],
      "text/plain": [
       "<IPython.core.display.Javascript object>"
      ]
     },
     "metadata": {},
     "output_type": "display_data"
    }
   ],
   "source": [
    "df2 = spark.read.csv(\"finaloutput.csv\", inferSchema=True, header=True)"
   ]
  },
  {
   "cell_type": "code",
   "execution_count": 301,
   "metadata": {},
   "outputs": [
    {
     "data": {
      "application/javascript": [
       "\n",
       "            setTimeout(function() {\n",
       "                var nbb_cell_id = 301;\n",
       "                var nbb_unformatted_code = \"df2.createOrReplaceTempView(\\\"df2_table\\\")\";\n",
       "                var nbb_formatted_code = \"df2.createOrReplaceTempView(\\\"df2_table\\\")\";\n",
       "                var nbb_cells = Jupyter.notebook.get_cells();\n",
       "                for (var i = 0; i < nbb_cells.length; ++i) {\n",
       "                    if (nbb_cells[i].input_prompt_number == nbb_cell_id) {\n",
       "                        if (nbb_cells[i].get_text() == nbb_unformatted_code) {\n",
       "                             nbb_cells[i].set_text(nbb_formatted_code);\n",
       "                        }\n",
       "                        break;\n",
       "                    }\n",
       "                }\n",
       "            }, 500);\n",
       "            "
      ],
      "text/plain": [
       "<IPython.core.display.Javascript object>"
      ]
     },
     "metadata": {},
     "output_type": "display_data"
    }
   ],
   "source": [
    "df2.createOrReplaceTempView(\"df2_table\")"
   ]
  },
  {
   "cell_type": "code",
   "execution_count": 302,
   "metadata": {},
   "outputs": [
    {
     "name": "stdout",
     "output_type": "stream",
     "text": [
      "root\n",
      " |-- _c0: integer (nullable = true)\n",
      " |-- T1A1_1: integer (nullable = true)\n",
      " |-- T1A1_2: integer (nullable = true)\n",
      " |-- T1B1_1: integer (nullable = true)\n",
      " |-- T1B1_2: integer (nullable = true)\n",
      " |-- T1B1_3: integer (nullable = true)\n",
      " |-- T1C1_1: double (nullable = true)\n",
      " |-- T1C1_2: integer (nullable = true)\n",
      " |-- T1D1_1: integer (nullable = true)\n",
      " |-- T1D1_2: integer (nullable = true)\n",
      " |-- T1D1_3: integer (nullable = true)\n",
      " |-- T1D1_4: double (nullable = true)\n",
      " |-- T1D1_5: integer (nullable = true)\n",
      " |-- T1E1_1: integer (nullable = true)\n",
      " |-- T1E1_2: integer (nullable = true)\n",
      " |-- T1E1_3: integer (nullable = true)\n",
      " |-- T1E1_4: double (nullable = true)\n",
      " |-- T1F1: integer (nullable = true)\n",
      " |-- T2A1_1: integer (nullable = true)\n",
      " |-- T2A1_2: integer (nullable = true)\n",
      " |-- T2A1_3: integer (nullable = true)\n",
      " |-- T2A1_4: integer (nullable = true)\n",
      " |-- T2A1_5: integer (nullable = true)\n",
      " |-- T2A1_6: double (nullable = true)\n",
      " |-- T2B1_1: integer (nullable = true)\n",
      " |-- T2B1_2: integer (nullable = true)\n",
      " |-- T2B1_3: integer (nullable = true)\n",
      " |-- T2B1_4: double (nullable = true)\n",
      " |-- T2B1_5: double (nullable = true)\n",
      " |-- T2B1_6: integer (nullable = true)\n",
      " |-- T2B1_7: double (nullable = true)\n",
      " |-- T2C1_1: integer (nullable = true)\n",
      " |-- T2C1_2: double (nullable = true)\n",
      " |-- T2C1_3: double (nullable = true)\n",
      " |-- T2C1_4: double (nullable = true)\n",
      " |-- T2F1: integer (nullable = true)\n",
      " |-- T3C1: integer (nullable = true)\n",
      " |-- T3C2: integer (nullable = true)\n",
      " |-- T3C3: integer (nullable = true)\n",
      " |-- T3C4: integer (nullable = true)\n",
      " |-- T3C5: integer (nullable = true)\n",
      " |-- T3C6: integer (nullable = true)\n",
      " |-- T3B1_1: double (nullable = true)\n",
      " |-- T3B1_2: integer (nullable = true)\n",
      " |-- T3B1_3: integer (nullable = true)\n",
      " |-- T3B1_4: integer (nullable = true)\n",
      " |-- T3B1_5: integer (nullable = true)\n",
      " |-- T3B1_6: integer (nullable = true)\n",
      " |-- T3D1: integer (nullable = true)\n",
      " |-- T3D2: double (nullable = true)\n",
      " |-- T3D3: double (nullable = true)\n",
      " |-- T3D4: integer (nullable = true)\n",
      " |-- T3D5: integer (nullable = true)\n",
      " |-- T3A1: integer (nullable = true)\n",
      " |-- T3A2: double (nullable = true)\n",
      " |-- T3A3: double (nullable = true)\n",
      " |-- T3A4: integer (nullable = true)\n",
      " |-- T3F1: integer (nullable = true)\n",
      " |-- T4F1: integer (nullable = true)\n",
      " |-- T5F1_1: double (nullable = true)\n",
      " |-- T5F1_2: double (nullable = true)\n",
      " |-- T5F1_3: double (nullable = true)\n",
      " |-- T5F1_4: double (nullable = true)\n",
      " |-- T5F1_5: double (nullable = true)\n",
      " |-- T5F2: integer (nullable = true)\n",
      " |-- T5F3_1: double (nullable = true)\n",
      " |-- T5F3_2: double (nullable = true)\n",
      " |-- T5F3_3: double (nullable = true)\n",
      " |-- T5F3_4: double (nullable = true)\n",
      " |-- T5F3_5: double (nullable = true)\n",
      " |-- T5F3_6: double (nullable = true)\n",
      " |-- T5F3_7: double (nullable = true)\n",
      " |-- T5F3_8: double (nullable = true)\n",
      " |-- T5F3_9: double (nullable = true)\n",
      " |-- T5F3_10: double (nullable = true)\n",
      " |-- T5F3_11: double (nullable = true)\n",
      " |-- T5F3_12: double (nullable = true)\n",
      " |-- T5F3_13: double (nullable = true)\n",
      " |-- T5F3_14: double (nullable = true)\n",
      " |-- T5F3_15: double (nullable = true)\n",
      " |-- T5F3_16: double (nullable = true)\n",
      " |-- T5F4#1_1: double (nullable = true)\n",
      " |-- T5F4#1_2: double (nullable = true)\n",
      " |-- T5F4#1_3: double (nullable = true)\n",
      " |-- T5F4#1_4: double (nullable = true)\n",
      " |-- T5F4#1_5: double (nullable = true)\n",
      " |-- T5F4#1_6: double (nullable = true)\n",
      " |-- T5F4#1_7: double (nullable = true)\n",
      " |-- T5F4#1_8: double (nullable = true)\n",
      " |-- T5F4#1_9: double (nullable = true)\n",
      " |-- T5F4#1_10: double (nullable = true)\n",
      " |-- T5F4#1_11: double (nullable = true)\n",
      " |-- T5F4#1_12: double (nullable = true)\n",
      " |-- T5F4#1_13: double (nullable = true)\n",
      " |-- T5F4#1_14: double (nullable = true)\n",
      " |-- T5F4#1_15: double (nullable = true)\n",
      " |-- T5F4#1_16: double (nullable = true)\n",
      " |-- T5F4#2_1: double (nullable = true)\n",
      " |-- T5F4#2_2: double (nullable = true)\n",
      " |-- T5F4#2_3: double (nullable = true)\n",
      " |-- T5F4#2_4: double (nullable = true)\n",
      " |-- T5F4#2_5: double (nullable = true)\n",
      " |-- T5F4#2_6: double (nullable = true)\n",
      " |-- T5F4#2_7: double (nullable = true)\n",
      " |-- T5F4#2_8: double (nullable = true)\n",
      " |-- T5F4#2_9: double (nullable = true)\n",
      " |-- T5F4#2_10: double (nullable = true)\n",
      " |-- T5F4#2_11: double (nullable = true)\n",
      " |-- T5F4#2_12: double (nullable = true)\n",
      " |-- T5F4#2_13: double (nullable = true)\n",
      " |-- T5F4#2_14: double (nullable = true)\n",
      " |-- T5F4#2_15: double (nullable = true)\n",
      " |-- T5F4#2_16: double (nullable = true)\n",
      " |-- TUnnamed: 145: string (nullable = true)\n",
      "\n"
     ]
    },
    {
     "data": {
      "application/javascript": [
       "\n",
       "            setTimeout(function() {\n",
       "                var nbb_cell_id = 302;\n",
       "                var nbb_unformatted_code = \"df2.printSchema()\";\n",
       "                var nbb_formatted_code = \"df2.printSchema()\";\n",
       "                var nbb_cells = Jupyter.notebook.get_cells();\n",
       "                for (var i = 0; i < nbb_cells.length; ++i) {\n",
       "                    if (nbb_cells[i].input_prompt_number == nbb_cell_id) {\n",
       "                        if (nbb_cells[i].get_text() == nbb_unformatted_code) {\n",
       "                             nbb_cells[i].set_text(nbb_formatted_code);\n",
       "                        }\n",
       "                        break;\n",
       "                    }\n",
       "                }\n",
       "            }, 500);\n",
       "            "
      ],
      "text/plain": [
       "<IPython.core.display.Javascript object>"
      ]
     },
     "metadata": {},
     "output_type": "display_data"
    }
   ],
   "source": [
    "df2.printSchema()"
   ]
  },
  {
   "cell_type": "markdown",
   "metadata": {},
   "source": [
    "### Manipulating Columns"
   ]
  },
  {
   "cell_type": "code",
   "execution_count": 308,
   "metadata": {},
   "outputs": [
    {
     "name": "stdout",
     "output_type": "stream",
     "text": [
      "+-------+--------+\n",
      "|country|    city|\n",
      "+-------+--------+\n",
      "|     US|      LA|\n",
      "|     US|New York|\n",
      "+-------+--------+\n",
      "only showing top 2 rows\n",
      "\n"
     ]
    },
    {
     "data": {
      "application/javascript": [
       "\n",
       "            setTimeout(function() {\n",
       "                var nbb_cell_id = 308;\n",
       "                var nbb_unformatted_code = \"df.select(\\\"country\\\",\\\"city\\\").show(2)\";\n",
       "                var nbb_formatted_code = \"df.select(\\\"country\\\", \\\"city\\\").show(2)\";\n",
       "                var nbb_cells = Jupyter.notebook.get_cells();\n",
       "                for (var i = 0; i < nbb_cells.length; ++i) {\n",
       "                    if (nbb_cells[i].input_prompt_number == nbb_cell_id) {\n",
       "                        if (nbb_cells[i].get_text() == nbb_unformatted_code) {\n",
       "                             nbb_cells[i].set_text(nbb_formatted_code);\n",
       "                        }\n",
       "                        break;\n",
       "                    }\n",
       "                }\n",
       "            }, 500);\n",
       "            "
      ],
      "text/plain": [
       "<IPython.core.display.Javascript object>"
      ]
     },
     "metadata": {},
     "output_type": "display_data"
    }
   ],
   "source": [
    "df.select(\"country\", \"city\").show(2)"
   ]
  },
  {
   "cell_type": "code",
   "execution_count": 309,
   "metadata": {},
   "outputs": [
    {
     "name": "stdout",
     "output_type": "stream",
     "text": [
      "+-------+\n",
      "|country|\n",
      "+-------+\n",
      "|     US|\n",
      "|     US|\n",
      "+-------+\n",
      "only showing top 2 rows\n",
      "\n"
     ]
    },
    {
     "data": {
      "application/javascript": [
       "\n",
       "            setTimeout(function() {\n",
       "                var nbb_cell_id = 309;\n",
       "                var nbb_unformatted_code = \"df.select(F.col(\\\"country\\\")).show(2)\";\n",
       "                var nbb_formatted_code = \"df.select(F.col(\\\"country\\\")).show(2)\";\n",
       "                var nbb_cells = Jupyter.notebook.get_cells();\n",
       "                for (var i = 0; i < nbb_cells.length; ++i) {\n",
       "                    if (nbb_cells[i].input_prompt_number == nbb_cell_id) {\n",
       "                        if (nbb_cells[i].get_text() == nbb_unformatted_code) {\n",
       "                             nbb_cells[i].set_text(nbb_formatted_code);\n",
       "                        }\n",
       "                        break;\n",
       "                    }\n",
       "                }\n",
       "            }, 500);\n",
       "            "
      ],
      "text/plain": [
       "<IPython.core.display.Javascript object>"
      ]
     },
     "metadata": {},
     "output_type": "display_data"
    }
   ],
   "source": [
    "df.select(F.col(\"country\")).show(2)"
   ]
  },
  {
   "cell_type": "code",
   "execution_count": 305,
   "metadata": {},
   "outputs": [
    {
     "name": "stdout",
     "output_type": "stream",
     "text": [
      "+-------+----+\n",
      "|country|city|\n",
      "+-------+----+\n",
      "|     US|  LA|\n",
      "+-------+----+\n",
      "only showing top 1 row\n",
      "\n"
     ]
    },
    {
     "data": {
      "application/javascript": [
       "\n",
       "            setTimeout(function() {\n",
       "                var nbb_cell_id = 305;\n",
       "                var nbb_unformatted_code = \"df.select(\\\"country\\\", \\\"city\\\").show(1)\";\n",
       "                var nbb_formatted_code = \"df.select(\\\"country\\\", \\\"city\\\").show(1)\";\n",
       "                var nbb_cells = Jupyter.notebook.get_cells();\n",
       "                for (var i = 0; i < nbb_cells.length; ++i) {\n",
       "                    if (nbb_cells[i].input_prompt_number == nbb_cell_id) {\n",
       "                        if (nbb_cells[i].get_text() == nbb_unformatted_code) {\n",
       "                             nbb_cells[i].set_text(nbb_formatted_code);\n",
       "                        }\n",
       "                        break;\n",
       "                    }\n",
       "                }\n",
       "            }, 500);\n",
       "            "
      ],
      "text/plain": [
       "<IPython.core.display.Javascript object>"
      ]
     },
     "metadata": {},
     "output_type": "display_data"
    }
   ],
   "source": [
    "df.select(\"country\", \"city\").show(1)"
   ]
  },
  {
   "cell_type": "code",
   "execution_count": 306,
   "metadata": {},
   "outputs": [
    {
     "name": "stdout",
     "output_type": "stream",
     "text": [
      "+-----------+\n",
      "|destination|\n",
      "+-----------+\n",
      "|         US|\n",
      "|         US|\n",
      "+-----------+\n",
      "only showing top 2 rows\n",
      "\n"
     ]
    },
    {
     "data": {
      "application/javascript": [
       "\n",
       "            setTimeout(function() {\n",
       "                var nbb_cell_id = 306;\n",
       "                var nbb_unformatted_code = \"df.select(F.expr(\\\"Country as destination\\\")).show(2)\";\n",
       "                var nbb_formatted_code = \"df.select(F.expr(\\\"Country as destination\\\")).show(2)\";\n",
       "                var nbb_cells = Jupyter.notebook.get_cells();\n",
       "                for (var i = 0; i < nbb_cells.length; ++i) {\n",
       "                    if (nbb_cells[i].input_prompt_number == nbb_cell_id) {\n",
       "                        if (nbb_cells[i].get_text() == nbb_unformatted_code) {\n",
       "                             nbb_cells[i].set_text(nbb_formatted_code);\n",
       "                        }\n",
       "                        break;\n",
       "                    }\n",
       "                }\n",
       "            }, 500);\n",
       "            "
      ],
      "text/plain": [
       "<IPython.core.display.Javascript object>"
      ]
     },
     "metadata": {},
     "output_type": "display_data"
    }
   ],
   "source": [
    "df.select(F.expr(\"Country as destination\")).show(2)"
   ]
  },
  {
   "cell_type": "markdown",
   "metadata": {},
   "source": [
    "Changing the column name in an expression. Country -> Destination"
   ]
  },
  {
   "cell_type": "code",
   "execution_count": 311,
   "metadata": {},
   "outputs": [
    {
     "name": "stdout",
     "output_type": "stream",
     "text": [
      "+-----------+\n",
      "|destination|\n",
      "+-----------+\n",
      "|         US|\n",
      "|         US|\n",
      "+-----------+\n",
      "only showing top 2 rows\n",
      "\n"
     ]
    },
    {
     "data": {
      "application/javascript": [
       "\n",
       "            setTimeout(function() {\n",
       "                var nbb_cell_id = 311;\n",
       "                var nbb_unformatted_code = \"df.select(F.expr(\\\"Country\\\").alias(\\\"destination\\\")).show(2)\";\n",
       "                var nbb_formatted_code = \"df.select(F.expr(\\\"Country\\\").alias(\\\"destination\\\")).show(2)\";\n",
       "                var nbb_cells = Jupyter.notebook.get_cells();\n",
       "                for (var i = 0; i < nbb_cells.length; ++i) {\n",
       "                    if (nbb_cells[i].input_prompt_number == nbb_cell_id) {\n",
       "                        if (nbb_cells[i].get_text() == nbb_unformatted_code) {\n",
       "                             nbb_cells[i].set_text(nbb_formatted_code);\n",
       "                        }\n",
       "                        break;\n",
       "                    }\n",
       "                }\n",
       "            }, 500);\n",
       "            "
      ],
      "text/plain": [
       "<IPython.core.display.Javascript object>"
      ]
     },
     "metadata": {},
     "output_type": "display_data"
    }
   ],
   "source": [
    "df.select(F.expr(\"Country\").alias(\"destination\")).show(2)"
   ]
  },
  {
   "cell_type": "code",
   "execution_count": 40,
   "metadata": {},
   "outputs": [
    {
     "name": "stdout",
     "output_type": "stream",
     "text": [
      "+-----------+-------+\n",
      "|destination|Country|\n",
      "+-----------+-------+\n",
      "|         US|     US|\n",
      "|         US|     US|\n",
      "|         UK|     UK|\n",
      "+-----------+-------+\n",
      "\n"
     ]
    },
    {
     "data": {
      "application/javascript": [
       "\n",
       "            setTimeout(function() {\n",
       "                var nbb_cell_id = 40;\n",
       "                var nbb_unformatted_code = \"(df.selectExpr(\\\"Country as destination\\\", \\\"Country\\\")).show()\";\n",
       "                var nbb_formatted_code = \"(df.selectExpr(\\\"Country as destination\\\", \\\"Country\\\")).show()\";\n",
       "                var nbb_cells = Jupyter.notebook.get_cells();\n",
       "                for (var i = 0; i < nbb_cells.length; ++i) {\n",
       "                    if (nbb_cells[i].input_prompt_number == nbb_cell_id) {\n",
       "                        if (nbb_cells[i].get_text() == nbb_unformatted_code) {\n",
       "                             nbb_cells[i].set_text(nbb_formatted_code);\n",
       "                        }\n",
       "                        break;\n",
       "                    }\n",
       "                }\n",
       "            }, 500);\n",
       "            "
      ],
      "text/plain": [
       "<IPython.core.display.Javascript object>"
      ]
     },
     "metadata": {},
     "output_type": "display_data"
    }
   ],
   "source": [
    "(df.selectExpr(\"Country as destination\", \"Country\")).show()"
   ]
  },
  {
   "cell_type": "code",
   "execution_count": 48,
   "metadata": {},
   "outputs": [
    {
     "name": "stdout",
     "output_type": "stream",
     "text": [
      "+------------------+\n",
      "|       avg(counts)|\n",
      "+------------------+\n",
      "|2.3333333333333335|\n",
      "+------------------+\n",
      "\n"
     ]
    },
    {
     "data": {
      "application/javascript": [
       "\n",
       "            setTimeout(function() {\n",
       "                var nbb_cell_id = 48;\n",
       "                var nbb_unformatted_code = \"new_df = df.selectExpr(\\\"avg(counts)\\\")\\n\\n\\n\\nnew_df.show()\";\n",
       "                var nbb_formatted_code = \"new_df = df.selectExpr(\\\"avg(counts)\\\")\\n\\n\\nnew_df.show()\";\n",
       "                var nbb_cells = Jupyter.notebook.get_cells();\n",
       "                for (var i = 0; i < nbb_cells.length; ++i) {\n",
       "                    if (nbb_cells[i].input_prompt_number == nbb_cell_id) {\n",
       "                        if (nbb_cells[i].get_text() == nbb_unformatted_code) {\n",
       "                             nbb_cells[i].set_text(nbb_formatted_code);\n",
       "                        }\n",
       "                        break;\n",
       "                    }\n",
       "                }\n",
       "            }, 500);\n",
       "            "
      ],
      "text/plain": [
       "<IPython.core.display.Javascript object>"
      ]
     },
     "metadata": {},
     "output_type": "display_data"
    }
   ],
   "source": [
    "new_df = df.selectExpr(\"avg(counts)\")\n",
    "\n",
    "new_df.show()"
   ]
  },
  {
   "cell_type": "markdown",
   "metadata": {},
   "source": [
    "### Adding a new column to a dataframe\n"
   ]
  },
  {
   "cell_type": "code",
   "execution_count": 314,
   "metadata": {},
   "outputs": [
    {
     "name": "stdout",
     "output_type": "stream",
     "text": [
      "+--------+-------+------+---------------+\n",
      "|    city|country|counts|New Column Name|\n",
      "+--------+-------+------+---------------+\n",
      "|      LA|     US|     3|              1|\n",
      "|New York|     US|     1|              1|\n",
      "|  London|     UK|     3|              1|\n",
      "+--------+-------+------+---------------+\n",
      "\n"
     ]
    },
    {
     "data": {
      "application/javascript": [
       "\n",
       "            setTimeout(function() {\n",
       "                var nbb_cell_id = 314;\n",
       "                var nbb_unformatted_code = \"df = df.withColumn(\\\"New Column Name\\\", F.lit(1))\\ndf.show()\";\n",
       "                var nbb_formatted_code = \"df = df.withColumn(\\\"New Column Name\\\", F.lit(1))\\ndf.show()\";\n",
       "                var nbb_cells = Jupyter.notebook.get_cells();\n",
       "                for (var i = 0; i < nbb_cells.length; ++i) {\n",
       "                    if (nbb_cells[i].input_prompt_number == nbb_cell_id) {\n",
       "                        if (nbb_cells[i].get_text() == nbb_unformatted_code) {\n",
       "                             nbb_cells[i].set_text(nbb_formatted_code);\n",
       "                        }\n",
       "                        break;\n",
       "                    }\n",
       "                }\n",
       "            }, 500);\n",
       "            "
      ],
      "text/plain": [
       "<IPython.core.display.Javascript object>"
      ]
     },
     "metadata": {},
     "output_type": "display_data"
    }
   ],
   "source": [
    "df = df.withColumn(\"New Column Name\", F.lit(1))\n",
    "df.show()"
   ]
  },
  {
   "cell_type": "markdown",
   "metadata": {},
   "source": [
    "### Renaming a column"
   ]
  },
  {
   "cell_type": "code",
   "execution_count": 58,
   "metadata": {},
   "outputs": [
    {
     "name": "stdout",
     "output_type": "stream",
     "text": [
      "+--------+-------+------+------------+\n",
      "|    city|country|counts|Changed Name|\n",
      "+--------+-------+------+------------+\n",
      "|      LA|     US|     3|           1|\n",
      "|New York|     US|     1|           1|\n",
      "|  London|     UK|     3|           1|\n",
      "+--------+-------+------+------------+\n",
      "\n"
     ]
    },
    {
     "data": {
      "application/javascript": [
       "\n",
       "            setTimeout(function() {\n",
       "                var nbb_cell_id = 58;\n",
       "                var nbb_unformatted_code = \"df = df.withColumnRenamed(\\\"New Column Name\\\",'Changed Name')\\ndf.show()\";\n",
       "                var nbb_formatted_code = \"df = df.withColumnRenamed(\\\"New Column Name\\\", \\\"Changed Name\\\")\\ndf.show()\";\n",
       "                var nbb_cells = Jupyter.notebook.get_cells();\n",
       "                for (var i = 0; i < nbb_cells.length; ++i) {\n",
       "                    if (nbb_cells[i].input_prompt_number == nbb_cell_id) {\n",
       "                        if (nbb_cells[i].get_text() == nbb_unformatted_code) {\n",
       "                             nbb_cells[i].set_text(nbb_formatted_code);\n",
       "                        }\n",
       "                        break;\n",
       "                    }\n",
       "                }\n",
       "            }, 500);\n",
       "            "
      ],
      "text/plain": [
       "<IPython.core.display.Javascript object>"
      ]
     },
     "metadata": {},
     "output_type": "display_data"
    }
   ],
   "source": [
    "df = df.withColumnRenamed(\"New Column Name\", \"Changed Name\")\n",
    "df.show()"
   ]
  },
  {
   "cell_type": "markdown",
   "metadata": {},
   "source": [
    "### Removing Columns"
   ]
  },
  {
   "cell_type": "code",
   "execution_count": 59,
   "metadata": {},
   "outputs": [
    {
     "name": "stdout",
     "output_type": "stream",
     "text": [
      "+--------+-------+------+\n",
      "|    city|country|counts|\n",
      "+--------+-------+------+\n",
      "|      LA|     US|     3|\n",
      "|New York|     US|     1|\n",
      "|  London|     UK|     3|\n",
      "+--------+-------+------+\n",
      "\n"
     ]
    },
    {
     "data": {
      "application/javascript": [
       "\n",
       "            setTimeout(function() {\n",
       "                var nbb_cell_id = 59;\n",
       "                var nbb_unformatted_code = \"df = df.drop(\\\"Changed Name\\\")\\ndf.show()\";\n",
       "                var nbb_formatted_code = \"df = df.drop(\\\"Changed Name\\\")\\ndf.show()\";\n",
       "                var nbb_cells = Jupyter.notebook.get_cells();\n",
       "                for (var i = 0; i < nbb_cells.length; ++i) {\n",
       "                    if (nbb_cells[i].input_prompt_number == nbb_cell_id) {\n",
       "                        if (nbb_cells[i].get_text() == nbb_unformatted_code) {\n",
       "                             nbb_cells[i].set_text(nbb_formatted_code);\n",
       "                        }\n",
       "                        break;\n",
       "                    }\n",
       "                }\n",
       "            }, 500);\n",
       "            "
      ],
      "text/plain": [
       "<IPython.core.display.Javascript object>"
      ]
     },
     "metadata": {},
     "output_type": "display_data"
    }
   ],
   "source": [
    "df = df.drop(\"Changed Name\")\n",
    "df.show()"
   ]
  },
  {
   "cell_type": "markdown",
   "metadata": {},
   "source": [
    "### Dataframe filtering"
   ]
  },
  {
   "cell_type": "code",
   "execution_count": 60,
   "metadata": {},
   "outputs": [
    {
     "name": "stdout",
     "output_type": "stream",
     "text": [
      "+--------+-------+------+\n",
      "|    city|country|counts|\n",
      "+--------+-------+------+\n",
      "|New York|     US|     1|\n",
      "+--------+-------+------+\n",
      "\n"
     ]
    },
    {
     "data": {
      "application/javascript": [
       "\n",
       "            setTimeout(function() {\n",
       "                var nbb_cell_id = 60;\n",
       "                var nbb_unformatted_code = \"df.filter(F.col(\\\"counts\\\") < 2 ).show()\";\n",
       "                var nbb_formatted_code = \"df.filter(F.col(\\\"counts\\\") < 2).show()\";\n",
       "                var nbb_cells = Jupyter.notebook.get_cells();\n",
       "                for (var i = 0; i < nbb_cells.length; ++i) {\n",
       "                    if (nbb_cells[i].input_prompt_number == nbb_cell_id) {\n",
       "                        if (nbb_cells[i].get_text() == nbb_unformatted_code) {\n",
       "                             nbb_cells[i].set_text(nbb_formatted_code);\n",
       "                        }\n",
       "                        break;\n",
       "                    }\n",
       "                }\n",
       "            }, 500);\n",
       "            "
      ],
      "text/plain": [
       "<IPython.core.display.Javascript object>"
      ]
     },
     "metadata": {},
     "output_type": "display_data"
    }
   ],
   "source": [
    "df.filter(F.col(\"counts\") < 2).show()"
   ]
  },
  {
   "cell_type": "code",
   "execution_count": 62,
   "metadata": {},
   "outputs": [
    {
     "name": "stdout",
     "output_type": "stream",
     "text": [
      "+------+-------+------+\n",
      "|  city|country|counts|\n",
      "+------+-------+------+\n",
      "|    LA|     US|     3|\n",
      "|London|     UK|     3|\n",
      "+------+-------+------+\n",
      "\n"
     ]
    },
    {
     "data": {
      "application/javascript": [
       "\n",
       "            setTimeout(function() {\n",
       "                var nbb_cell_id = 62;\n",
       "                var nbb_unformatted_code = \"df.where(\\\"counts>2\\\").show(2)\";\n",
       "                var nbb_formatted_code = \"df.where(\\\"counts>2\\\").show(2)\";\n",
       "                var nbb_cells = Jupyter.notebook.get_cells();\n",
       "                for (var i = 0; i < nbb_cells.length; ++i) {\n",
       "                    if (nbb_cells[i].input_prompt_number == nbb_cell_id) {\n",
       "                        if (nbb_cells[i].get_text() == nbb_unformatted_code) {\n",
       "                             nbb_cells[i].set_text(nbb_formatted_code);\n",
       "                        }\n",
       "                        break;\n",
       "                    }\n",
       "                }\n",
       "            }, 500);\n",
       "            "
      ],
      "text/plain": [
       "<IPython.core.display.Javascript object>"
      ]
     },
     "metadata": {},
     "output_type": "display_data"
    }
   ],
   "source": [
    "df.where(\"counts>2\").show(2)"
   ]
  },
  {
   "cell_type": "code",
   "execution_count": 64,
   "metadata": {},
   "outputs": [
    {
     "name": "stdout",
     "output_type": "stream",
     "text": [
      "+--------+-------+------+\n",
      "|    city|country|counts|\n",
      "+--------+-------+------+\n",
      "|New York|     US|     1|\n",
      "+--------+-------+------+\n",
      "\n"
     ]
    },
    {
     "data": {
      "application/javascript": [
       "\n",
       "            setTimeout(function() {\n",
       "                var nbb_cell_id = 64;\n",
       "                var nbb_unformatted_code = \"df.where(F.col(\\\"counts\\\") <= 1).where(F.col(\\\"country\\\") == \\\"US\\\").show()\";\n",
       "                var nbb_formatted_code = \"df.where(F.col(\\\"counts\\\") <= 1).where(F.col(\\\"country\\\") == \\\"US\\\").show()\";\n",
       "                var nbb_cells = Jupyter.notebook.get_cells();\n",
       "                for (var i = 0; i < nbb_cells.length; ++i) {\n",
       "                    if (nbb_cells[i].input_prompt_number == nbb_cell_id) {\n",
       "                        if (nbb_cells[i].get_text() == nbb_unformatted_code) {\n",
       "                             nbb_cells[i].set_text(nbb_formatted_code);\n",
       "                        }\n",
       "                        break;\n",
       "                    }\n",
       "                }\n",
       "            }, 500);\n",
       "            "
      ],
      "text/plain": [
       "<IPython.core.display.Javascript object>"
      ]
     },
     "metadata": {},
     "output_type": "display_data"
    }
   ],
   "source": [
    "df.where(F.col(\"counts\") <= 1).where(F.col(\"country\") == \"US\").show()"
   ]
  },
  {
   "cell_type": "markdown",
   "metadata": {},
   "source": [
    "### Get Distinct Rows"
   ]
  },
  {
   "cell_type": "code",
   "execution_count": 66,
   "metadata": {},
   "outputs": [
    {
     "data": {
      "text/plain": [
       "3"
      ]
     },
     "execution_count": 66,
     "metadata": {},
     "output_type": "execute_result"
    },
    {
     "data": {
      "application/javascript": [
       "\n",
       "            setTimeout(function() {\n",
       "                var nbb_cell_id = 66;\n",
       "                var nbb_unformatted_code = \"df.select(\\\"city\\\").distinct().count()\";\n",
       "                var nbb_formatted_code = \"df.select(\\\"city\\\").distinct().count()\";\n",
       "                var nbb_cells = Jupyter.notebook.get_cells();\n",
       "                for (var i = 0; i < nbb_cells.length; ++i) {\n",
       "                    if (nbb_cells[i].input_prompt_number == nbb_cell_id) {\n",
       "                        if (nbb_cells[i].get_text() == nbb_unformatted_code) {\n",
       "                             nbb_cells[i].set_text(nbb_formatted_code);\n",
       "                        }\n",
       "                        break;\n",
       "                    }\n",
       "                }\n",
       "            }, 500);\n",
       "            "
      ],
      "text/plain": [
       "<IPython.core.display.Javascript object>"
      ]
     },
     "metadata": {},
     "output_type": "display_data"
    }
   ],
   "source": [
    "df.select(\"city\").distinct().count()"
   ]
  },
  {
   "cell_type": "markdown",
   "metadata": {},
   "source": [
    "### Get RandomSamples"
   ]
  },
  {
   "cell_type": "code",
   "execution_count": 67,
   "metadata": {},
   "outputs": [
    {
     "data": {
      "text/plain": [
       "3"
      ]
     },
     "execution_count": 67,
     "metadata": {},
     "output_type": "execute_result"
    },
    {
     "data": {
      "application/javascript": [
       "\n",
       "            setTimeout(function() {\n",
       "                var nbb_cell_id = 67;\n",
       "                var nbb_unformatted_code = \"df.sample(withReplacement=False,fraction=1.0, seed=5).count()\";\n",
       "                var nbb_formatted_code = \"df.sample(withReplacement=False, fraction=1.0, seed=5).count()\";\n",
       "                var nbb_cells = Jupyter.notebook.get_cells();\n",
       "                for (var i = 0; i < nbb_cells.length; ++i) {\n",
       "                    if (nbb_cells[i].input_prompt_number == nbb_cell_id) {\n",
       "                        if (nbb_cells[i].get_text() == nbb_unformatted_code) {\n",
       "                             nbb_cells[i].set_text(nbb_formatted_code);\n",
       "                        }\n",
       "                        break;\n",
       "                    }\n",
       "                }\n",
       "            }, 500);\n",
       "            "
      ],
      "text/plain": [
       "<IPython.core.display.Javascript object>"
      ]
     },
     "metadata": {},
     "output_type": "display_data"
    }
   ],
   "source": [
    "df.sample(withReplacement=False, fraction=1.0, seed=5).count()"
   ]
  },
  {
   "cell_type": "markdown",
   "metadata": {},
   "source": [
    "### Random Splits for train test split"
   ]
  },
  {
   "cell_type": "code",
   "execution_count": 74,
   "metadata": {},
   "outputs": [
    {
     "data": {
      "text/plain": [
       "[DataFrame[city: string, country: string, counts: bigint],\n",
       " DataFrame[city: string, country: string, counts: bigint]]"
      ]
     },
     "execution_count": 74,
     "metadata": {},
     "output_type": "execute_result"
    },
    {
     "data": {
      "application/javascript": [
       "\n",
       "            setTimeout(function() {\n",
       "                var nbb_cell_id = 74;\n",
       "                var nbb_unformatted_code = \"df2 = df.randomSplit([0.67, 0.33], seed=5)\\ndf2\";\n",
       "                var nbb_formatted_code = \"df2 = df.randomSplit([0.67, 0.33], seed=5)\\ndf2\";\n",
       "                var nbb_cells = Jupyter.notebook.get_cells();\n",
       "                for (var i = 0; i < nbb_cells.length; ++i) {\n",
       "                    if (nbb_cells[i].input_prompt_number == nbb_cell_id) {\n",
       "                        if (nbb_cells[i].get_text() == nbb_unformatted_code) {\n",
       "                             nbb_cells[i].set_text(nbb_formatted_code);\n",
       "                        }\n",
       "                        break;\n",
       "                    }\n",
       "                }\n",
       "            }, 500);\n",
       "            "
      ],
      "text/plain": [
       "<IPython.core.display.Javascript object>"
      ]
     },
     "metadata": {},
     "output_type": "display_data"
    }
   ],
   "source": [
    "df2 = df.randomSplit([0.67, 0.33], seed=5)\n",
    "df2"
   ]
  },
  {
   "cell_type": "markdown",
   "metadata": {},
   "source": [
    "### Concatenating and Appending Rows"
   ]
  },
  {
   "cell_type": "code",
   "execution_count": 75,
   "metadata": {},
   "outputs": [
    {
     "data": {
      "application/javascript": [
       "\n",
       "            setTimeout(function() {\n",
       "                var nbb_cell_id = 75;\n",
       "                var nbb_unformatted_code = \"rows = [\\n    Row(\\\"Berlin\\\",\\\"Germany\\\",2),\\n    Row(\\\"Singapore\\\",\\\"Singapore\\\",1),\\n]\\nparalplelizeRows = spark.sparkContext.parallelize(rows)\\ndf2=spark.createDataFrame(rows,schema)\";\n",
       "                var nbb_formatted_code = \"rows = [\\n    Row(\\\"Berlin\\\", \\\"Germany\\\", 2),\\n    Row(\\\"Singapore\\\", \\\"Singapore\\\", 1),\\n]\\nparalplelizeRows = spark.sparkContext.parallelize(rows)\\ndf2 = spark.createDataFrame(rows, schema)\";\n",
       "                var nbb_cells = Jupyter.notebook.get_cells();\n",
       "                for (var i = 0; i < nbb_cells.length; ++i) {\n",
       "                    if (nbb_cells[i].input_prompt_number == nbb_cell_id) {\n",
       "                        if (nbb_cells[i].get_text() == nbb_unformatted_code) {\n",
       "                             nbb_cells[i].set_text(nbb_formatted_code);\n",
       "                        }\n",
       "                        break;\n",
       "                    }\n",
       "                }\n",
       "            }, 500);\n",
       "            "
      ],
      "text/plain": [
       "<IPython.core.display.Javascript object>"
      ]
     },
     "metadata": {},
     "output_type": "display_data"
    }
   ],
   "source": [
    "rows = [\n",
    "    Row(\"Berlin\", \"Germany\", 2),\n",
    "    Row(\"Singapore\", \"Singapore\", 1),\n",
    "]\n",
    "paralplelizeRows = spark.sparkContext.parallelize(rows)\n",
    "df2 = spark.createDataFrame(rows, schema)"
   ]
  },
  {
   "cell_type": "code",
   "execution_count": 76,
   "metadata": {},
   "outputs": [
    {
     "name": "stdout",
     "output_type": "stream",
     "text": [
      "+---------+---------+------+\n",
      "|     city|  country|counts|\n",
      "+---------+---------+------+\n",
      "|       LA|       US|     3|\n",
      "| New York|       US|     1|\n",
      "|   London|       UK|     3|\n",
      "|   Berlin|  Germany|     2|\n",
      "|Singapore|Singapore|     1|\n",
      "+---------+---------+------+\n",
      "\n"
     ]
    },
    {
     "data": {
      "application/javascript": [
       "\n",
       "            setTimeout(function() {\n",
       "                var nbb_cell_id = 76;\n",
       "                var nbb_unformatted_code = \"df3 = df.union(df2)\\ndf3.show()\";\n",
       "                var nbb_formatted_code = \"df3 = df.union(df2)\\ndf3.show()\";\n",
       "                var nbb_cells = Jupyter.notebook.get_cells();\n",
       "                for (var i = 0; i < nbb_cells.length; ++i) {\n",
       "                    if (nbb_cells[i].input_prompt_number == nbb_cell_id) {\n",
       "                        if (nbb_cells[i].get_text() == nbb_unformatted_code) {\n",
       "                             nbb_cells[i].set_text(nbb_formatted_code);\n",
       "                        }\n",
       "                        break;\n",
       "                    }\n",
       "                }\n",
       "            }, 500);\n",
       "            "
      ],
      "text/plain": [
       "<IPython.core.display.Javascript object>"
      ]
     },
     "metadata": {},
     "output_type": "display_data"
    }
   ],
   "source": [
    "df3 = df.union(df2) ## Union of df with df2 \n",
    "df3.show()"
   ]
  },
  {
   "cell_type": "markdown",
   "metadata": {},
   "source": [
    "### Sorting\n",
    "Using either \"sort\" or \"orderBy\""
   ]
  },
  {
   "cell_type": "code",
   "execution_count": 77,
   "metadata": {},
   "outputs": [
    {
     "name": "stdout",
     "output_type": "stream",
     "text": [
      "+---------+---------+------+\n",
      "|     city|  country|counts|\n",
      "+---------+---------+------+\n",
      "| New York|       US|     1|\n",
      "|Singapore|Singapore|     1|\n",
      "|   Berlin|  Germany|     2|\n",
      "|       LA|       US|     3|\n",
      "|   London|       UK|     3|\n",
      "+---------+---------+------+\n",
      "\n"
     ]
    },
    {
     "data": {
      "application/javascript": [
       "\n",
       "            setTimeout(function() {\n",
       "                var nbb_cell_id = 77;\n",
       "                var nbb_unformatted_code = \"df3.sort(\\\"counts\\\").show()\";\n",
       "                var nbb_formatted_code = \"df3.sort(\\\"counts\\\").show()\";\n",
       "                var nbb_cells = Jupyter.notebook.get_cells();\n",
       "                for (var i = 0; i < nbb_cells.length; ++i) {\n",
       "                    if (nbb_cells[i].input_prompt_number == nbb_cell_id) {\n",
       "                        if (nbb_cells[i].get_text() == nbb_unformatted_code) {\n",
       "                             nbb_cells[i].set_text(nbb_formatted_code);\n",
       "                        }\n",
       "                        break;\n",
       "                    }\n",
       "                }\n",
       "            }, 500);\n",
       "            "
      ],
      "text/plain": [
       "<IPython.core.display.Javascript object>"
      ]
     },
     "metadata": {},
     "output_type": "display_data"
    }
   ],
   "source": [
    "df3.sort(\"counts\").show()"
   ]
  },
  {
   "cell_type": "code",
   "execution_count": 79,
   "metadata": {},
   "outputs": [
    {
     "name": "stdout",
     "output_type": "stream",
     "text": [
      "+---------+---------+------+\n",
      "|     city|  country|counts|\n",
      "+---------+---------+------+\n",
      "|       LA|       US|     3|\n",
      "|   London|       UK|     3|\n",
      "|   Berlin|  Germany|     2|\n",
      "| New York|       US|     1|\n",
      "|Singapore|Singapore|     1|\n",
      "+---------+---------+------+\n",
      "\n"
     ]
    },
    {
     "data": {
      "application/javascript": [
       "\n",
       "            setTimeout(function() {\n",
       "                var nbb_cell_id = 79;\n",
       "                var nbb_unformatted_code = \"df3.sort(F.desc(\\\"counts\\\")).show()\";\n",
       "                var nbb_formatted_code = \"df3.sort(F.desc(\\\"counts\\\")).show()\";\n",
       "                var nbb_cells = Jupyter.notebook.get_cells();\n",
       "                for (var i = 0; i < nbb_cells.length; ++i) {\n",
       "                    if (nbb_cells[i].input_prompt_number == nbb_cell_id) {\n",
       "                        if (nbb_cells[i].get_text() == nbb_unformatted_code) {\n",
       "                             nbb_cells[i].set_text(nbb_formatted_code);\n",
       "                        }\n",
       "                        break;\n",
       "                    }\n",
       "                }\n",
       "            }, 500);\n",
       "            "
      ],
      "text/plain": [
       "<IPython.core.display.Javascript object>"
      ]
     },
     "metadata": {},
     "output_type": "display_data"
    }
   ],
   "source": [
    "df3.sort(F.desc(\"counts\")).show()"
   ]
  },
  {
   "cell_type": "code",
   "execution_count": 80,
   "metadata": {},
   "outputs": [
    {
     "name": "stdout",
     "output_type": "stream",
     "text": [
      "+---------+---------+------+\n",
      "|     city|  country|counts|\n",
      "+---------+---------+------+\n",
      "|       LA|       US|     3|\n",
      "|   London|       UK|     3|\n",
      "|   Berlin|  Germany|     2|\n",
      "| New York|       US|     1|\n",
      "|Singapore|Singapore|     1|\n",
      "+---------+---------+------+\n",
      "\n"
     ]
    },
    {
     "data": {
      "application/javascript": [
       "\n",
       "            setTimeout(function() {\n",
       "                var nbb_cell_id = 80;\n",
       "                var nbb_unformatted_code = \"df3.orderBy(F.desc(\\\"counts\\\")).show()\";\n",
       "                var nbb_formatted_code = \"df3.orderBy(F.desc(\\\"counts\\\")).show()\";\n",
       "                var nbb_cells = Jupyter.notebook.get_cells();\n",
       "                for (var i = 0; i < nbb_cells.length; ++i) {\n",
       "                    if (nbb_cells[i].input_prompt_number == nbb_cell_id) {\n",
       "                        if (nbb_cells[i].get_text() == nbb_unformatted_code) {\n",
       "                             nbb_cells[i].set_text(nbb_formatted_code);\n",
       "                        }\n",
       "                        break;\n",
       "                    }\n",
       "                }\n",
       "            }, 500);\n",
       "            "
      ],
      "text/plain": [
       "<IPython.core.display.Javascript object>"
      ]
     },
     "metadata": {},
     "output_type": "display_data"
    }
   ],
   "source": [
    "df3.orderBy(F.desc(\"counts\")).show()"
   ]
  },
  {
   "cell_type": "markdown",
   "metadata": {},
   "source": [
    "# UFC Data"
   ]
  },
  {
   "cell_type": "code",
   "execution_count": 123,
   "metadata": {},
   "outputs": [
    {
     "name": "stdout",
     "output_type": "stream",
     "text": [
      "['raw_total_fight_data.csv', 'raw_fighter_details.csv', 'data.csv', 'preprocessed_data.csv']\n"
     ]
    },
    {
     "data": {
      "application/javascript": [
       "\n",
       "            setTimeout(function() {\n",
       "                var nbb_cell_id = 123;\n",
       "                var nbb_unformatted_code = \"import os\\nfrom os.path import isfile, join\\n\\nloc = os.path.abspath(\\\"\\\")\\ndata_loc = f\\\"{loc}/data/ufcdata/\\\"\\ndata_files = [f for f in os.listdir(data_loc) if isfile(join(data_loc, f))]\\nprint(data_files)\";\n",
       "                var nbb_formatted_code = \"import os\\nfrom os.path import isfile, join\\n\\nloc = os.path.abspath(\\\"\\\")\\ndata_loc = f\\\"{loc}/data/ufcdata/\\\"\\ndata_files = [f for f in os.listdir(data_loc) if isfile(join(data_loc, f))]\\nprint(data_files)\";\n",
       "                var nbb_cells = Jupyter.notebook.get_cells();\n",
       "                for (var i = 0; i < nbb_cells.length; ++i) {\n",
       "                    if (nbb_cells[i].input_prompt_number == nbb_cell_id) {\n",
       "                        if (nbb_cells[i].get_text() == nbb_unformatted_code) {\n",
       "                             nbb_cells[i].set_text(nbb_formatted_code);\n",
       "                        }\n",
       "                        break;\n",
       "                    }\n",
       "                }\n",
       "            }, 500);\n",
       "            "
      ],
      "text/plain": [
       "<IPython.core.display.Javascript object>"
      ]
     },
     "metadata": {},
     "output_type": "display_data"
    }
   ],
   "source": [
    "import os\n",
    "from os.path import isfile, join\n",
    "\n",
    "loc = os.path.abspath(\"\")\n",
    "data_loc = f\"{loc}/data/ufcdata/\"\n",
    "data_files = [f for f in os.listdir(data_loc) if isfile(join(data_loc, f))]\n",
    "print(data_files)"
   ]
  },
  {
   "cell_type": "code",
   "execution_count": 124,
   "metadata": {},
   "outputs": [
    {
     "name": "stdout",
     "output_type": "stream",
     "text": [
      "dict_keys(['raw_total_fight_data', 'raw_fighter_details', 'data', 'preprocessed_data'])\n"
     ]
    },
    {
     "data": {
      "application/javascript": [
       "\n",
       "            setTimeout(function() {\n",
       "                var nbb_cell_id = 124;\n",
       "                var nbb_unformatted_code = \"data = {}\\nfor file in data_files:\\n    data[file[:-4]] = spark.read.csv(f\\\"{data_loc}{file}\\\", inferSchema=True, header=True)\\n    data[file[:-4]].createOrReplaceTempView(f\\\"data_{file[:-4]}\\\")\\nprint(data.keys())\";\n",
       "                var nbb_formatted_code = \"data = {}\\nfor file in data_files:\\n    data[file[:-4]] = spark.read.csv(f\\\"{data_loc}{file}\\\", inferSchema=True, header=True)\\n    data[file[:-4]].createOrReplaceTempView(f\\\"data_{file[:-4]}\\\")\\nprint(data.keys())\";\n",
       "                var nbb_cells = Jupyter.notebook.get_cells();\n",
       "                for (var i = 0; i < nbb_cells.length; ++i) {\n",
       "                    if (nbb_cells[i].input_prompt_number == nbb_cell_id) {\n",
       "                        if (nbb_cells[i].get_text() == nbb_unformatted_code) {\n",
       "                             nbb_cells[i].set_text(nbb_formatted_code);\n",
       "                        }\n",
       "                        break;\n",
       "                    }\n",
       "                }\n",
       "            }, 500);\n",
       "            "
      ],
      "text/plain": [
       "<IPython.core.display.Javascript object>"
      ]
     },
     "metadata": {},
     "output_type": "display_data"
    }
   ],
   "source": [
    "data = {}\n",
    "for file in data_files:\n",
    "    data[file[:-4]] = spark.read.csv(f\"{data_loc}{file}\", inferSchema=True, header=True)\n",
    "    data[file[:-4]].createOrReplaceTempView(f\"data_{file[:-4]}\")\n",
    "print(data.keys())"
   ]
  },
  {
   "cell_type": "code",
   "execution_count": 125,
   "metadata": {},
   "outputs": [
    {
     "data": {
      "application/javascript": [
       "\n",
       "            setTimeout(function() {\n",
       "                var nbb_cell_id = 125;\n",
       "                var nbb_unformatted_code = \"data[\\\"data\\\"] = (\\n    data[\\\"data\\\"]\\n    .where(F.col(\\\"date\\\") > \\\"2017-01-01\\\")\\n    .withColumn(\\n        \\\"Winner_name\\\",\\n        F.when(F.col(\\\"Winner\\\") == \\\"Red\\\", F.col(\\\"R_fighter\\\")).otherwise(\\n            F.col(\\\"B_fighter\\\")\\n        ),\\n    )\\n    .withColumn(\\n        \\\"Loser_name\\\",\\n        F.when(F.col(\\\"Winner\\\") == \\\"Red\\\", F.col(\\\"B_fighter\\\")).otherwise(\\n            F.col(\\\"R_fighter\\\")\\n        ),\\n    )\\n)\";\n",
       "                var nbb_formatted_code = \"data[\\\"data\\\"] = (\\n    data[\\\"data\\\"]\\n    .where(F.col(\\\"date\\\") > \\\"2017-01-01\\\")\\n    .withColumn(\\n        \\\"Winner_name\\\",\\n        F.when(F.col(\\\"Winner\\\") == \\\"Red\\\", F.col(\\\"R_fighter\\\")).otherwise(\\n            F.col(\\\"B_fighter\\\")\\n        ),\\n    )\\n    .withColumn(\\n        \\\"Loser_name\\\",\\n        F.when(F.col(\\\"Winner\\\") == \\\"Red\\\", F.col(\\\"B_fighter\\\")).otherwise(\\n            F.col(\\\"R_fighter\\\")\\n        ),\\n    )\\n)\";\n",
       "                var nbb_cells = Jupyter.notebook.get_cells();\n",
       "                for (var i = 0; i < nbb_cells.length; ++i) {\n",
       "                    if (nbb_cells[i].input_prompt_number == nbb_cell_id) {\n",
       "                        if (nbb_cells[i].get_text() == nbb_unformatted_code) {\n",
       "                             nbb_cells[i].set_text(nbb_formatted_code);\n",
       "                        }\n",
       "                        break;\n",
       "                    }\n",
       "                }\n",
       "            }, 500);\n",
       "            "
      ],
      "text/plain": [
       "<IPython.core.display.Javascript object>"
      ]
     },
     "metadata": {},
     "output_type": "display_data"
    }
   ],
   "source": [
    "data[\"data\"] = (\n",
    "    data[\"data\"]\n",
    "    .where(F.col(\"date\") > \"2017-01-01\")\n",
    "    .withColumn(\n",
    "        \"Winner_name\",\n",
    "        F.when(F.col(\"Winner\") == \"Red\", F.col(\"R_fighter\")).otherwise(\n",
    "            F.col(\"B_fighter\")\n",
    "        ),\n",
    "    )\n",
    "    .withColumn(\n",
    "        \"Loser_name\",\n",
    "        F.when(F.col(\"Winner\") == \"Red\", F.col(\"B_fighter\")).otherwise(\n",
    "            F.col(\"R_fighter\")\n",
    "        ),\n",
    "    )\n",
    ")"
   ]
  },
  {
   "cell_type": "code",
   "execution_count": 126,
   "metadata": {},
   "outputs": [
    {
     "data": {
      "application/javascript": [
       "\n",
       "            setTimeout(function() {\n",
       "                var nbb_cell_id = 126;\n",
       "                var nbb_unformatted_code = \"losses = (\\n    data[\\\"data\\\"]\\n    .withColumnRenamed(\\\"Loser_name\\\", \\\"name\\\")\\n    .groupBy(\\\"name\\\")\\n    .count()\\n    .select(\\\"name\\\", F.col(\\\"count\\\").alias(\\\"losses\\\"))\\n)\\n\\nwins = (\\n    data[\\\"data\\\"]\\n    .withColumnRenamed(\\\"Winner_name\\\", \\\"name\\\")\\n    .groupBy(\\\"name\\\")\\n    .count()\\n    .select(\\\"name\\\", F.col(\\\"count\\\").alias(\\\"wins\\\"))\\n)\";\n",
       "                var nbb_formatted_code = \"losses = (\\n    data[\\\"data\\\"]\\n    .withColumnRenamed(\\\"Loser_name\\\", \\\"name\\\")\\n    .groupBy(\\\"name\\\")\\n    .count()\\n    .select(\\\"name\\\", F.col(\\\"count\\\").alias(\\\"losses\\\"))\\n)\\n\\nwins = (\\n    data[\\\"data\\\"]\\n    .withColumnRenamed(\\\"Winner_name\\\", \\\"name\\\")\\n    .groupBy(\\\"name\\\")\\n    .count()\\n    .select(\\\"name\\\", F.col(\\\"count\\\").alias(\\\"wins\\\"))\\n)\";\n",
       "                var nbb_cells = Jupyter.notebook.get_cells();\n",
       "                for (var i = 0; i < nbb_cells.length; ++i) {\n",
       "                    if (nbb_cells[i].input_prompt_number == nbb_cell_id) {\n",
       "                        if (nbb_cells[i].get_text() == nbb_unformatted_code) {\n",
       "                             nbb_cells[i].set_text(nbb_formatted_code);\n",
       "                        }\n",
       "                        break;\n",
       "                    }\n",
       "                }\n",
       "            }, 500);\n",
       "            "
      ],
      "text/plain": [
       "<IPython.core.display.Javascript object>"
      ]
     },
     "metadata": {},
     "output_type": "display_data"
    }
   ],
   "source": [
    "losses = (\n",
    "    data[\"data\"]\n",
    "    .withColumnRenamed(\"Loser_name\", \"name\")\n",
    "    .groupBy(\"name\")\n",
    "    .count()\n",
    "    .select(\"name\", F.col(\"count\").alias(\"losses\"))\n",
    ")\n",
    "\n",
    "wins = (\n",
    "    data[\"data\"]\n",
    "    .withColumnRenamed(\"Winner_name\", \"name\")\n",
    "    .groupBy(\"name\")\n",
    "    .count()\n",
    "    .select(\"name\", F.col(\"count\").alias(\"wins\"))\n",
    ")"
   ]
  },
  {
   "cell_type": "code",
   "execution_count": 127,
   "metadata": {},
   "outputs": [
    {
     "name": "stdout",
     "output_type": "stream",
     "text": [
      "763\n"
     ]
    },
    {
     "data": {
      "application/javascript": [
       "\n",
       "            setTimeout(function() {\n",
       "                var nbb_cell_id = 127;\n",
       "                var nbb_unformatted_code = \"red = data[\\\"data\\\"].select(\\\"R_fighter\\\").distinct()\\nblue = data[\\\"data\\\"].select(\\\"B_fighter\\\").distinct()\\ncheck = red.union(blue).distinct().count()\\nprint(check)\";\n",
       "                var nbb_formatted_code = \"red = data[\\\"data\\\"].select(\\\"R_fighter\\\").distinct()\\nblue = data[\\\"data\\\"].select(\\\"B_fighter\\\").distinct()\\ncheck = red.union(blue).distinct().count()\\nprint(check)\";\n",
       "                var nbb_cells = Jupyter.notebook.get_cells();\n",
       "                for (var i = 0; i < nbb_cells.length; ++i) {\n",
       "                    if (nbb_cells[i].input_prompt_number == nbb_cell_id) {\n",
       "                        if (nbb_cells[i].get_text() == nbb_unformatted_code) {\n",
       "                             nbb_cells[i].set_text(nbb_formatted_code);\n",
       "                        }\n",
       "                        break;\n",
       "                    }\n",
       "                }\n",
       "            }, 500);\n",
       "            "
      ],
      "text/plain": [
       "<IPython.core.display.Javascript object>"
      ]
     },
     "metadata": {},
     "output_type": "display_data"
    }
   ],
   "source": [
    "red = data[\"data\"].select(\"R_fighter\").distinct()\n",
    "blue = data[\"data\"].select(\"B_fighter\").distinct()\n",
    "check = red.union(blue).distinct().count()\n",
    "print(check)"
   ]
  },
  {
   "cell_type": "code",
   "execution_count": 128,
   "metadata": {},
   "outputs": [
    {
     "name": "stdout",
     "output_type": "stream",
     "text": [
      "535\n",
      "645\n"
     ]
    },
    {
     "data": {
      "application/javascript": [
       "\n",
       "            setTimeout(function() {\n",
       "                var nbb_cell_id = 128;\n",
       "                var nbb_unformatted_code = \"print(wins.distinct().count())\\nprint(losses.distinct().count())\";\n",
       "                var nbb_formatted_code = \"print(wins.distinct().count())\\nprint(losses.distinct().count())\";\n",
       "                var nbb_cells = Jupyter.notebook.get_cells();\n",
       "                for (var i = 0; i < nbb_cells.length; ++i) {\n",
       "                    if (nbb_cells[i].input_prompt_number == nbb_cell_id) {\n",
       "                        if (nbb_cells[i].get_text() == nbb_unformatted_code) {\n",
       "                             nbb_cells[i].set_text(nbb_formatted_code);\n",
       "                        }\n",
       "                        break;\n",
       "                    }\n",
       "                }\n",
       "            }, 500);\n",
       "            "
      ],
      "text/plain": [
       "<IPython.core.display.Javascript object>"
      ]
     },
     "metadata": {},
     "output_type": "display_data"
    }
   ],
   "source": [
    "print(wins.distinct().count())\n",
    "print(losses.distinct().count())"
   ]
  },
  {
   "cell_type": "markdown",
   "metadata": {},
   "source": [
    "### Inner Join"
   ]
  },
  {
   "cell_type": "code",
   "execution_count": 129,
   "metadata": {},
   "outputs": [
    {
     "name": "stdout",
     "output_type": "stream",
     "text": [
      "417\n"
     ]
    },
    {
     "data": {
      "application/javascript": [
       "\n",
       "            setTimeout(function() {\n",
       "                var nbb_cell_id = 129;\n",
       "                var nbb_unformatted_code = \"win_loss_data = wins.join(losses, \\\"name\\\")\\nprint(win_loss_data.distinct().count())\";\n",
       "                var nbb_formatted_code = \"win_loss_data = wins.join(losses, \\\"name\\\")\\nprint(win_loss_data.distinct().count())\";\n",
       "                var nbb_cells = Jupyter.notebook.get_cells();\n",
       "                for (var i = 0; i < nbb_cells.length; ++i) {\n",
       "                    if (nbb_cells[i].input_prompt_number == nbb_cell_id) {\n",
       "                        if (nbb_cells[i].get_text() == nbb_unformatted_code) {\n",
       "                             nbb_cells[i].set_text(nbb_formatted_code);\n",
       "                        }\n",
       "                        break;\n",
       "                    }\n",
       "                }\n",
       "            }, 500);\n",
       "            "
      ],
      "text/plain": [
       "<IPython.core.display.Javascript object>"
      ]
     },
     "metadata": {},
     "output_type": "display_data"
    }
   ],
   "source": [
    "win_loss_data = wins.join(losses, \"name\")\n",
    "print(win_loss_data.distinct().count())"
   ]
  },
  {
   "cell_type": "code",
   "execution_count": 130,
   "metadata": {},
   "outputs": [
    {
     "name": "stdout",
     "output_type": "stream",
     "text": [
      "535\n"
     ]
    },
    {
     "data": {
      "application/javascript": [
       "\n",
       "            setTimeout(function() {\n",
       "                var nbb_cell_id = 130;\n",
       "                var nbb_unformatted_code = \"win_loss_data = wins.join(losses, \\\"name\\\", \\\"left\\\")\\nprint(win_loss_data.distinct().count())\";\n",
       "                var nbb_formatted_code = \"win_loss_data = wins.join(losses, \\\"name\\\", \\\"left\\\")\\nprint(win_loss_data.distinct().count())\";\n",
       "                var nbb_cells = Jupyter.notebook.get_cells();\n",
       "                for (var i = 0; i < nbb_cells.length; ++i) {\n",
       "                    if (nbb_cells[i].input_prompt_number == nbb_cell_id) {\n",
       "                        if (nbb_cells[i].get_text() == nbb_unformatted_code) {\n",
       "                             nbb_cells[i].set_text(nbb_formatted_code);\n",
       "                        }\n",
       "                        break;\n",
       "                    }\n",
       "                }\n",
       "            }, 500);\n",
       "            "
      ],
      "text/plain": [
       "<IPython.core.display.Javascript object>"
      ]
     },
     "metadata": {},
     "output_type": "display_data"
    }
   ],
   "source": [
    "win_loss_data = wins.join(losses, \"name\", \"left\")\n",
    "print(win_loss_data.distinct().count())"
   ]
  },
  {
   "cell_type": "code",
   "execution_count": 131,
   "metadata": {},
   "outputs": [
    {
     "name": "stdout",
     "output_type": "stream",
     "text": [
      "645\n"
     ]
    },
    {
     "data": {
      "application/javascript": [
       "\n",
       "            setTimeout(function() {\n",
       "                var nbb_cell_id = 131;\n",
       "                var nbb_unformatted_code = \"win_loss_data = wins.join(losses, \\\"name\\\", \\\"right\\\")\\nprint(win_loss_data.distinct().count())\";\n",
       "                var nbb_formatted_code = \"win_loss_data = wins.join(losses, \\\"name\\\", \\\"right\\\")\\nprint(win_loss_data.distinct().count())\";\n",
       "                var nbb_cells = Jupyter.notebook.get_cells();\n",
       "                for (var i = 0; i < nbb_cells.length; ++i) {\n",
       "                    if (nbb_cells[i].input_prompt_number == nbb_cell_id) {\n",
       "                        if (nbb_cells[i].get_text() == nbb_unformatted_code) {\n",
       "                             nbb_cells[i].set_text(nbb_formatted_code);\n",
       "                        }\n",
       "                        break;\n",
       "                    }\n",
       "                }\n",
       "            }, 500);\n",
       "            "
      ],
      "text/plain": [
       "<IPython.core.display.Javascript object>"
      ]
     },
     "metadata": {},
     "output_type": "display_data"
    }
   ],
   "source": [
    "win_loss_data = wins.join(losses, \"name\", \"right\")\n",
    "print(win_loss_data.distinct().count())"
   ]
  },
  {
   "cell_type": "code",
   "execution_count": 132,
   "metadata": {},
   "outputs": [
    {
     "name": "stdout",
     "output_type": "stream",
     "text": [
      "763\n"
     ]
    },
    {
     "data": {
      "application/javascript": [
       "\n",
       "            setTimeout(function() {\n",
       "                var nbb_cell_id = 132;\n",
       "                var nbb_unformatted_code = \"win_loss_data = wins.join(losses, \\\"name\\\", \\\"outer\\\")\\nprint(win_loss_data.distinct().count())\";\n",
       "                var nbb_formatted_code = \"win_loss_data = wins.join(losses, \\\"name\\\", \\\"outer\\\")\\nprint(win_loss_data.distinct().count())\";\n",
       "                var nbb_cells = Jupyter.notebook.get_cells();\n",
       "                for (var i = 0; i < nbb_cells.length; ++i) {\n",
       "                    if (nbb_cells[i].input_prompt_number == nbb_cell_id) {\n",
       "                        if (nbb_cells[i].get_text() == nbb_unformatted_code) {\n",
       "                             nbb_cells[i].set_text(nbb_formatted_code);\n",
       "                        }\n",
       "                        break;\n",
       "                    }\n",
       "                }\n",
       "            }, 500);\n",
       "            "
      ],
      "text/plain": [
       "<IPython.core.display.Javascript object>"
      ]
     },
     "metadata": {},
     "output_type": "display_data"
    }
   ],
   "source": [
    "win_loss_data = wins.join(losses, \"name\", \"outer\")\n",
    "print(win_loss_data.distinct().count())"
   ]
  },
  {
   "cell_type": "code",
   "execution_count": 118,
   "metadata": {},
   "outputs": [
    {
     "name": "stdout",
     "output_type": "stream",
     "text": [
      "+---------------+----+------+\n",
      "|           name|wins|losses|\n",
      "+---------------+----+------+\n",
      "|Andrei Arlovski|   2|     6|\n",
      "| Donald Cerrone|   4|     5|\n",
      "|    Angela Hill|   3|     5|\n",
      "|     Jim Miller|   2|     5|\n",
      "|   Ben Saunders|   2|     5|\n",
      "+---------------+----+------+\n",
      "only showing top 5 rows\n",
      "\n"
     ]
    },
    {
     "data": {
      "application/javascript": [
       "\n",
       "            setTimeout(function() {\n",
       "                var nbb_cell_id = 118;\n",
       "                var nbb_unformatted_code = \"win_loss_data.orderBy(F.desc(\\\"losses\\\")).show(5)\";\n",
       "                var nbb_formatted_code = \"win_loss_data.orderBy(F.desc(\\\"losses\\\")).show(5)\";\n",
       "                var nbb_cells = Jupyter.notebook.get_cells();\n",
       "                for (var i = 0; i < nbb_cells.length; ++i) {\n",
       "                    if (nbb_cells[i].input_prompt_number == nbb_cell_id) {\n",
       "                        if (nbb_cells[i].get_text() == nbb_unformatted_code) {\n",
       "                             nbb_cells[i].set_text(nbb_formatted_code);\n",
       "                        }\n",
       "                        break;\n",
       "                    }\n",
       "                }\n",
       "            }, 500);\n",
       "            "
      ],
      "text/plain": [
       "<IPython.core.display.Javascript object>"
      ]
     },
     "metadata": {},
     "output_type": "display_data"
    }
   ],
   "source": [
    "win_loss_data.orderBy(F.desc(\"losses\")).show(5)"
   ]
  },
  {
   "cell_type": "code",
   "execution_count": 119,
   "metadata": {},
   "outputs": [
    {
     "name": "stdout",
     "output_type": "stream",
     "text": [
      "+--------------+----+------+\n",
      "|          name|wins|losses|\n",
      "+--------------+----+------+\n",
      "|Conor McGregor|null|     1|\n",
      "+--------------+----+------+\n",
      "\n"
     ]
    },
    {
     "data": {
      "application/javascript": [
       "\n",
       "            setTimeout(function() {\n",
       "                var nbb_cell_id = 119;\n",
       "                var nbb_unformatted_code = \"win_loss_data.where(F.col(\\\"name\\\") == \\\"Conor McGregor\\\").show()\";\n",
       "                var nbb_formatted_code = \"win_loss_data.where(F.col(\\\"name\\\") == \\\"Conor McGregor\\\").show()\";\n",
       "                var nbb_cells = Jupyter.notebook.get_cells();\n",
       "                for (var i = 0; i < nbb_cells.length; ++i) {\n",
       "                    if (nbb_cells[i].input_prompt_number == nbb_cell_id) {\n",
       "                        if (nbb_cells[i].get_text() == nbb_unformatted_code) {\n",
       "                             nbb_cells[i].set_text(nbb_formatted_code);\n",
       "                        }\n",
       "                        break;\n",
       "                    }\n",
       "                }\n",
       "            }, 500);\n",
       "            "
      ],
      "text/plain": [
       "<IPython.core.display.Javascript object>"
      ]
     },
     "metadata": {},
     "output_type": "display_data"
    }
   ],
   "source": [
    "win_loss_data.where(F.col(\"name\") == \"Conor McGregor\").show()"
   ]
  },
  {
   "cell_type": "code",
   "execution_count": 133,
   "metadata": {},
   "outputs": [
    {
     "data": {
      "application/javascript": [
       "\n",
       "            setTimeout(function() {\n",
       "                var nbb_cell_id = 133;\n",
       "                var nbb_unformatted_code = \"### Figuring out Age of Fighters\\nwin_loss_data = win_loss_data.join(\\n    data[\\\"raw_fighter_details\\\"].withColumnRenamed(\\\"fighter_name\\\", \\\"name\\\"),\\n    \\\"name\\\",\\n    \\\"left\\\",\\n)\";\n",
       "                var nbb_formatted_code = \"### Figuring out Age of Fighters\\nwin_loss_data = win_loss_data.join(\\n    data[\\\"raw_fighter_details\\\"].withColumnRenamed(\\\"fighter_name\\\", \\\"name\\\"),\\n    \\\"name\\\",\\n    \\\"left\\\",\\n)\";\n",
       "                var nbb_cells = Jupyter.notebook.get_cells();\n",
       "                for (var i = 0; i < nbb_cells.length; ++i) {\n",
       "                    if (nbb_cells[i].input_prompt_number == nbb_cell_id) {\n",
       "                        if (nbb_cells[i].get_text() == nbb_unformatted_code) {\n",
       "                             nbb_cells[i].set_text(nbb_formatted_code);\n",
       "                        }\n",
       "                        break;\n",
       "                    }\n",
       "                }\n",
       "            }, 500);\n",
       "            "
      ],
      "text/plain": [
       "<IPython.core.display.Javascript object>"
      ]
     },
     "metadata": {},
     "output_type": "display_data"
    }
   ],
   "source": [
    "### Figuring out Age of Fighters\n",
    "win_loss_data = win_loss_data.join(\n",
    "    data[\"raw_fighter_details\"].withColumnRenamed(\"fighter_name\", \"name\"),\n",
    "    \"name\",\n",
    "    \"left\",\n",
    ")"
   ]
  },
  {
   "cell_type": "code",
   "execution_count": 134,
   "metadata": {},
   "outputs": [
    {
     "data": {
      "application/javascript": [
       "\n",
       "            setTimeout(function() {\n",
       "                var nbb_cell_id = 134;\n",
       "                var nbb_unformatted_code = \"win_loss_data = (\\n    win_loss_data.withColumn(\\\"birthday\\\", F.to_date(F.col(\\\"DOB\\\"), \\\"MMM dd, yyyy\\\"))\\n    .withColumn(\\n        \\\"age\\\", F.round(F.months_between(F.current_date(), F.col(\\\"birthday\\\")) / 12, 1)\\n    )\\n    .select(\\\"name\\\", \\\"wins\\\", \\\"losses\\\", \\\"age\\\")\\n)\";\n",
       "                var nbb_formatted_code = \"win_loss_data = (\\n    win_loss_data.withColumn(\\\"birthday\\\", F.to_date(F.col(\\\"DOB\\\"), \\\"MMM dd, yyyy\\\"))\\n    .withColumn(\\n        \\\"age\\\", F.round(F.months_between(F.current_date(), F.col(\\\"birthday\\\")) / 12, 1)\\n    )\\n    .select(\\\"name\\\", \\\"wins\\\", \\\"losses\\\", \\\"age\\\")\\n)\";\n",
       "                var nbb_cells = Jupyter.notebook.get_cells();\n",
       "                for (var i = 0; i < nbb_cells.length; ++i) {\n",
       "                    if (nbb_cells[i].input_prompt_number == nbb_cell_id) {\n",
       "                        if (nbb_cells[i].get_text() == nbb_unformatted_code) {\n",
       "                             nbb_cells[i].set_text(nbb_formatted_code);\n",
       "                        }\n",
       "                        break;\n",
       "                    }\n",
       "                }\n",
       "            }, 500);\n",
       "            "
      ],
      "text/plain": [
       "<IPython.core.display.Javascript object>"
      ]
     },
     "metadata": {},
     "output_type": "display_data"
    }
   ],
   "source": [
    "win_loss_data = (\n",
    "    win_loss_data.withColumn(\"birthday\", F.to_date(F.col(\"DOB\"), \"MMM dd, yyyy\"))\n",
    "    .withColumn(\n",
    "        \"age\", F.round(F.months_between(F.current_date(), F.col(\"birthday\")) / 12, 1)\n",
    "    )\n",
    "    .select(\"name\", \"wins\", \"losses\", \"age\")\n",
    ")"
   ]
  },
  {
   "cell_type": "code",
   "execution_count": 137,
   "metadata": {},
   "outputs": [
    {
     "name": "stdout",
     "output_type": "stream",
     "text": [
      "+--------------------+----+------+----+\n",
      "|                name|wins|losses| age|\n",
      "+--------------------+----+------+----+\n",
      "|Abdul Razak Alhassan|   3|     1|34.7|\n",
      "|  Abdul-Kerim Edilov|   1|  null|28.4|\n",
      "|       Abel Trujillo|null|     2|36.6|\n",
      "|         Abu Azaitar|   1|  null|34.1|\n",
      "|       Adam Milstead|null|     3|32.8|\n",
      "+--------------------+----+------+----+\n",
      "only showing top 5 rows\n",
      "\n"
     ]
    },
    {
     "data": {
      "application/javascript": [
       "\n",
       "            setTimeout(function() {\n",
       "                var nbb_cell_id = 137;\n",
       "                var nbb_unformatted_code = \"win_loss_data.show(5)\";\n",
       "                var nbb_formatted_code = \"win_loss_data.show(5)\";\n",
       "                var nbb_cells = Jupyter.notebook.get_cells();\n",
       "                for (var i = 0; i < nbb_cells.length; ++i) {\n",
       "                    if (nbb_cells[i].input_prompt_number == nbb_cell_id) {\n",
       "                        if (nbb_cells[i].get_text() == nbb_unformatted_code) {\n",
       "                             nbb_cells[i].set_text(nbb_formatted_code);\n",
       "                        }\n",
       "                        break;\n",
       "                    }\n",
       "                }\n",
       "            }, 500);\n",
       "            "
      ],
      "text/plain": [
       "<IPython.core.display.Javascript object>"
      ]
     },
     "metadata": {},
     "output_type": "display_data"
    }
   ],
   "source": [
    "win_loss_data.show(5)"
   ]
  },
  {
   "cell_type": "code",
   "execution_count": 139,
   "metadata": {},
   "outputs": [
    {
     "name": "stdout",
     "output_type": "stream",
     "text": [
      "+--------------------+----+------+----+\n",
      "|                name|wins|losses| age|\n",
      "+--------------------+----+------+----+\n",
      "|Abdul Razak Alhassan|   3|     1|34.7|\n",
      "|  Abdul-Kerim Edilov|   1|  null|28.4|\n",
      "+--------------------+----+------+----+\n",
      "only showing top 2 rows\n",
      "\n"
     ]
    },
    {
     "data": {
      "application/javascript": [
       "\n",
       "            setTimeout(function() {\n",
       "                var nbb_cell_id = 139;\n",
       "                var nbb_unformatted_code = \"win_loss_data.show(2)\";\n",
       "                var nbb_formatted_code = \"win_loss_data.show(2)\";\n",
       "                var nbb_cells = Jupyter.notebook.get_cells();\n",
       "                for (var i = 0; i < nbb_cells.length; ++i) {\n",
       "                    if (nbb_cells[i].input_prompt_number == nbb_cell_id) {\n",
       "                        if (nbb_cells[i].get_text() == nbb_unformatted_code) {\n",
       "                             nbb_cells[i].set_text(nbb_formatted_code);\n",
       "                        }\n",
       "                        break;\n",
       "                    }\n",
       "                }\n",
       "            }, 500);\n",
       "            "
      ],
      "text/plain": [
       "<IPython.core.display.Javascript object>"
      ]
     },
     "metadata": {},
     "output_type": "display_data"
    }
   ],
   "source": [
    "win_loss_data = win_loss_data.join(\n",
    "    data[\"raw_fighter_details\"].withColumnRenamed(\"fighter_name\", \"name\"),\n",
    "    \"name\",\n",
    "    \"left\",\n",
    ")"
   ]
  },
  {
   "cell_type": "code",
   "execution_count": null,
   "metadata": {},
   "outputs": [],
   "source": []
  },
  {
   "cell_type": "code",
   "execution_count": null,
   "metadata": {},
   "outputs": [],
   "source": []
  },
  {
   "cell_type": "code",
   "execution_count": 124,
   "metadata": {},
   "outputs": [
    {
     "name": "stdout",
     "output_type": "stream",
     "text": [
      "+--------------------+----+------+----+\n",
      "|                name|wins|losses| age|\n",
      "+--------------------+----+------+----+\n",
      "|     Israel Adesanya|   6|  null|30.7|\n",
      "|      Dustin Poirier|   6|  null|31.2|\n",
      "|Alexander Volkano...|   6|  null|31.6|\n",
      "|        Kamaru Usman|   6|  null|32.9|\n",
      "+--------------------+----+------+----+\n",
      "\n"
     ]
    },
    {
     "data": {
      "application/javascript": [
       "\n",
       "            setTimeout(function() {\n",
       "                var nbb_cell_id = 124;\n",
       "                var nbb_unformatted_code = \"win_loss_data.where(F.col(\\\"losses\\\").isNull()).orderBy(\\n    F.asc(\\\"age\\\"), F.desc(\\\"wins\\\")\\n).where(\\\"wins>5\\\").show()\";\n",
       "                var nbb_formatted_code = \"win_loss_data.where(F.col(\\\"losses\\\").isNull()).orderBy(\\n    F.asc(\\\"age\\\"), F.desc(\\\"wins\\\")\\n).where(\\\"wins>5\\\").show()\";\n",
       "                var nbb_cells = Jupyter.notebook.get_cells();\n",
       "                for (var i = 0; i < nbb_cells.length; ++i) {\n",
       "                    if (nbb_cells[i].input_prompt_number == nbb_cell_id) {\n",
       "                        if (nbb_cells[i].get_text() == nbb_unformatted_code) {\n",
       "                             nbb_cells[i].set_text(nbb_formatted_code);\n",
       "                        }\n",
       "                        break;\n",
       "                    }\n",
       "                }\n",
       "            }, 500);\n",
       "            "
      ],
      "text/plain": [
       "<IPython.core.display.Javascript object>"
      ]
     },
     "metadata": {},
     "output_type": "display_data"
    }
   ],
   "source": [
    "win_loss_data.where(F.col(\"losses\").isNull()).orderBy(\n",
    "    F.asc(\"age\"), F.desc(\"wins\")\n",
    ").where(\"wins>5\").show()"
   ]
  },
  {
   "cell_type": "markdown",
   "metadata": {},
   "source": [
    "## Date and Timestamps"
   ]
  },
  {
   "cell_type": "code",
   "execution_count": 126,
   "metadata": {},
   "outputs": [
    {
     "data": {
      "application/javascript": [
       "\n",
       "            setTimeout(function() {\n",
       "                var nbb_cell_id = 126;\n",
       "                var nbb_unformatted_code = \"rows = [\\n    Row(\\\"2020-01-03\\\"),\\n    Row(\\\"2020 01 10\\\"),\\n    Row(\\\"2020 Jan 10\\\"),\\n    Row(\\\"Sat, 11 Jan 2020\\\"),\\n]\\n\\nmyrdd = spark.sparkContext.parallelize(rows)\\n\\nschema = T.StructType(\\n    [T.StructField(name=\\\"date_str\\\", dataType=T.StringType(), nullable=True)]\\n)\\n\\ndf = spark.createDataFrame(myrdd, schema)\";\n",
       "                var nbb_formatted_code = \"rows = [\\n    Row(\\\"2020-01-03\\\"),\\n    Row(\\\"2020 01 10\\\"),\\n    Row(\\\"2020 Jan 10\\\"),\\n    Row(\\\"Sat, 11 Jan 2020\\\"),\\n]\\n\\nmyrdd = spark.sparkContext.parallelize(rows)\\n\\nschema = T.StructType(\\n    [T.StructField(name=\\\"date_str\\\", dataType=T.StringType(), nullable=True)]\\n)\\n\\ndf = spark.createDataFrame(myrdd, schema)\";\n",
       "                var nbb_cells = Jupyter.notebook.get_cells();\n",
       "                for (var i = 0; i < nbb_cells.length; ++i) {\n",
       "                    if (nbb_cells[i].input_prompt_number == nbb_cell_id) {\n",
       "                        if (nbb_cells[i].get_text() == nbb_unformatted_code) {\n",
       "                             nbb_cells[i].set_text(nbb_formatted_code);\n",
       "                        }\n",
       "                        break;\n",
       "                    }\n",
       "                }\n",
       "            }, 500);\n",
       "            "
      ],
      "text/plain": [
       "<IPython.core.display.Javascript object>"
      ]
     },
     "metadata": {},
     "output_type": "display_data"
    }
   ],
   "source": [
    "rows = [\n",
    "    Row(\"2020-01-03\"),\n",
    "    Row(\"2020 01 10\"),\n",
    "    Row(\"2020 Jan 10\"),\n",
    "    Row(\"Sat, 11 Jan 2020\"),\n",
    "]\n",
    "\n",
    "myrdd = spark.sparkContext.parallelize(rows)\n",
    "\n",
    "schema = T.StructType(\n",
    "    [T.StructField(name=\"date_str\", dataType=T.StringType(), nullable=True)]\n",
    ")\n",
    "\n",
    "df = spark.createDataFrame(myrdd, schema)"
   ]
  },
  {
   "cell_type": "code",
   "execution_count": 127,
   "metadata": {},
   "outputs": [
    {
     "name": "stdout",
     "output_type": "stream",
     "text": [
      "+----------------+\n",
      "|        date_str|\n",
      "+----------------+\n",
      "|      2020-01-03|\n",
      "|      2020 01 10|\n",
      "|     2020 Jan 10|\n",
      "|Sat, 11 Jan 2020|\n",
      "+----------------+\n",
      "\n"
     ]
    },
    {
     "data": {
      "application/javascript": [
       "\n",
       "            setTimeout(function() {\n",
       "                var nbb_cell_id = 127;\n",
       "                var nbb_unformatted_code = \"df.show()\";\n",
       "                var nbb_formatted_code = \"df.show()\";\n",
       "                var nbb_cells = Jupyter.notebook.get_cells();\n",
       "                for (var i = 0; i < nbb_cells.length; ++i) {\n",
       "                    if (nbb_cells[i].input_prompt_number == nbb_cell_id) {\n",
       "                        if (nbb_cells[i].get_text() == nbb_unformatted_code) {\n",
       "                             nbb_cells[i].set_text(nbb_formatted_code);\n",
       "                        }\n",
       "                        break;\n",
       "                    }\n",
       "                }\n",
       "            }, 500);\n",
       "            "
      ],
      "text/plain": [
       "<IPython.core.display.Javascript object>"
      ]
     },
     "metadata": {},
     "output_type": "display_data"
    }
   ],
   "source": [
    "df.show()"
   ]
  },
  {
   "cell_type": "code",
   "execution_count": null,
   "metadata": {},
   "outputs": [],
   "source": []
  },
  {
   "cell_type": "code",
   "execution_count": null,
   "metadata": {},
   "outputs": [],
   "source": []
  },
  {
   "cell_type": "code",
   "execution_count": null,
   "metadata": {},
   "outputs": [],
   "source": []
  },
  {
   "cell_type": "code",
   "execution_count": null,
   "metadata": {},
   "outputs": [],
   "source": []
  },
  {
   "cell_type": "code",
   "execution_count": 36,
   "metadata": {},
   "outputs": [],
   "source": [
    "rdd = sc.parallelize(range(100000000))"
   ]
  },
  {
   "cell_type": "code",
   "execution_count": 37,
   "metadata": {},
   "outputs": [
    {
     "data": {
      "text/plain": [
       "100000000"
      ]
     },
     "execution_count": 37,
     "metadata": {},
     "output_type": "execute_result"
    }
   ],
   "source": [
    "rdd.count()"
   ]
  },
  {
   "cell_type": "code",
   "execution_count": 3,
   "metadata": {},
   "outputs": [
    {
     "data": {
      "text/plain": [
       "'local[2]'"
      ]
     },
     "execution_count": 3,
     "metadata": {},
     "output_type": "execute_result"
    }
   ],
   "source": [
    "conf = SparkConf().setAppName(\"PySpark Demo App\").setMaster(\"local[2]\")\n",
    "conf.get(\"spark.master\")"
   ]
  },
  {
   "cell_type": "code",
   "execution_count": 4,
   "metadata": {},
   "outputs": [
    {
     "data": {
      "text/plain": [
       "'PySpark Demo App'"
      ]
     },
     "execution_count": 4,
     "metadata": {},
     "output_type": "execute_result"
    }
   ],
   "source": [
    "conf.get(\"spark.app.name\")"
   ]
  },
  {
   "cell_type": "code",
   "execution_count": 6,
   "metadata": {},
   "outputs": [],
   "source": [
    "df = spark.read.options(header=True,inferSchema=True).csv(\"finaloutput.csv\")\n"
   ]
  },
  {
   "cell_type": "code",
   "execution_count": null,
   "metadata": {},
   "outputs": [],
   "source": []
  },
  {
   "cell_type": "code",
   "execution_count": null,
   "metadata": {},
   "outputs": [],
   "source": []
  },
  {
   "cell_type": "code",
   "execution_count": 15,
   "metadata": {},
   "outputs": [],
   "source": [
    "import re, string"
   ]
  },
  {
   "cell_type": "code",
   "execution_count": 16,
   "metadata": {},
   "outputs": [],
   "source": [
    "txt = sc.textFile(\"text.txt\")"
   ]
  },
  {
   "cell_type": "code",
   "execution_count": 17,
   "metadata": {},
   "outputs": [
    {
     "data": {
      "text/plain": [
       "['This is a text file',\n",
       " 'This is a text file',\n",
       " 'This is a text file',\n",
       " 'This is a text file',\n",
       " 'This is a text fileThis is a text file']"
      ]
     },
     "execution_count": 17,
     "metadata": {},
     "output_type": "execute_result"
    }
   ],
   "source": [
    "txt.take(5)"
   ]
  },
  {
   "cell_type": "code",
   "execution_count": 18,
   "metadata": {},
   "outputs": [
    {
     "data": {
      "text/plain": [
       "'!\"#$%&\\'()*+,-./:;<=>?@[\\\\]^_`{|}~'"
      ]
     },
     "execution_count": 18,
     "metadata": {},
     "output_type": "execute_result"
    }
   ],
   "source": [
    "string.punctuation"
   ]
  },
  {
   "cell_type": "code",
   "execution_count": null,
   "metadata": {},
   "outputs": [],
   "source": []
  },
  {
   "cell_type": "code",
   "execution_count": null,
   "metadata": {},
   "outputs": [],
   "source": []
  },
  {
   "cell_type": "code",
   "execution_count": null,
   "metadata": {},
   "outputs": [],
   "source": []
  },
  {
   "cell_type": "code",
   "execution_count": null,
   "metadata": {},
   "outputs": [],
   "source": []
  },
  {
   "cell_type": "code",
   "execution_count": null,
   "metadata": {},
   "outputs": [],
   "source": []
  },
  {
   "cell_type": "markdown",
   "metadata": {},
   "source": [
    "## PySpark ML Packages"
   ]
  },
  {
   "cell_type": "markdown",
   "metadata": {},
   "source": [
    "### Binarizer \n",
    "Allows you to create an extra column that gives a 1.0 if it exceeds a predetermined threshold and a 0.0 if it falls below a threshold. "
   ]
  },
  {
   "cell_type": "code",
   "execution_count": 249,
   "metadata": {},
   "outputs": [
    {
     "data": {
      "application/javascript": [
       "\n",
       "            setTimeout(function() {\n",
       "                var nbb_cell_id = 249;\n",
       "                var nbb_unformatted_code = \"from pyspark.ml.feature import Binarizer\";\n",
       "                var nbb_formatted_code = \"from pyspark.ml.feature import Binarizer\";\n",
       "                var nbb_cells = Jupyter.notebook.get_cells();\n",
       "                for (var i = 0; i < nbb_cells.length; ++i) {\n",
       "                    if (nbb_cells[i].input_prompt_number == nbb_cell_id) {\n",
       "                        if (nbb_cells[i].get_text() == nbb_unformatted_code) {\n",
       "                             nbb_cells[i].set_text(nbb_formatted_code);\n",
       "                        }\n",
       "                        break;\n",
       "                    }\n",
       "                }\n",
       "            }, 500);\n",
       "            "
      ],
      "text/plain": [
       "<IPython.core.display.Javascript object>"
      ]
     },
     "metadata": {},
     "output_type": "display_data"
    }
   ],
   "source": [
    "from pyspark.ml.feature import Binarizer"
   ]
  },
  {
   "cell_type": "code",
   "execution_count": 250,
   "metadata": {},
   "outputs": [
    {
     "name": "stdout",
     "output_type": "stream",
     "text": [
      "+--------------------+----+------+----+\n",
      "|                name|wins|losses| age|\n",
      "+--------------------+----+------+----+\n",
      "|Abdul Razak Alhassan|   3|     1|34.7|\n",
      "|  Abdul-Kerim Edilov|   1|  null|28.4|\n",
      "|       Abel Trujillo|null|     2|36.6|\n",
      "|         Abu Azaitar|   1|  null|34.1|\n",
      "|       Adam Milstead|null|     3|32.8|\n",
      "+--------------------+----+------+----+\n",
      "only showing top 5 rows\n",
      "\n"
     ]
    },
    {
     "data": {
      "application/javascript": [
       "\n",
       "            setTimeout(function() {\n",
       "                var nbb_cell_id = 250;\n",
       "                var nbb_unformatted_code = \"df = win_loss_data\\ndf.show(5)\";\n",
       "                var nbb_formatted_code = \"df = win_loss_data\\ndf.show(5)\";\n",
       "                var nbb_cells = Jupyter.notebook.get_cells();\n",
       "                for (var i = 0; i < nbb_cells.length; ++i) {\n",
       "                    if (nbb_cells[i].input_prompt_number == nbb_cell_id) {\n",
       "                        if (nbb_cells[i].get_text() == nbb_unformatted_code) {\n",
       "                             nbb_cells[i].set_text(nbb_formatted_code);\n",
       "                        }\n",
       "                        break;\n",
       "                    }\n",
       "                }\n",
       "            }, 500);\n",
       "            "
      ],
      "text/plain": [
       "<IPython.core.display.Javascript object>"
      ]
     },
     "metadata": {},
     "output_type": "display_data"
    }
   ],
   "source": [
    "df = win_loss_data\n",
    "df.show(5)"
   ]
  },
  {
   "cell_type": "code",
   "execution_count": 251,
   "metadata": {},
   "outputs": [
    {
     "name": "stdout",
     "output_type": "stream",
     "text": [
      "+--------------------+----+------+----+-------------+\n",
      "|                name|wins|losses| age|binarized_age|\n",
      "+--------------------+----+------+----+-------------+\n",
      "|Abdul Razak Alhassan|   3|     1|34.7|          1.0|\n",
      "|  Abdul-Kerim Edilov|   1|  null|28.4|          0.0|\n",
      "|       Abel Trujillo|null|     2|36.6|          1.0|\n",
      "|         Abu Azaitar|   1|  null|34.1|          1.0|\n",
      "|       Adam Milstead|null|     3|32.8|          1.0|\n",
      "|      Adam Wieczorek|   2|     1|28.2|          0.0|\n",
      "|        Adam Yandiev|null|     1|31.7|          1.0|\n",
      "|     Adriano Martins|null|     1|37.3|          1.0|\n",
      "|      Aiemann Zahabi|   1|     2|32.4|          1.0|\n",
      "|         Al Iaquinta|   2|     2|33.0|          1.0|\n",
      "|         Alan Jouban|   1|     3|38.4|          1.0|\n",
      "|        Alan Patrick|   1|     1|36.8|          1.0|\n",
      "|      Albert Morales|   1|     3|28.9|          0.0|\n",
      "|        Alberto Mina|null|     1|38.0|          1.0|\n",
      "|     Alejandro Perez|   4|     1|30.6|          1.0|\n",
      "|    Aleksandar Rakic|   4|  null|28.2|          0.0|\n",
      "|   Aleksei Kunchenko|   2|  null|36.0|          1.0|\n",
      "|     Aleksei Oleinik|   4|     2|42.8|          1.0|\n",
      "|      Alen Amedovski|null|     1|32.0|          1.0|\n",
      "|    Alessandro Ricci|null|     1|37.7|          1.0|\n",
      "+--------------------+----+------+----+-------------+\n",
      "only showing top 20 rows\n",
      "\n"
     ]
    },
    {
     "data": {
      "application/javascript": [
       "\n",
       "            setTimeout(function() {\n",
       "                var nbb_cell_id = 251;\n",
       "                var nbb_unformatted_code = \"binarizer = Binarizer(threshold=30, inputCol=\\\"age\\\", outputCol=\\\"binarized_age\\\")\\nbinarizer.transform(df).show(20)\";\n",
       "                var nbb_formatted_code = \"binarizer = Binarizer(threshold=30, inputCol=\\\"age\\\", outputCol=\\\"binarized_age\\\")\\nbinarizer.transform(df).show(20)\";\n",
       "                var nbb_cells = Jupyter.notebook.get_cells();\n",
       "                for (var i = 0; i < nbb_cells.length; ++i) {\n",
       "                    if (nbb_cells[i].input_prompt_number == nbb_cell_id) {\n",
       "                        if (nbb_cells[i].get_text() == nbb_unformatted_code) {\n",
       "                             nbb_cells[i].set_text(nbb_formatted_code);\n",
       "                        }\n",
       "                        break;\n",
       "                    }\n",
       "                }\n",
       "            }, 500);\n",
       "            "
      ],
      "text/plain": [
       "<IPython.core.display.Javascript object>"
      ]
     },
     "metadata": {},
     "output_type": "display_data"
    }
   ],
   "source": [
    "binarizer = Binarizer(threshold=30, inputCol=\"age\", outputCol=\"binarized_age\")\n",
    "binarizer.transform(df).show(20)"
   ]
  },
  {
   "cell_type": "markdown",
   "metadata": {},
   "source": [
    "### StringIndexer\n",
    "Function to provide a unique index for a particular column in question "
   ]
  },
  {
   "cell_type": "code",
   "execution_count": 252,
   "metadata": {},
   "outputs": [
    {
     "name": "stdout",
     "output_type": "stream",
     "text": [
      "+--------------------+----+------+----+----------+\n",
      "|                name|wins|losses| age|name_index|\n",
      "+--------------------+----+------+----+----------+\n",
      "|Abdul Razak Alhassan|   3|     1|34.7|       0.0|\n",
      "|  Abdul-Kerim Edilov|   1|  null|28.4|       1.0|\n",
      "|       Abel Trujillo|null|     2|36.6|       2.0|\n",
      "|         Abu Azaitar|   1|  null|34.1|       3.0|\n",
      "|       Adam Milstead|null|     3|32.8|       4.0|\n",
      "+--------------------+----+------+----+----------+\n",
      "only showing top 5 rows\n",
      "\n"
     ]
    },
    {
     "data": {
      "application/javascript": [
       "\n",
       "            setTimeout(function() {\n",
       "                var nbb_cell_id = 252;\n",
       "                var nbb_unformatted_code = \"from pyspark.ml.feature import StringIndexer\\n\\nindexer = StringIndexer(inputCol=\\\"name\\\", outputCol=\\\"name_index\\\")\\nindexerModel = indexer.fit(df)\\nindex = indexerModel.transform(df)\\nindex.show(5)\";\n",
       "                var nbb_formatted_code = \"from pyspark.ml.feature import StringIndexer\\n\\nindexer = StringIndexer(inputCol=\\\"name\\\", outputCol=\\\"name_index\\\")\\nindexerModel = indexer.fit(df)\\nindex = indexerModel.transform(df)\\nindex.show(5)\";\n",
       "                var nbb_cells = Jupyter.notebook.get_cells();\n",
       "                for (var i = 0; i < nbb_cells.length; ++i) {\n",
       "                    if (nbb_cells[i].input_prompt_number == nbb_cell_id) {\n",
       "                        if (nbb_cells[i].get_text() == nbb_unformatted_code) {\n",
       "                             nbb_cells[i].set_text(nbb_formatted_code);\n",
       "                        }\n",
       "                        break;\n",
       "                    }\n",
       "                }\n",
       "            }, 500);\n",
       "            "
      ],
      "text/plain": [
       "<IPython.core.display.Javascript object>"
      ]
     },
     "metadata": {},
     "output_type": "display_data"
    }
   ],
   "source": [
    "from pyspark.ml.feature import StringIndexer\n",
    "\n",
    "indexer = StringIndexer(inputCol=\"name\", outputCol=\"name_index\")\n",
    "indexerModel = indexer.fit(df)\n",
    "index = indexerModel.transform(df)\n",
    "index.show(5)"
   ]
  },
  {
   "cell_type": "markdown",
   "metadata": {},
   "source": [
    "### One-Hot-Encoder"
   ]
  },
  {
   "cell_type": "code",
   "execution_count": 253,
   "metadata": {},
   "outputs": [
    {
     "data": {
      "application/javascript": [
       "\n",
       "            setTimeout(function() {\n",
       "                var nbb_cell_id = 253;\n",
       "                var nbb_unformatted_code = \"from pyspark.ml.feature import OneHotEncoder\";\n",
       "                var nbb_formatted_code = \"from pyspark.ml.feature import OneHotEncoder\";\n",
       "                var nbb_cells = Jupyter.notebook.get_cells();\n",
       "                for (var i = 0; i < nbb_cells.length; ++i) {\n",
       "                    if (nbb_cells[i].input_prompt_number == nbb_cell_id) {\n",
       "                        if (nbb_cells[i].get_text() == nbb_unformatted_code) {\n",
       "                             nbb_cells[i].set_text(nbb_formatted_code);\n",
       "                        }\n",
       "                        break;\n",
       "                    }\n",
       "                }\n",
       "            }, 500);\n",
       "            "
      ],
      "text/plain": [
       "<IPython.core.display.Javascript object>"
      ]
     },
     "metadata": {},
     "output_type": "display_data"
    }
   ],
   "source": [
    "from pyspark.ml.feature import OneHotEncoder"
   ]
  },
  {
   "cell_type": "code",
   "execution_count": 254,
   "metadata": {},
   "outputs": [
    {
     "name": "stdout",
     "output_type": "stream",
     "text": [
      "+--------------------+----+------+----+----------+----------------+\n",
      "|                name|wins|losses| age|name_index|    encoded_name|\n",
      "+--------------------+----+------+----+----------+----------------+\n",
      "|Abdul Razak Alhassan|   3|     1|34.7|       0.0| (762,[0],[1.0])|\n",
      "|  Abdul-Kerim Edilov|   1|  null|28.4|       1.0| (762,[1],[1.0])|\n",
      "|       Abel Trujillo|null|     2|36.6|       2.0| (762,[2],[1.0])|\n",
      "|         Abu Azaitar|   1|  null|34.1|       3.0| (762,[3],[1.0])|\n",
      "|       Adam Milstead|null|     3|32.8|       4.0| (762,[4],[1.0])|\n",
      "|      Adam Wieczorek|   2|     1|28.2|       5.0| (762,[5],[1.0])|\n",
      "|        Adam Yandiev|null|     1|31.7|       6.0| (762,[6],[1.0])|\n",
      "|     Adriano Martins|null|     1|37.3|       7.0| (762,[7],[1.0])|\n",
      "|      Aiemann Zahabi|   1|     2|32.4|       8.0| (762,[8],[1.0])|\n",
      "|         Al Iaquinta|   2|     2|33.0|       9.0| (762,[9],[1.0])|\n",
      "|         Alan Jouban|   1|     3|38.4|      10.0|(762,[10],[1.0])|\n",
      "|        Alan Patrick|   1|     1|36.8|      11.0|(762,[11],[1.0])|\n",
      "|      Albert Morales|   1|     3|28.9|      12.0|(762,[12],[1.0])|\n",
      "|        Alberto Mina|null|     1|38.0|      13.0|(762,[13],[1.0])|\n",
      "|     Alejandro Perez|   4|     1|30.6|      14.0|(762,[14],[1.0])|\n",
      "|    Aleksandar Rakic|   4|  null|28.2|      15.0|(762,[15],[1.0])|\n",
      "|   Aleksei Kunchenko|   2|  null|36.0|      16.0|(762,[16],[1.0])|\n",
      "|     Aleksei Oleinik|   4|     2|42.8|      17.0|(762,[17],[1.0])|\n",
      "|      Alen Amedovski|null|     1|32.0|      18.0|(762,[18],[1.0])|\n",
      "|    Alessandro Ricci|null|     1|37.7|      19.0|(762,[19],[1.0])|\n",
      "+--------------------+----+------+----+----------+----------------+\n",
      "only showing top 20 rows\n",
      "\n"
     ]
    },
    {
     "data": {
      "application/javascript": [
       "\n",
       "            setTimeout(function() {\n",
       "                var nbb_cell_id = 254;\n",
       "                var nbb_unformatted_code = \"encoder = OneHotEncoder(inputCols=[\\\"name_index\\\"], outputCols=[\\\"encoded_name\\\"])\\n\\nencoderModel = encoder.fit(index)\\n\\nencodedDF = encoderModel.transform(index)\\n\\nencodedDF.show()\";\n",
       "                var nbb_formatted_code = \"encoder = OneHotEncoder(inputCols=[\\\"name_index\\\"], outputCols=[\\\"encoded_name\\\"])\\n\\nencoderModel = encoder.fit(index)\\n\\nencodedDF = encoderModel.transform(index)\\n\\nencodedDF.show()\";\n",
       "                var nbb_cells = Jupyter.notebook.get_cells();\n",
       "                for (var i = 0; i < nbb_cells.length; ++i) {\n",
       "                    if (nbb_cells[i].input_prompt_number == nbb_cell_id) {\n",
       "                        if (nbb_cells[i].get_text() == nbb_unformatted_code) {\n",
       "                             nbb_cells[i].set_text(nbb_formatted_code);\n",
       "                        }\n",
       "                        break;\n",
       "                    }\n",
       "                }\n",
       "            }, 500);\n",
       "            "
      ],
      "text/plain": [
       "<IPython.core.display.Javascript object>"
      ]
     },
     "metadata": {},
     "output_type": "display_data"
    }
   ],
   "source": [
    "encoder = OneHotEncoder(inputCols=[\"name_index\"], outputCols=[\"encoded_name\"])\n",
    "\n",
    "encoderModel = encoder.fit(index)\n",
    "\n",
    "encodedDF = encoderModel.transform(index)\n",
    "\n",
    "encodedDF.show()"
   ]
  },
  {
   "cell_type": "markdown",
   "metadata": {},
   "source": [
    "# Pipeline\n",
    "Fitting different estimators and transformers into one\n"
   ]
  },
  {
   "cell_type": "code",
   "execution_count": 156,
   "metadata": {},
   "outputs": [
    {
     "data": {
      "application/javascript": [
       "\n",
       "            setTimeout(function() {\n",
       "                var nbb_cell_id = 156;\n",
       "                var nbb_unformatted_code = \"from pyspark.ml import Pipeline\";\n",
       "                var nbb_formatted_code = \"from pyspark.ml import Pipeline\";\n",
       "                var nbb_cells = Jupyter.notebook.get_cells();\n",
       "                for (var i = 0; i < nbb_cells.length; ++i) {\n",
       "                    if (nbb_cells[i].input_prompt_number == nbb_cell_id) {\n",
       "                        if (nbb_cells[i].get_text() == nbb_unformatted_code) {\n",
       "                             nbb_cells[i].set_text(nbb_formatted_code);\n",
       "                        }\n",
       "                        break;\n",
       "                    }\n",
       "                }\n",
       "            }, 500);\n",
       "            "
      ],
      "text/plain": [
       "<IPython.core.display.Javascript object>"
      ]
     },
     "metadata": {},
     "output_type": "display_data"
    }
   ],
   "source": [
    "from pyspark.ml import Pipeline"
   ]
  },
  {
   "cell_type": "code",
   "execution_count": 157,
   "metadata": {},
   "outputs": [
    {
     "data": {
      "application/javascript": [
       "\n",
       "            setTimeout(function() {\n",
       "                var nbb_cell_id = 157;\n",
       "                var nbb_unformatted_code = \"pipeline = Pipeline(stages=[binarizer, indexer])\";\n",
       "                var nbb_formatted_code = \"pipeline = Pipeline(stages=[binarizer, indexer])\";\n",
       "                var nbb_cells = Jupyter.notebook.get_cells();\n",
       "                for (var i = 0; i < nbb_cells.length; ++i) {\n",
       "                    if (nbb_cells[i].input_prompt_number == nbb_cell_id) {\n",
       "                        if (nbb_cells[i].get_text() == nbb_unformatted_code) {\n",
       "                             nbb_cells[i].set_text(nbb_formatted_code);\n",
       "                        }\n",
       "                        break;\n",
       "                    }\n",
       "                }\n",
       "            }, 500);\n",
       "            "
      ],
      "text/plain": [
       "<IPython.core.display.Javascript object>"
      ]
     },
     "metadata": {},
     "output_type": "display_data"
    }
   ],
   "source": [
    "pipeline = Pipeline(stages=[binarizer, indexer])"
   ]
  },
  {
   "cell_type": "code",
   "execution_count": 158,
   "metadata": {},
   "outputs": [
    {
     "name": "stdout",
     "output_type": "stream",
     "text": [
      "+--------------------+----+------+----+-------------+----------+\n",
      "|                name|wins|losses| age|binarized_age|name_index|\n",
      "+--------------------+----+------+----+-------------+----------+\n",
      "|Abdul Razak Alhassan|   3|     1|34.7|          1.0|       0.0|\n",
      "|  Abdul-Kerim Edilov|   1|  null|28.4|          0.0|       1.0|\n",
      "|       Abel Trujillo|null|     2|36.6|          1.0|       2.0|\n",
      "|         Abu Azaitar|   1|  null|34.1|          1.0|       3.0|\n",
      "|       Adam Milstead|null|     3|32.8|          1.0|       4.0|\n",
      "|      Adam Wieczorek|   2|     1|28.2|          0.0|       5.0|\n",
      "|        Adam Yandiev|null|     1|31.7|          1.0|       6.0|\n",
      "|     Adriano Martins|null|     1|37.3|          1.0|       7.0|\n",
      "|      Aiemann Zahabi|   1|     2|32.4|          1.0|       8.0|\n",
      "|         Al Iaquinta|   2|     2|33.0|          1.0|       9.0|\n",
      "|         Alan Jouban|   1|     3|38.4|          1.0|      10.0|\n",
      "|        Alan Patrick|   1|     1|36.8|          1.0|      11.0|\n",
      "|      Albert Morales|   1|     3|28.9|          0.0|      12.0|\n",
      "|        Alberto Mina|null|     1|38.0|          1.0|      13.0|\n",
      "|     Alejandro Perez|   4|     1|30.6|          1.0|      14.0|\n",
      "|    Aleksandar Rakic|   4|  null|28.2|          0.0|      15.0|\n",
      "|   Aleksei Kunchenko|   2|  null|36.0|          1.0|      16.0|\n",
      "|     Aleksei Oleinik|   4|     2|42.8|          1.0|      17.0|\n",
      "|      Alen Amedovski|null|     1|32.0|          1.0|      18.0|\n",
      "|    Alessandro Ricci|null|     1|37.7|          1.0|      19.0|\n",
      "+--------------------+----+------+----+-------------+----------+\n",
      "only showing top 20 rows\n",
      "\n"
     ]
    },
    {
     "data": {
      "application/javascript": [
       "\n",
       "            setTimeout(function() {\n",
       "                var nbb_cell_id = 158;\n",
       "                var nbb_unformatted_code = \"pipelineModel = pipeline.fit(df)\\ntransformeddf = pipelineModel.transform(df)\\ntransformeddf.show()\";\n",
       "                var nbb_formatted_code = \"pipelineModel = pipeline.fit(df)\\ntransformeddf = pipelineModel.transform(df)\\ntransformeddf.show()\";\n",
       "                var nbb_cells = Jupyter.notebook.get_cells();\n",
       "                for (var i = 0; i < nbb_cells.length; ++i) {\n",
       "                    if (nbb_cells[i].input_prompt_number == nbb_cell_id) {\n",
       "                        if (nbb_cells[i].get_text() == nbb_unformatted_code) {\n",
       "                             nbb_cells[i].set_text(nbb_formatted_code);\n",
       "                        }\n",
       "                        break;\n",
       "                    }\n",
       "                }\n",
       "            }, 500);\n",
       "            "
      ],
      "text/plain": [
       "<IPython.core.display.Javascript object>"
      ]
     },
     "metadata": {},
     "output_type": "display_data"
    }
   ],
   "source": [
    "pipelineModel = pipeline.fit(df)\n",
    "transformeddf = pipelineModel.transform(df)\n",
    "transformeddf.show()"
   ]
  },
  {
   "cell_type": "markdown",
   "metadata": {},
   "source": [
    "### Train/Test Split"
   ]
  },
  {
   "cell_type": "code",
   "execution_count": 265,
   "metadata": {},
   "outputs": [
    {
     "name": "stdout",
     "output_type": "stream",
     "text": [
      "154 609\n"
     ]
    },
    {
     "data": {
      "application/javascript": [
       "\n",
       "            setTimeout(function() {\n",
       "                var nbb_cell_id = 265;\n",
       "                var nbb_unformatted_code = \"seed = 42\\n(testDF, trainDF) = df.randomSplit((0.2, 0.8), seed=seed)\\n\\nprint(testDF.count(), trainDF.count())\";\n",
       "                var nbb_formatted_code = \"seed = 42\\n(testDF, trainDF) = df.randomSplit((0.2, 0.8), seed=seed)\\n\\nprint(testDF.count(), trainDF.count())\";\n",
       "                var nbb_cells = Jupyter.notebook.get_cells();\n",
       "                for (var i = 0; i < nbb_cells.length; ++i) {\n",
       "                    if (nbb_cells[i].input_prompt_number == nbb_cell_id) {\n",
       "                        if (nbb_cells[i].get_text() == nbb_unformatted_code) {\n",
       "                             nbb_cells[i].set_text(nbb_formatted_code);\n",
       "                        }\n",
       "                        break;\n",
       "                    }\n",
       "                }\n",
       "            }, 500);\n",
       "            "
      ],
      "text/plain": [
       "<IPython.core.display.Javascript object>"
      ]
     },
     "metadata": {},
     "output_type": "display_data"
    }
   ],
   "source": [
    "seed = 42\n",
    "(testDF, trainDF) = df.randomSplit((0.2, 0.8), seed=seed)\n",
    "\n",
    "print(testDF.count(), trainDF.count())"
   ]
  },
  {
   "cell_type": "code",
   "execution_count": 266,
   "metadata": {},
   "outputs": [
    {
     "name": "stdout",
     "output_type": "stream",
     "text": [
      "+--------------------+----+------+----+\n",
      "|                name|wins|losses| age|\n",
      "+--------------------+----+------+----+\n",
      "|Abdul Razak Alhassan|   3|     1|34.7|\n",
      "|  Abdul-Kerim Edilov|   1|  null|28.4|\n",
      "|       Abel Trujillo|null|     2|36.6|\n",
      "|         Abu Azaitar|   1|  null|34.1|\n",
      "|       Adam Milstead|null|     3|32.8|\n",
      "|      Adam Wieczorek|   2|     1|28.2|\n",
      "|        Adam Yandiev|null|     1|31.7|\n",
      "|     Adriano Martins|null|     1|37.3|\n",
      "|      Aiemann Zahabi|   1|     2|32.4|\n",
      "|         Al Iaquinta|   2|     2|33.0|\n",
      "|         Alan Jouban|   1|     3|38.4|\n",
      "|        Alan Patrick|   1|     1|36.8|\n",
      "|      Albert Morales|   1|     3|28.9|\n",
      "|        Alberto Mina|null|     1|38.0|\n",
      "|     Alejandro Perez|   4|     1|30.6|\n",
      "|    Aleksandar Rakic|   4|  null|28.2|\n",
      "|   Aleksei Kunchenko|   2|  null|36.0|\n",
      "|     Aleksei Oleinik|   4|     2|42.8|\n",
      "|      Alen Amedovski|null|     1|32.0|\n",
      "|    Alessandro Ricci|null|     1|37.7|\n",
      "+--------------------+----+------+----+\n",
      "only showing top 20 rows\n",
      "\n"
     ]
    },
    {
     "data": {
      "application/javascript": [
       "\n",
       "            setTimeout(function() {\n",
       "                var nbb_cell_id = 266;\n",
       "                var nbb_unformatted_code = \"df.show()\";\n",
       "                var nbb_formatted_code = \"df.show()\";\n",
       "                var nbb_cells = Jupyter.notebook.get_cells();\n",
       "                for (var i = 0; i < nbb_cells.length; ++i) {\n",
       "                    if (nbb_cells[i].input_prompt_number == nbb_cell_id) {\n",
       "                        if (nbb_cells[i].get_text() == nbb_unformatted_code) {\n",
       "                             nbb_cells[i].set_text(nbb_formatted_code);\n",
       "                        }\n",
       "                        break;\n",
       "                    }\n",
       "                }\n",
       "            }, 500);\n",
       "            "
      ],
      "text/plain": [
       "<IPython.core.display.Javascript object>"
      ]
     },
     "metadata": {},
     "output_type": "display_data"
    }
   ],
   "source": [
    "df.show()"
   ]
  },
  {
   "cell_type": "code",
   "execution_count": 276,
   "metadata": {},
   "outputs": [
    {
     "data": {
      "application/javascript": [
       "\n",
       "            setTimeout(function() {\n",
       "                var nbb_cell_id = 276;\n",
       "                var nbb_unformatted_code = \"df=df.na.drop()\";\n",
       "                var nbb_formatted_code = \"df = df.na.drop()\";\n",
       "                var nbb_cells = Jupyter.notebook.get_cells();\n",
       "                for (var i = 0; i < nbb_cells.length; ++i) {\n",
       "                    if (nbb_cells[i].input_prompt_number == nbb_cell_id) {\n",
       "                        if (nbb_cells[i].get_text() == nbb_unformatted_code) {\n",
       "                             nbb_cells[i].set_text(nbb_formatted_code);\n",
       "                        }\n",
       "                        break;\n",
       "                    }\n",
       "                }\n",
       "            }, 500);\n",
       "            "
      ],
      "text/plain": [
       "<IPython.core.display.Javascript object>"
      ]
     },
     "metadata": {},
     "output_type": "display_data"
    }
   ],
   "source": [
    "df = df.na.drop()"
   ]
  },
  {
   "cell_type": "code",
   "execution_count": 277,
   "metadata": {},
   "outputs": [
    {
     "name": "stdout",
     "output_type": "stream",
     "text": [
      "+--------------------+----+------+----+\n",
      "|                name|wins|losses| age|\n",
      "+--------------------+----+------+----+\n",
      "|Abdul Razak Alhassan|   3|     1|34.7|\n",
      "|      Adam Wieczorek|   2|     1|28.2|\n",
      "|      Aiemann Zahabi|   1|     2|32.4|\n",
      "|         Al Iaquinta|   2|     2|33.0|\n",
      "|         Alan Jouban|   1|     3|38.4|\n",
      "|        Alan Patrick|   1|     1|36.8|\n",
      "|      Albert Morales|   1|     3|28.9|\n",
      "|     Alejandro Perez|   4|     1|30.6|\n",
      "|     Aleksei Oleinik|   4|     2|42.8|\n",
      "|  Alessio Di Chirico|   2|     1|30.4|\n",
      "|        Alex Caceres|   2|     3|31.8|\n",
      "|         Alex Garcia|   1|     3|32.8|\n",
      "|         Alex Morono|   3|     3|29.7|\n",
      "|       Alex Oliveira|   4|     3|32.2|\n",
      "|          Alex Perez|   4|     1|28.1|\n",
      "|          Alex White|   2|     3|31.5|\n",
      "|        Alexa Grasso|   2|     2|26.7|\n",
      "|Alexander Gustafsson|   1|     2|33.3|\n",
      "| Alexander Hernandez|   2|     1|27.5|\n",
      "|    Alexander Volkov|   3|     1|31.5|\n",
      "+--------------------+----+------+----+\n",
      "only showing top 20 rows\n",
      "\n"
     ]
    },
    {
     "data": {
      "application/javascript": [
       "\n",
       "            setTimeout(function() {\n",
       "                var nbb_cell_id = 277;\n",
       "                var nbb_unformatted_code = \"df.show()\";\n",
       "                var nbb_formatted_code = \"df.show()\";\n",
       "                var nbb_cells = Jupyter.notebook.get_cells();\n",
       "                for (var i = 0; i < nbb_cells.length; ++i) {\n",
       "                    if (nbb_cells[i].input_prompt_number == nbb_cell_id) {\n",
       "                        if (nbb_cells[i].get_text() == nbb_unformatted_code) {\n",
       "                             nbb_cells[i].set_text(nbb_formatted_code);\n",
       "                        }\n",
       "                        break;\n",
       "                    }\n",
       "                }\n",
       "            }, 500);\n",
       "            "
      ],
      "text/plain": [
       "<IPython.core.display.Javascript object>"
      ]
     },
     "metadata": {},
     "output_type": "display_data"
    }
   ],
   "source": [
    "df.show()"
   ]
  },
  {
   "cell_type": "code",
   "execution_count": 278,
   "metadata": {},
   "outputs": [
    {
     "data": {
      "application/javascript": [
       "\n",
       "            setTimeout(function() {\n",
       "                var nbb_cell_id = 278;\n",
       "                var nbb_unformatted_code = \"featureassembler = VectorAssembler(inputCols=[\\\"losses\\\", \\\"age\\\",], outputCol=\\\"features\\\",)\\n\\noutput = featureassembler.transform(df)\";\n",
       "                var nbb_formatted_code = \"featureassembler = VectorAssembler(inputCols=[\\\"losses\\\", \\\"age\\\",], outputCol=\\\"features\\\",)\\n\\noutput = featureassembler.transform(df)\";\n",
       "                var nbb_cells = Jupyter.notebook.get_cells();\n",
       "                for (var i = 0; i < nbb_cells.length; ++i) {\n",
       "                    if (nbb_cells[i].input_prompt_number == nbb_cell_id) {\n",
       "                        if (nbb_cells[i].get_text() == nbb_unformatted_code) {\n",
       "                             nbb_cells[i].set_text(nbb_formatted_code);\n",
       "                        }\n",
       "                        break;\n",
       "                    }\n",
       "                }\n",
       "            }, 500);\n",
       "            "
      ],
      "text/plain": [
       "<IPython.core.display.Javascript object>"
      ]
     },
     "metadata": {},
     "output_type": "display_data"
    }
   ],
   "source": [
    "featureassembler = VectorAssembler(inputCols=[\"losses\", \"age\",], outputCol=\"features\",)\n",
    "\n",
    "output = featureassembler.transform(df)"
   ]
  },
  {
   "cell_type": "code",
   "execution_count": 279,
   "metadata": {},
   "outputs": [
    {
     "name": "stdout",
     "output_type": "stream",
     "text": [
      "+--------------------+----+------+----+----------+\n",
      "|                name|wins|losses| age|  features|\n",
      "+--------------------+----+------+----+----------+\n",
      "|Abdul Razak Alhassan|   3|     1|34.7|[1.0,34.7]|\n",
      "|      Adam Wieczorek|   2|     1|28.2|[1.0,28.2]|\n",
      "|      Aiemann Zahabi|   1|     2|32.4|[2.0,32.4]|\n",
      "|         Al Iaquinta|   2|     2|33.0|[2.0,33.0]|\n",
      "|         Alan Jouban|   1|     3|38.4|[3.0,38.4]|\n",
      "|        Alan Patrick|   1|     1|36.8|[1.0,36.8]|\n",
      "|      Albert Morales|   1|     3|28.9|[3.0,28.9]|\n",
      "|     Alejandro Perez|   4|     1|30.6|[1.0,30.6]|\n",
      "|     Aleksei Oleinik|   4|     2|42.8|[2.0,42.8]|\n",
      "|  Alessio Di Chirico|   2|     1|30.4|[1.0,30.4]|\n",
      "|        Alex Caceres|   2|     3|31.8|[3.0,31.8]|\n",
      "|         Alex Garcia|   1|     3|32.8|[3.0,32.8]|\n",
      "|         Alex Morono|   3|     3|29.7|[3.0,29.7]|\n",
      "|       Alex Oliveira|   4|     3|32.2|[3.0,32.2]|\n",
      "|          Alex Perez|   4|     1|28.1|[1.0,28.1]|\n",
      "|          Alex White|   2|     3|31.5|[3.0,31.5]|\n",
      "|        Alexa Grasso|   2|     2|26.7|[2.0,26.7]|\n",
      "|Alexander Gustafsson|   1|     2|33.3|[2.0,33.3]|\n",
      "| Alexander Hernandez|   2|     1|27.5|[1.0,27.5]|\n",
      "|    Alexander Volkov|   3|     1|31.5|[1.0,31.5]|\n",
      "+--------------------+----+------+----+----------+\n",
      "only showing top 20 rows\n",
      "\n"
     ]
    },
    {
     "data": {
      "application/javascript": [
       "\n",
       "            setTimeout(function() {\n",
       "                var nbb_cell_id = 279;\n",
       "                var nbb_unformatted_code = \"output.show()\";\n",
       "                var nbb_formatted_code = \"output.show()\";\n",
       "                var nbb_cells = Jupyter.notebook.get_cells();\n",
       "                for (var i = 0; i < nbb_cells.length; ++i) {\n",
       "                    if (nbb_cells[i].input_prompt_number == nbb_cell_id) {\n",
       "                        if (nbb_cells[i].get_text() == nbb_unformatted_code) {\n",
       "                             nbb_cells[i].set_text(nbb_formatted_code);\n",
       "                        }\n",
       "                        break;\n",
       "                    }\n",
       "                }\n",
       "            }, 500);\n",
       "            "
      ],
      "text/plain": [
       "<IPython.core.display.Javascript object>"
      ]
     },
     "metadata": {},
     "output_type": "display_data"
    }
   ],
   "source": [
    "output.show()"
   ]
  },
  {
   "cell_type": "code",
   "execution_count": 280,
   "metadata": {},
   "outputs": [
    {
     "name": "stdout",
     "output_type": "stream",
     "text": [
      "+----------+----+\n",
      "|  features|wins|\n",
      "+----------+----+\n",
      "|[1.0,34.7]|   3|\n",
      "|[1.0,28.2]|   2|\n",
      "|[2.0,32.4]|   1|\n",
      "|[2.0,33.0]|   2|\n",
      "|[3.0,38.4]|   1|\n",
      "|[1.0,36.8]|   1|\n",
      "|[3.0,28.9]|   1|\n",
      "|[1.0,30.6]|   4|\n",
      "|[2.0,42.8]|   4|\n",
      "|[1.0,30.4]|   2|\n",
      "|[3.0,31.8]|   2|\n",
      "|[3.0,32.8]|   1|\n",
      "|[3.0,29.7]|   3|\n",
      "|[3.0,32.2]|   4|\n",
      "|[1.0,28.1]|   4|\n",
      "|[3.0,31.5]|   2|\n",
      "|[2.0,26.7]|   2|\n",
      "|[2.0,33.3]|   1|\n",
      "|[1.0,27.5]|   2|\n",
      "|[1.0,31.5]|   3|\n",
      "+----------+----+\n",
      "only showing top 20 rows\n",
      "\n"
     ]
    },
    {
     "data": {
      "application/javascript": [
       "\n",
       "            setTimeout(function() {\n",
       "                var nbb_cell_id = 280;\n",
       "                var nbb_unformatted_code = \"final_data = output.select(\\\"features\\\", \\\"wins\\\")\\nfinal_data.show()\";\n",
       "                var nbb_formatted_code = \"final_data = output.select(\\\"features\\\", \\\"wins\\\")\\nfinal_data.show()\";\n",
       "                var nbb_cells = Jupyter.notebook.get_cells();\n",
       "                for (var i = 0; i < nbb_cells.length; ++i) {\n",
       "                    if (nbb_cells[i].input_prompt_number == nbb_cell_id) {\n",
       "                        if (nbb_cells[i].get_text() == nbb_unformatted_code) {\n",
       "                             nbb_cells[i].set_text(nbb_formatted_code);\n",
       "                        }\n",
       "                        break;\n",
       "                    }\n",
       "                }\n",
       "            }, 500);\n",
       "            "
      ],
      "text/plain": [
       "<IPython.core.display.Javascript object>"
      ]
     },
     "metadata": {},
     "output_type": "display_data"
    }
   ],
   "source": [
    "final_data = output.select(\"features\", \"wins\")\n",
    "final_data.show()"
   ]
  },
  {
   "cell_type": "code",
   "execution_count": 283,
   "metadata": {},
   "outputs": [
    {
     "data": {
      "application/javascript": [
       "\n",
       "            setTimeout(function() {\n",
       "                var nbb_cell_id = 283;\n",
       "                var nbb_unformatted_code = \"(testDF, trainDF) = final_data.randomSplit((0.2, 0.8), seed=seed)\";\n",
       "                var nbb_formatted_code = \"(testDF, trainDF) = final_data.randomSplit((0.2, 0.8), seed=seed)\";\n",
       "                var nbb_cells = Jupyter.notebook.get_cells();\n",
       "                for (var i = 0; i < nbb_cells.length; ++i) {\n",
       "                    if (nbb_cells[i].input_prompt_number == nbb_cell_id) {\n",
       "                        if (nbb_cells[i].get_text() == nbb_unformatted_code) {\n",
       "                             nbb_cells[i].set_text(nbb_formatted_code);\n",
       "                        }\n",
       "                        break;\n",
       "                    }\n",
       "                }\n",
       "            }, 500);\n",
       "            "
      ],
      "text/plain": [
       "<IPython.core.display.Javascript object>"
      ]
     },
     "metadata": {},
     "output_type": "display_data"
    }
   ],
   "source": [
    "(testDF, trainDF) = final_data.randomSplit((0.2, 0.8), seed=seed)"
   ]
  },
  {
   "cell_type": "code",
   "execution_count": 284,
   "metadata": {},
   "outputs": [
    {
     "data": {
      "application/javascript": [
       "\n",
       "            setTimeout(function() {\n",
       "                var nbb_cell_id = 284;\n",
       "                var nbb_unformatted_code = \"regressor = LinearRegression(featuresCol=\\\"features\\\", labelCol=\\\"wins\\\")\\nregressor = regressor.fit(trainDF)\";\n",
       "                var nbb_formatted_code = \"regressor = LinearRegression(featuresCol=\\\"features\\\", labelCol=\\\"wins\\\")\\nregressor = regressor.fit(trainDF)\";\n",
       "                var nbb_cells = Jupyter.notebook.get_cells();\n",
       "                for (var i = 0; i < nbb_cells.length; ++i) {\n",
       "                    if (nbb_cells[i].input_prompt_number == nbb_cell_id) {\n",
       "                        if (nbb_cells[i].get_text() == nbb_unformatted_code) {\n",
       "                             nbb_cells[i].set_text(nbb_formatted_code);\n",
       "                        }\n",
       "                        break;\n",
       "                    }\n",
       "                }\n",
       "            }, 500);\n",
       "            "
      ],
      "text/plain": [
       "<IPython.core.display.Javascript object>"
      ]
     },
     "metadata": {},
     "output_type": "display_data"
    }
   ],
   "source": [
    "regressor = LinearRegression(featuresCol=\"features\", labelCol=\"wins\")\n",
    "regressor = regressor.fit(trainDF)"
   ]
  },
  {
   "cell_type": "code",
   "execution_count": 285,
   "metadata": {},
   "outputs": [
    {
     "name": "stdout",
     "output_type": "stream",
     "text": [
      "+----------+----+------------------+\n",
      "|  features|wins|        prediction|\n",
      "+----------+----+------------------+\n",
      "|[1.0,25.1]|   1|2.1494544779285687|\n",
      "|[1.0,26.8]|   2|2.1716017712195512|\n",
      "|[1.0,27.3]|   1|2.1781156810110165|\n",
      "|[1.0,27.8]|   1| 2.184629590802482|\n",
      "|[1.0,28.3]|   1|2.1911435005939475|\n",
      "|[1.0,28.3]|   2|2.1911435005939475|\n",
      "|[1.0,29.2]|   2|2.2028685382185853|\n",
      "|[1.0,29.2]|   6|2.2028685382185853|\n",
      "|[1.0,30.0]|   1|  2.21329079388493|\n",
      "|[1.0,30.2]|   2|2.2158963578015163|\n",
      "|[1.0,30.3]|   3|2.2171991397598094|\n",
      "|[1.0,30.4]|   1|2.2185019217181026|\n",
      "|[1.0,30.4]|   2|2.2185019217181026|\n",
      "|[1.0,30.5]|   3|2.2198047036763957|\n",
      "|[1.0,31.3]|   3|2.2302269593427404|\n",
      "|[1.0,31.7]|   1| 2.235438087175913|\n",
      "|[1.0,31.8]|   2|2.2367408691342057|\n",
      "|[1.0,32.6]|   2| 2.247163124800551|\n",
      "|[1.0,32.8]|   4|2.2497686887171366|\n",
      "|[1.0,32.8]|   5|2.2497686887171366|\n",
      "+----------+----+------------------+\n",
      "only showing top 20 rows\n",
      "\n"
     ]
    },
    {
     "data": {
      "application/javascript": [
       "\n",
       "            setTimeout(function() {\n",
       "                var nbb_cell_id = 285;\n",
       "                var nbb_unformatted_code = \"pred_results = regressor.evaluate(testDF)\\npred_results.predictions.show()\";\n",
       "                var nbb_formatted_code = \"pred_results = regressor.evaluate(testDF)\\npred_results.predictions.show()\";\n",
       "                var nbb_cells = Jupyter.notebook.get_cells();\n",
       "                for (var i = 0; i < nbb_cells.length; ++i) {\n",
       "                    if (nbb_cells[i].input_prompt_number == nbb_cell_id) {\n",
       "                        if (nbb_cells[i].get_text() == nbb_unformatted_code) {\n",
       "                             nbb_cells[i].set_text(nbb_formatted_code);\n",
       "                        }\n",
       "                        break;\n",
       "                    }\n",
       "                }\n",
       "            }, 500);\n",
       "            "
      ],
      "text/plain": [
       "<IPython.core.display.Javascript object>"
      ]
     },
     "metadata": {},
     "output_type": "display_data"
    }
   ],
   "source": [
    "pred_results = regressor.evaluate(testDF)\n",
    "pred_results.predictions.show()"
   ]
  },
  {
   "cell_type": "code",
   "execution_count": null,
   "metadata": {},
   "outputs": [],
   "source": []
  },
  {
   "cell_type": "code",
   "execution_count": null,
   "metadata": {},
   "outputs": [],
   "source": []
  },
  {
   "cell_type": "code",
   "execution_count": null,
   "metadata": {},
   "outputs": [],
   "source": [
    "\n",
    "\n",
    "\n",
    "\n",
    "\n"
   ]
  },
  {
   "cell_type": "markdown",
   "metadata": {},
   "source": [
    "### Linear Regression with PySpark\n",
    "Machine Learning with pySpark follows a slightly different train/test configuration than pandas/sklearn. Features used to train the module cannot be fed individually, but instead has to be merged into a single 1D array/vector."
   ]
  },
  {
   "cell_type": "code",
   "execution_count": 244,
   "metadata": {},
   "outputs": [
    {
     "data": {
      "application/javascript": [
       "\n",
       "            setTimeout(function() {\n",
       "                var nbb_cell_id = 244;\n",
       "                var nbb_unformatted_code = \"from pyspark.ml.linalg import Vectors\\nfrom pyspark.ml.feature import VectorAssembler\";\n",
       "                var nbb_formatted_code = \"from pyspark.ml.linalg import Vectors\\nfrom pyspark.ml.feature import VectorAssembler\";\n",
       "                var nbb_cells = Jupyter.notebook.get_cells();\n",
       "                for (var i = 0; i < nbb_cells.length; ++i) {\n",
       "                    if (nbb_cells[i].input_prompt_number == nbb_cell_id) {\n",
       "                        if (nbb_cells[i].get_text() == nbb_unformatted_code) {\n",
       "                             nbb_cells[i].set_text(nbb_formatted_code);\n",
       "                        }\n",
       "                        break;\n",
       "                    }\n",
       "                }\n",
       "            }, 500);\n",
       "            "
      ],
      "text/plain": [
       "<IPython.core.display.Javascript object>"
      ]
     },
     "metadata": {},
     "output_type": "display_data"
    }
   ],
   "source": [
    "from pyspark.ml.linalg import Vectors\n",
    "from pyspark.ml.feature import VectorAssembler"
   ]
  },
  {
   "cell_type": "code",
   "execution_count": 237,
   "metadata": {},
   "outputs": [
    {
     "data": {
      "application/javascript": [
       "\n",
       "            setTimeout(function() {\n",
       "                var nbb_cell_id = 237;\n",
       "                var nbb_unformatted_code = \"df = spark.read.csv(\\\"Ecommerce_Customers.csv\\\", header=True, inferSchema=True)\";\n",
       "                var nbb_formatted_code = \"df = spark.read.csv(\\\"Ecommerce_Customers.csv\\\", header=True, inferSchema=True)\";\n",
       "                var nbb_cells = Jupyter.notebook.get_cells();\n",
       "                for (var i = 0; i < nbb_cells.length; ++i) {\n",
       "                    if (nbb_cells[i].input_prompt_number == nbb_cell_id) {\n",
       "                        if (nbb_cells[i].get_text() == nbb_unformatted_code) {\n",
       "                             nbb_cells[i].set_text(nbb_formatted_code);\n",
       "                        }\n",
       "                        break;\n",
       "                    }\n",
       "                }\n",
       "            }, 500);\n",
       "            "
      ],
      "text/plain": [
       "<IPython.core.display.Javascript object>"
      ]
     },
     "metadata": {},
     "output_type": "display_data"
    }
   ],
   "source": [
    "df = spark.read.csv(\"Ecommerce_Customers.csv\", header=True, inferSchema=True)"
   ]
  },
  {
   "cell_type": "code",
   "execution_count": 238,
   "metadata": {},
   "outputs": [
    {
     "name": "stdout",
     "output_type": "stream",
     "text": [
      "+--------------------+--------------------+------------------+-----------+---------------+--------------------+-------------------+\n",
      "|               Email|             Address|Avg Session Length|Time on App|Time on Website|Length of Membership|Yearly Amount Spent|\n",
      "+--------------------+--------------------+------------------+-----------+---------------+--------------------+-------------------+\n",
      "|mstephenson@ferna...|835 Frank TunnelW...|       34.49726773|12.65565115|    39.57766802|         4.082620633|         587.951054|\n",
      "|   hduke@hotmail.com|4547 Archer Commo...|       31.92627203|11.10946073|    37.26895887|         2.664034182|        392.2049334|\n",
      "|    pallen@yahoo.com|24645 Valerie Uni...|       33.00091476|11.33027806|    37.11059744|         4.104543202|        487.5475049|\n",
      "|riverarebecca@gma...|1414 David Throug...|       34.30555663|13.71751367|    36.72128268|         3.120178783|         581.852344|\n",
      "|mstephens@davidso...|14023 Rodriguez P...|       33.33067252|12.79518855|     37.5366533|         4.446308318|         599.406092|\n",
      "+--------------------+--------------------+------------------+-----------+---------------+--------------------+-------------------+\n",
      "only showing top 5 rows\n",
      "\n"
     ]
    },
    {
     "data": {
      "application/javascript": [
       "\n",
       "            setTimeout(function() {\n",
       "                var nbb_cell_id = 238;\n",
       "                var nbb_unformatted_code = \"df.show(5)\";\n",
       "                var nbb_formatted_code = \"df.show(5)\";\n",
       "                var nbb_cells = Jupyter.notebook.get_cells();\n",
       "                for (var i = 0; i < nbb_cells.length; ++i) {\n",
       "                    if (nbb_cells[i].input_prompt_number == nbb_cell_id) {\n",
       "                        if (nbb_cells[i].get_text() == nbb_unformatted_code) {\n",
       "                             nbb_cells[i].set_text(nbb_formatted_code);\n",
       "                        }\n",
       "                        break;\n",
       "                    }\n",
       "                }\n",
       "            }, 500);\n",
       "            "
      ],
      "text/plain": [
       "<IPython.core.display.Javascript object>"
      ]
     },
     "metadata": {},
     "output_type": "display_data"
    }
   ],
   "source": [
    "df.show(5)"
   ]
  },
  {
   "cell_type": "markdown",
   "metadata": {},
   "source": [
    "### Merging all of the features column into a single 1D Array"
   ]
  },
  {
   "cell_type": "code",
   "execution_count": 241,
   "metadata": {},
   "outputs": [
    {
     "data": {
      "application/javascript": [
       "\n",
       "            setTimeout(function() {\n",
       "                var nbb_cell_id = 241;\n",
       "                var nbb_unformatted_code = \"featureassembler = VectorAssembler(\\n    inputCols=[\\n        \\\"Avg Session Length\\\",\\n        \\\"Time on App\\\",\\n        \\\"Time on Website\\\",\\n        \\\"Length of Membership\\\",\\n    ],\\n    outputCol=\\\"Independent Features\\\",\\n)\\n\\noutput = featureassembler.transform(df)\";\n",
       "                var nbb_formatted_code = \"featureassembler = VectorAssembler(\\n    inputCols=[\\n        \\\"Avg Session Length\\\",\\n        \\\"Time on App\\\",\\n        \\\"Time on Website\\\",\\n        \\\"Length of Membership\\\",\\n    ],\\n    outputCol=\\\"Independent Features\\\",\\n)\\n\\noutput = featureassembler.transform(df)\";\n",
       "                var nbb_cells = Jupyter.notebook.get_cells();\n",
       "                for (var i = 0; i < nbb_cells.length; ++i) {\n",
       "                    if (nbb_cells[i].input_prompt_number == nbb_cell_id) {\n",
       "                        if (nbb_cells[i].get_text() == nbb_unformatted_code) {\n",
       "                             nbb_cells[i].set_text(nbb_formatted_code);\n",
       "                        }\n",
       "                        break;\n",
       "                    }\n",
       "                }\n",
       "            }, 500);\n",
       "            "
      ],
      "text/plain": [
       "<IPython.core.display.Javascript object>"
      ]
     },
     "metadata": {},
     "output_type": "display_data"
    }
   ],
   "source": [
    "featureassembler = VectorAssembler(\n",
    "    inputCols=[\n",
    "        \"Avg Session Length\",\n",
    "        \"Time on App\",\n",
    "        \"Time on Website\",\n",
    "        \"Length of Membership\",\n",
    "    ],\n",
    "    outputCol=\"Independent Features\",\n",
    ")\n",
    "\n",
    "output = featureassembler.transform(df)"
   ]
  },
  {
   "cell_type": "code",
   "execution_count": 245,
   "metadata": {},
   "outputs": [
    {
     "name": "stdout",
     "output_type": "stream",
     "text": [
      "+--------------------+--------------------+------------------+-----------+---------------+--------------------+-------------------+--------------------+\n",
      "|               Email|             Address|Avg Session Length|Time on App|Time on Website|Length of Membership|Yearly Amount Spent|Independent Features|\n",
      "+--------------------+--------------------+------------------+-----------+---------------+--------------------+-------------------+--------------------+\n",
      "|mstephenson@ferna...|835 Frank TunnelW...|       34.49726773|12.65565115|    39.57766802|         4.082620633|         587.951054|[34.49726773,12.6...|\n",
      "|   hduke@hotmail.com|4547 Archer Commo...|       31.92627203|11.10946073|    37.26895887|         2.664034182|        392.2049334|[31.92627203,11.1...|\n",
      "|    pallen@yahoo.com|24645 Valerie Uni...|       33.00091476|11.33027806|    37.11059744|         4.104543202|        487.5475049|[33.00091476,11.3...|\n",
      "|riverarebecca@gma...|1414 David Throug...|       34.30555663|13.71751367|    36.72128268|         3.120178783|         581.852344|[34.30555663,13.7...|\n",
      "|mstephens@davidso...|14023 Rodriguez P...|       33.33067252|12.79518855|     37.5366533|         4.446308318|         599.406092|[33.33067252,12.7...|\n",
      "+--------------------+--------------------+------------------+-----------+---------------+--------------------+-------------------+--------------------+\n",
      "only showing top 5 rows\n",
      "\n"
     ]
    },
    {
     "data": {
      "application/javascript": [
       "\n",
       "            setTimeout(function() {\n",
       "                var nbb_cell_id = 245;\n",
       "                var nbb_unformatted_code = \"output.show(5)\";\n",
       "                var nbb_formatted_code = \"output.show(5)\";\n",
       "                var nbb_cells = Jupyter.notebook.get_cells();\n",
       "                for (var i = 0; i < nbb_cells.length; ++i) {\n",
       "                    if (nbb_cells[i].input_prompt_number == nbb_cell_id) {\n",
       "                        if (nbb_cells[i].get_text() == nbb_unformatted_code) {\n",
       "                             nbb_cells[i].set_text(nbb_formatted_code);\n",
       "                        }\n",
       "                        break;\n",
       "                    }\n",
       "                }\n",
       "            }, 500);\n",
       "            "
      ],
      "text/plain": [
       "<IPython.core.display.Javascript object>"
      ]
     },
     "metadata": {},
     "output_type": "display_data"
    }
   ],
   "source": [
    "output.show(5)"
   ]
  },
  {
   "cell_type": "code",
   "execution_count": 246,
   "metadata": {},
   "outputs": [
    {
     "name": "stdout",
     "output_type": "stream",
     "text": [
      "+--------------------+\n",
      "|Independent Features|\n",
      "+--------------------+\n",
      "|[34.49726773,12.6...|\n",
      "|[31.92627203,11.1...|\n",
      "|[33.00091476,11.3...|\n",
      "|[34.30555663,13.7...|\n",
      "|[33.33067252,12.7...|\n",
      "+--------------------+\n",
      "only showing top 5 rows\n",
      "\n"
     ]
    },
    {
     "data": {
      "application/javascript": [
       "\n",
       "            setTimeout(function() {\n",
       "                var nbb_cell_id = 246;\n",
       "                var nbb_unformatted_code = \"output.select(\\\"Independent Features\\\").show(5)\";\n",
       "                var nbb_formatted_code = \"output.select(\\\"Independent Features\\\").show(5)\";\n",
       "                var nbb_cells = Jupyter.notebook.get_cells();\n",
       "                for (var i = 0; i < nbb_cells.length; ++i) {\n",
       "                    if (nbb_cells[i].input_prompt_number == nbb_cell_id) {\n",
       "                        if (nbb_cells[i].get_text() == nbb_unformatted_code) {\n",
       "                             nbb_cells[i].set_text(nbb_formatted_code);\n",
       "                        }\n",
       "                        break;\n",
       "                    }\n",
       "                }\n",
       "            }, 500);\n",
       "            "
      ],
      "text/plain": [
       "<IPython.core.display.Javascript object>"
      ]
     },
     "metadata": {},
     "output_type": "display_data"
    }
   ],
   "source": [
    "output.select(\"Independent Features\").show(5)"
   ]
  },
  {
   "cell_type": "markdown",
   "metadata": {},
   "source": [
    "As we can see, the individual feature columns are merged into a 1D array / list"
   ]
  },
  {
   "cell_type": "code",
   "execution_count": 1,
   "metadata": {},
   "outputs": [
    {
     "ename": "NameError",
     "evalue": "name 'output' is not defined",
     "output_type": "error",
     "traceback": [
      "\u001b[0;31m---------------------------------------------------------------------------\u001b[0m",
      "\u001b[0;31mNameError\u001b[0m                                 Traceback (most recent call last)",
      "\u001b[0;32m<ipython-input-1-53e3c371ae28>\u001b[0m in \u001b[0;36m<module>\u001b[0;34m\u001b[0m\n\u001b[0;32m----> 1\u001b[0;31m \u001b[0mfinalized_data\u001b[0m \u001b[0;34m=\u001b[0m \u001b[0moutput\u001b[0m\u001b[0;34m.\u001b[0m\u001b[0mselect\u001b[0m\u001b[0;34m(\u001b[0m\u001b[0;34m\"Independent Features\"\u001b[0m\u001b[0;34m,\u001b[0m \u001b[0;34m\"Yearly Amount Spent\"\u001b[0m\u001b[0;34m)\u001b[0m\u001b[0;34m\u001b[0m\u001b[0;34m\u001b[0m\u001b[0m\n\u001b[0m\u001b[1;32m      2\u001b[0m \u001b[0mfinalized_data\u001b[0m\u001b[0;34m.\u001b[0m\u001b[0mshow\u001b[0m\u001b[0;34m(\u001b[0m\u001b[0;34m)\u001b[0m\u001b[0;34m\u001b[0m\u001b[0;34m\u001b[0m\u001b[0m\n",
      "\u001b[0;31mNameError\u001b[0m: name 'output' is not defined"
     ]
    }
   ],
   "source": [
    "finalized_data = output.select(\"Independent Features\", \"Yearly Amount Spent\")\n",
    "finalized_data.show()"
   ]
  },
  {
   "cell_type": "markdown",
   "metadata": {},
   "source": [
    "Features vs the label that it is trained to predict"
   ]
  },
  {
   "cell_type": "markdown",
   "metadata": {},
   "source": [
    "### Train / Test Split"
   ]
  },
  {
   "cell_type": "code",
   "execution_count": 230,
   "metadata": {},
   "outputs": [
    {
     "data": {
      "application/javascript": [
       "\n",
       "            setTimeout(function() {\n",
       "                var nbb_cell_id = 230;\n",
       "                var nbb_unformatted_code = \"train_data, test_data = finalized_data.randomSplit([0.8, 0.2])\";\n",
       "                var nbb_formatted_code = \"train_data, test_data = finalized_data.randomSplit([0.8, 0.2])\";\n",
       "                var nbb_cells = Jupyter.notebook.get_cells();\n",
       "                for (var i = 0; i < nbb_cells.length; ++i) {\n",
       "                    if (nbb_cells[i].input_prompt_number == nbb_cell_id) {\n",
       "                        if (nbb_cells[i].get_text() == nbb_unformatted_code) {\n",
       "                             nbb_cells[i].set_text(nbb_formatted_code);\n",
       "                        }\n",
       "                        break;\n",
       "                    }\n",
       "                }\n",
       "            }, 500);\n",
       "            "
      ],
      "text/plain": [
       "<IPython.core.display.Javascript object>"
      ]
     },
     "metadata": {},
     "output_type": "display_data"
    }
   ],
   "source": [
    "train_data, test_data = finalized_data.randomSplit([0.8, 0.2])"
   ]
  },
  {
   "cell_type": "markdown",
   "metadata": {},
   "source": [
    "### Creating a Linear Regression Model"
   ]
  },
  {
   "cell_type": "code",
   "execution_count": 231,
   "metadata": {},
   "outputs": [
    {
     "data": {
      "application/javascript": [
       "\n",
       "            setTimeout(function() {\n",
       "                var nbb_cell_id = 231;\n",
       "                var nbb_unformatted_code = \"regressor=LinearRegression(featuresCol='Independent Features', labelCol='Yearly Amount Spent')\\nregressor = regressor.fit(train_data)\";\n",
       "                var nbb_formatted_code = \"regressor = LinearRegression(\\n    featuresCol=\\\"Independent Features\\\", labelCol=\\\"Yearly Amount Spent\\\"\\n)\\nregressor = regressor.fit(train_data)\";\n",
       "                var nbb_cells = Jupyter.notebook.get_cells();\n",
       "                for (var i = 0; i < nbb_cells.length; ++i) {\n",
       "                    if (nbb_cells[i].input_prompt_number == nbb_cell_id) {\n",
       "                        if (nbb_cells[i].get_text() == nbb_unformatted_code) {\n",
       "                             nbb_cells[i].set_text(nbb_formatted_code);\n",
       "                        }\n",
       "                        break;\n",
       "                    }\n",
       "                }\n",
       "            }, 500);\n",
       "            "
      ],
      "text/plain": [
       "<IPython.core.display.Javascript object>"
      ]
     },
     "metadata": {},
     "output_type": "display_data"
    }
   ],
   "source": [
    "regressor = LinearRegression(\n",
    "    featuresCol=\"Independent Features\", labelCol=\"Yearly Amount Spent\"\n",
    ")\n",
    "regressor = regressor.fit(train_data)"
   ]
  },
  {
   "cell_type": "markdown",
   "metadata": {},
   "source": [
    "### Retrieving the regression model coefficients and y-intercept"
   ]
  },
  {
   "cell_type": "code",
   "execution_count": 232,
   "metadata": {},
   "outputs": [
    {
     "data": {
      "text/plain": [
       "DenseVector([25.521, 38.6568, 0.3783, 61.8635])"
      ]
     },
     "execution_count": 232,
     "metadata": {},
     "output_type": "execute_result"
    },
    {
     "data": {
      "application/javascript": [
       "\n",
       "            setTimeout(function() {\n",
       "                var nbb_cell_id = 232;\n",
       "                var nbb_unformatted_code = \"regressor.coefficients\";\n",
       "                var nbb_formatted_code = \"regressor.coefficients\";\n",
       "                var nbb_cells = Jupyter.notebook.get_cells();\n",
       "                for (var i = 0; i < nbb_cells.length; ++i) {\n",
       "                    if (nbb_cells[i].input_prompt_number == nbb_cell_id) {\n",
       "                        if (nbb_cells[i].get_text() == nbb_unformatted_code) {\n",
       "                             nbb_cells[i].set_text(nbb_formatted_code);\n",
       "                        }\n",
       "                        break;\n",
       "                    }\n",
       "                }\n",
       "            }, 500);\n",
       "            "
      ],
      "text/plain": [
       "<IPython.core.display.Javascript object>"
      ]
     },
     "metadata": {},
     "output_type": "display_data"
    }
   ],
   "source": [
    "regressor.coefficients"
   ]
  },
  {
   "cell_type": "code",
   "execution_count": 233,
   "metadata": {},
   "outputs": [
    {
     "data": {
      "text/plain": [
       "-1042.9805113206075"
      ]
     },
     "execution_count": 233,
     "metadata": {},
     "output_type": "execute_result"
    },
    {
     "data": {
      "application/javascript": [
       "\n",
       "            setTimeout(function() {\n",
       "                var nbb_cell_id = 233;\n",
       "                var nbb_unformatted_code = \"regressor.intercept\";\n",
       "                var nbb_formatted_code = \"regressor.intercept\";\n",
       "                var nbb_cells = Jupyter.notebook.get_cells();\n",
       "                for (var i = 0; i < nbb_cells.length; ++i) {\n",
       "                    if (nbb_cells[i].input_prompt_number == nbb_cell_id) {\n",
       "                        if (nbb_cells[i].get_text() == nbb_unformatted_code) {\n",
       "                             nbb_cells[i].set_text(nbb_formatted_code);\n",
       "                        }\n",
       "                        break;\n",
       "                    }\n",
       "                }\n",
       "            }, 500);\n",
       "            "
      ],
      "text/plain": [
       "<IPython.core.display.Javascript object>"
      ]
     },
     "metadata": {},
     "output_type": "display_data"
    }
   ],
   "source": [
    "regressor.intercept"
   ]
  },
  {
   "cell_type": "markdown",
   "metadata": {},
   "source": [
    "### View predicted results"
   ]
  },
  {
   "cell_type": "code",
   "execution_count": 236,
   "metadata": {},
   "outputs": [
    {
     "name": "stdout",
     "output_type": "stream",
     "text": [
      "+--------------------+-------------------+------------------+\n",
      "|Independent Features|Yearly Amount Spent|        prediction|\n",
      "+--------------------+-------------------+------------------+\n",
      "|[31.04722214,11.1...|        392.4973992|388.03602576598996|\n",
      "|[31.06621816,11.7...|        448.9332932| 462.2577453524136|\n",
      "|[31.26064687,13.2...|        421.3266313| 421.9188460362777|\n",
      "|[31.52575242,11.3...|        443.9656268| 449.7465603788896|\n",
      "|[31.5261979,12.04...|        409.0945262|417.96921802610655|\n",
      "|[31.76561882,12.4...|        496.5540816| 501.3181849586658|\n",
      "|[31.80930032,11.6...|        536.7718994| 548.5990038657892|\n",
      "|[31.8530748,12.14...|        459.2851235|461.69120557200813|\n",
      "|[31.86483255,13.4...|        439.8912805|449.93670175405623|\n",
      "|[31.97648006,10.7...|         330.594446| 325.0759942820059|\n",
      "|[32.00475302,11.3...|        463.7459811|463.72724278272995|\n",
      "|[32.01230077,12.1...|        492.9450531| 489.3389718937801|\n",
      "|[32.04781463,12.4...|        497.3895578|480.85345254870754|\n",
      "|[32.08838063,11.9...|        512.1658664| 518.6703997327613|\n",
      "|[32.14906052,10.0...|        392.9922559|398.65108471177564|\n",
      "|[32.27844335,12.5...|         488.270298| 497.4133449975793|\n",
      "|[32.30274837,12.8...|        576.0252441| 576.7054470516773|\n",
      "|[32.33263707,11.5...|        532.7174857| 538.5176022310698|\n",
      "|[32.35147815,13.1...|        532.9352188| 527.9983833889225|\n",
      "|[32.40173183,12.0...|        506.5473071| 505.3885828979619|\n",
      "+--------------------+-------------------+------------------+\n",
      "only showing top 20 rows\n",
      "\n"
     ]
    },
    {
     "data": {
      "application/javascript": [
       "\n",
       "            setTimeout(function() {\n",
       "                var nbb_cell_id = 236;\n",
       "                var nbb_unformatted_code = \"pred_results = regressor.evaluate(test_data)\\npred_results.predictions.show()\";\n",
       "                var nbb_formatted_code = \"pred_results = regressor.evaluate(test_data)\\npred_results.predictions.show()\";\n",
       "                var nbb_cells = Jupyter.notebook.get_cells();\n",
       "                for (var i = 0; i < nbb_cells.length; ++i) {\n",
       "                    if (nbb_cells[i].input_prompt_number == nbb_cell_id) {\n",
       "                        if (nbb_cells[i].get_text() == nbb_unformatted_code) {\n",
       "                             nbb_cells[i].set_text(nbb_formatted_code);\n",
       "                        }\n",
       "                        break;\n",
       "                    }\n",
       "                }\n",
       "            }, 500);\n",
       "            "
      ],
      "text/plain": [
       "<IPython.core.display.Javascript object>"
      ]
     },
     "metadata": {},
     "output_type": "display_data"
    }
   ],
   "source": [
    "pred_results = regressor.evaluate(test_data)\n",
    "pred_results.predictions.show()"
   ]
  },
  {
   "cell_type": "code",
   "execution_count": null,
   "metadata": {},
   "outputs": [],
   "source": []
  }
 ],
 "metadata": {
  "kernelspec": {
   "display_name": "Python 3",
   "language": "python",
   "name": "python3"
  },
  "language_info": {
   "codemirror_mode": {
    "name": "ipython",
    "version": 3
   },
   "file_extension": ".py",
   "mimetype": "text/x-python",
   "name": "python",
   "nbconvert_exporter": "python",
   "pygments_lexer": "ipython3",
   "version": "3.7.3"
  }
 },
 "nbformat": 4,
 "nbformat_minor": 2
}
