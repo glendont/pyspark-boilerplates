{
 "cells": [
  {
   "cell_type": "markdown",
   "metadata": {},
   "source": [
    "## Learning PySpark"
   ]
  },
  {
   "cell_type": "markdown",
   "metadata": {},
   "source": [
    "### Importing requirements"
   ]
  },
  {
   "cell_type": "code",
   "execution_count": 294,
   "metadata": {},
   "outputs": [
    {
     "data": {
      "application/javascript": [
       "\n",
       "            setTimeout(function() {\n",
       "                var nbb_cell_id = 294;\n",
       "                var nbb_unformatted_code = \"import os\\nfrom pyspark import SparkContext\\nfrom pyspark.conf import SparkConf\\nfrom pyspark.context import SparkContext\\nfrom pyspark import SparkFiles\\n\\nimport pyspark.sql.functions as F  ## similar to numpy for pandas\\nfrom pyspark.sql import types as T\";\n",
       "                var nbb_formatted_code = \"import os\\nfrom pyspark import SparkContext\\nfrom pyspark.conf import SparkConf\\nfrom pyspark.context import SparkContext\\nfrom pyspark import SparkFiles\\n\\nimport pyspark.sql.functions as F  ## similar to numpy for pandas\\nfrom pyspark.sql import types as T\";\n",
       "                var nbb_cells = Jupyter.notebook.get_cells();\n",
       "                for (var i = 0; i < nbb_cells.length; ++i) {\n",
       "                    if (nbb_cells[i].input_prompt_number == nbb_cell_id) {\n",
       "                        if (nbb_cells[i].get_text() == nbb_unformatted_code) {\n",
       "                             nbb_cells[i].set_text(nbb_formatted_code);\n",
       "                        }\n",
       "                        break;\n",
       "                    }\n",
       "                }\n",
       "            }, 500);\n",
       "            "
      ],
      "text/plain": [
       "<IPython.core.display.Javascript object>"
      ]
     },
     "metadata": {},
     "output_type": "display_data"
    }
   ],
   "source": [
    "import os\n",
    "from pyspark import SparkContext\n",
    "from pyspark.conf import SparkConf\n",
    "from pyspark.context import SparkContext\n",
    "from pyspark import SparkFiles\n",
    "\n",
    "import pyspark.sql.functions as F  ## similar to numpy for pandas\n",
    "from pyspark.sql import types as T\n",
    "\n",
    "%load_ext nb_black"
   ]
  },
  {
   "cell_type": "markdown",
   "metadata": {},
   "source": [
    "### Starting a Spark Context "
   ]
  },
  {
   "cell_type": "code",
   "execution_count": 4,
   "metadata": {},
   "outputs": [],
   "source": [
    "sc = SparkContext(\"local\",\"MyApplication\")"
   ]
  },
  {
   "cell_type": "markdown",
   "metadata": {},
   "source": [
    "### Stopping a Spark Context"
   ]
  },
  {
   "cell_type": "code",
   "execution_count": 3,
   "metadata": {},
   "outputs": [],
   "source": [
    "sc.stop()"
   ]
  },
  {
   "cell_type": "code",
   "execution_count": 5,
   "metadata": {},
   "outputs": [
    {
     "data": {
      "text/html": [
       "\n",
       "        <div>\n",
       "            <p><b>SparkContext</b></p>\n",
       "\n",
       "            <p><a href=\"http://glendons-mbp-2:4040\">Spark UI</a></p>\n",
       "\n",
       "            <dl>\n",
       "              <dt>Version</dt>\n",
       "                <dd><code>v3.0.0-preview2</code></dd>\n",
       "              <dt>Master</dt>\n",
       "                <dd><code>local</code></dd>\n",
       "              <dt>AppName</dt>\n",
       "                <dd><code>MyApplication</code></dd>\n",
       "            </dl>\n",
       "        </div>\n",
       "        "
      ],
      "text/plain": [
       "<SparkContext master=local appName=MyApplication>"
      ]
     },
     "execution_count": 5,
     "metadata": {},
     "output_type": "execute_result"
    }
   ],
   "source": [
    "sc"
   ]
  },
  {
   "cell_type": "code",
   "execution_count": 7,
   "metadata": {},
   "outputs": [
    {
     "data": {
      "application/javascript": [
       "\n",
       "            setTimeout(function() {\n",
       "                var nbb_cell_id = 7;\n",
       "                var nbb_unformatted_code = \"from pyspark.sql import SparkSession\\n\\nspark = SparkSession.builder.appName(\\\"Spark Basic Operations\\\").getOrCreate()\";\n",
       "                var nbb_formatted_code = \"from pyspark.sql import SparkSession\\n\\nspark = SparkSession.builder.appName(\\\"Spark Basic Operations\\\").getOrCreate()\";\n",
       "                var nbb_cells = Jupyter.notebook.get_cells();\n",
       "                for (var i = 0; i < nbb_cells.length; ++i) {\n",
       "                    if (nbb_cells[i].input_prompt_number == nbb_cell_id) {\n",
       "                        if (nbb_cells[i].get_text() == nbb_unformatted_code) {\n",
       "                             nbb_cells[i].set_text(nbb_formatted_code);\n",
       "                        }\n",
       "                        break;\n",
       "                    }\n",
       "                }\n",
       "            }, 500);\n",
       "            "
      ],
      "text/plain": [
       "<IPython.core.display.Javascript object>"
      ]
     },
     "metadata": {},
     "output_type": "display_data"
    }
   ],
   "source": [
    "from pyspark.sql import SparkSession\n",
    "\n",
    "spark = SparkSession.builder.appName(\"Spark Basic Operations\").getOrCreate()"
   ]
  },
  {
   "cell_type": "code",
   "execution_count": 288,
   "metadata": {},
   "outputs": [
    {
     "data": {
      "text/html": [
       "\n",
       "            <div>\n",
       "                <p><b>SparkSession - hive</b></p>\n",
       "                \n",
       "        <div>\n",
       "            <p><b>SparkContext</b></p>\n",
       "\n",
       "            <p><a href=\"http://glendons-mbp-2:4040\">Spark UI</a></p>\n",
       "\n",
       "            <dl>\n",
       "              <dt>Version</dt>\n",
       "                <dd><code>v3.0.0-preview2</code></dd>\n",
       "              <dt>Master</dt>\n",
       "                <dd><code>local</code></dd>\n",
       "              <dt>AppName</dt>\n",
       "                <dd><code>MyApplication</code></dd>\n",
       "            </dl>\n",
       "        </div>\n",
       "        \n",
       "            </div>\n",
       "        "
      ],
      "text/plain": [
       "<pyspark.sql.session.SparkSession at 0x111436eb8>"
      ]
     },
     "execution_count": 288,
     "metadata": {},
     "output_type": "execute_result"
    },
    {
     "data": {
      "application/javascript": [
       "\n",
       "            setTimeout(function() {\n",
       "                var nbb_cell_id = 288;\n",
       "                var nbb_unformatted_code = \"spark\";\n",
       "                var nbb_formatted_code = \"spark\";\n",
       "                var nbb_cells = Jupyter.notebook.get_cells();\n",
       "                for (var i = 0; i < nbb_cells.length; ++i) {\n",
       "                    if (nbb_cells[i].input_prompt_number == nbb_cell_id) {\n",
       "                        if (nbb_cells[i].get_text() == nbb_unformatted_code) {\n",
       "                             nbb_cells[i].set_text(nbb_formatted_code);\n",
       "                        }\n",
       "                        break;\n",
       "                    }\n",
       "                }\n",
       "            }, 500);\n",
       "            "
      ],
      "text/plain": [
       "<IPython.core.display.Javascript object>"
      ]
     },
     "metadata": {},
     "output_type": "display_data"
    }
   ],
   "source": [
    "spark"
   ]
  },
  {
   "cell_type": "markdown",
   "metadata": {},
   "source": [
    "# PySpark Dataframe"
   ]
  },
  {
   "cell_type": "markdown",
   "metadata": {},
   "source": [
    "### Creating a Dataframe from Scratch"
   ]
  },
  {
   "cell_type": "code",
   "execution_count": 295,
   "metadata": {},
   "outputs": [
    {
     "data": {
      "application/javascript": [
       "\n",
       "            setTimeout(function() {\n",
       "                var nbb_cell_id = 295;\n",
       "                var nbb_unformatted_code = \"from pyspark.sql import Row\\nfrom pyspark.sql.types import StructField, StructType, StringType, LongType\";\n",
       "                var nbb_formatted_code = \"from pyspark.sql import Row\\nfrom pyspark.sql.types import StructField, StructType, StringType, LongType\";\n",
       "                var nbb_cells = Jupyter.notebook.get_cells();\n",
       "                for (var i = 0; i < nbb_cells.length; ++i) {\n",
       "                    if (nbb_cells[i].input_prompt_number == nbb_cell_id) {\n",
       "                        if (nbb_cells[i].get_text() == nbb_unformatted_code) {\n",
       "                             nbb_cells[i].set_text(nbb_formatted_code);\n",
       "                        }\n",
       "                        break;\n",
       "                    }\n",
       "                }\n",
       "            }, 500);\n",
       "            "
      ],
      "text/plain": [
       "<IPython.core.display.Javascript object>"
      ]
     },
     "metadata": {},
     "output_type": "display_data"
    }
   ],
   "source": [
    "from pyspark.sql import Row\n",
    "from pyspark.sql.types import StructField, StructType, StringType, LongType"
   ]
  },
  {
   "cell_type": "code",
   "execution_count": 296,
   "metadata": {},
   "outputs": [
    {
     "data": {
      "application/javascript": [
       "\n",
       "            setTimeout(function() {\n",
       "                var nbb_cell_id = 296;\n",
       "                var nbb_unformatted_code = \"schema = StructType(\\n    [\\n        StructField(name=\\\"city\\\", dataType=StringType(), nullable=True),\\n        StructField(name=\\\"country\\\", dataType=StringType(), nullable=True),\\n        StructField(name=\\\"counts\\\", dataType=LongType(), nullable=False),\\n    ]\\n)\";\n",
       "                var nbb_formatted_code = \"schema = StructType(\\n    [\\n        StructField(name=\\\"city\\\", dataType=StringType(), nullable=True),\\n        StructField(name=\\\"country\\\", dataType=StringType(), nullable=True),\\n        StructField(name=\\\"counts\\\", dataType=LongType(), nullable=False),\\n    ]\\n)\";\n",
       "                var nbb_cells = Jupyter.notebook.get_cells();\n",
       "                for (var i = 0; i < nbb_cells.length; ++i) {\n",
       "                    if (nbb_cells[i].input_prompt_number == nbb_cell_id) {\n",
       "                        if (nbb_cells[i].get_text() == nbb_unformatted_code) {\n",
       "                             nbb_cells[i].set_text(nbb_formatted_code);\n",
       "                        }\n",
       "                        break;\n",
       "                    }\n",
       "                }\n",
       "            }, 500);\n",
       "            "
      ],
      "text/plain": [
       "<IPython.core.display.Javascript object>"
      ]
     },
     "metadata": {},
     "output_type": "display_data"
    }
   ],
   "source": [
    "schema = StructType(\n",
    "    [\n",
    "        StructField(name=\"city\", dataType=StringType(), nullable=True),\n",
    "        StructField(name=\"country\", dataType=StringType(), nullable=True),\n",
    "        StructField(name=\"counts\", dataType=LongType(), nullable=False),\n",
    "    ]\n",
    ")"
   ]
  },
  {
   "cell_type": "code",
   "execution_count": 297,
   "metadata": {},
   "outputs": [
    {
     "data": {
      "application/javascript": [
       "\n",
       "            setTimeout(function() {\n",
       "                var nbb_cell_id = 297;\n",
       "                var nbb_unformatted_code = \"rows = [\\n    Row(\\\"LA\\\", \\\"US\\\", 3),\\n    Row(\\\"New York\\\", \\\"US\\\", 1),\\n    Row(\\\"London\\\", \\\"UK\\\", 3),\\n]\";\n",
       "                var nbb_formatted_code = \"rows = [\\n    Row(\\\"LA\\\", \\\"US\\\", 3),\\n    Row(\\\"New York\\\", \\\"US\\\", 1),\\n    Row(\\\"London\\\", \\\"UK\\\", 3),\\n]\";\n",
       "                var nbb_cells = Jupyter.notebook.get_cells();\n",
       "                for (var i = 0; i < nbb_cells.length; ++i) {\n",
       "                    if (nbb_cells[i].input_prompt_number == nbb_cell_id) {\n",
       "                        if (nbb_cells[i].get_text() == nbb_unformatted_code) {\n",
       "                             nbb_cells[i].set_text(nbb_formatted_code);\n",
       "                        }\n",
       "                        break;\n",
       "                    }\n",
       "                }\n",
       "            }, 500);\n",
       "            "
      ],
      "text/plain": [
       "<IPython.core.display.Javascript object>"
      ]
     },
     "metadata": {},
     "output_type": "display_data"
    }
   ],
   "source": [
    "rows = [\n",
    "    Row(\"LA\", \"US\", 3),\n",
    "    Row(\"New York\", \"US\", 1),\n",
    "    Row(\"London\", \"UK\", 3),\n",
    "]"
   ]
  },
  {
   "cell_type": "code",
   "execution_count": 298,
   "metadata": {},
   "outputs": [
    {
     "data": {
      "application/javascript": [
       "\n",
       "            setTimeout(function() {\n",
       "                var nbb_cell_id = 298;\n",
       "                var nbb_unformatted_code = \"parallelizeRows = spark.sparkContext.parallelize(rows)\";\n",
       "                var nbb_formatted_code = \"parallelizeRows = spark.sparkContext.parallelize(rows)\";\n",
       "                var nbb_cells = Jupyter.notebook.get_cells();\n",
       "                for (var i = 0; i < nbb_cells.length; ++i) {\n",
       "                    if (nbb_cells[i].input_prompt_number == nbb_cell_id) {\n",
       "                        if (nbb_cells[i].get_text() == nbb_unformatted_code) {\n",
       "                             nbb_cells[i].set_text(nbb_formatted_code);\n",
       "                        }\n",
       "                        break;\n",
       "                    }\n",
       "                }\n",
       "            }, 500);\n",
       "            "
      ],
      "text/plain": [
       "<IPython.core.display.Javascript object>"
      ]
     },
     "metadata": {},
     "output_type": "display_data"
    }
   ],
   "source": [
    "parallelizeRows = spark.sparkContext.parallelize(rows)"
   ]
  },
  {
   "cell_type": "code",
   "execution_count": 299,
   "metadata": {},
   "outputs": [
    {
     "name": "stdout",
     "output_type": "stream",
     "text": [
      "+--------+-------+------+\n",
      "|    city|country|counts|\n",
      "+--------+-------+------+\n",
      "|      LA|     US|     3|\n",
      "|New York|     US|     1|\n",
      "|  London|     UK|     3|\n",
      "+--------+-------+------+\n",
      "\n"
     ]
    },
    {
     "data": {
      "application/javascript": [
       "\n",
       "            setTimeout(function() {\n",
       "                var nbb_cell_id = 299;\n",
       "                var nbb_unformatted_code = \"df = spark.createDataFrame(parallelizeRows, schema)\\ndf.show()\";\n",
       "                var nbb_formatted_code = \"df = spark.createDataFrame(parallelizeRows, schema)\\ndf.show()\";\n",
       "                var nbb_cells = Jupyter.notebook.get_cells();\n",
       "                for (var i = 0; i < nbb_cells.length; ++i) {\n",
       "                    if (nbb_cells[i].input_prompt_number == nbb_cell_id) {\n",
       "                        if (nbb_cells[i].get_text() == nbb_unformatted_code) {\n",
       "                             nbb_cells[i].set_text(nbb_formatted_code);\n",
       "                        }\n",
       "                        break;\n",
       "                    }\n",
       "                }\n",
       "            }, 500);\n",
       "            "
      ],
      "text/plain": [
       "<IPython.core.display.Javascript object>"
      ]
     },
     "metadata": {},
     "output_type": "display_data"
    }
   ],
   "source": [
    "df = spark.createDataFrame(parallelizeRows, schema)\n",
    "df.show()"
   ]
  },
  {
   "cell_type": "markdown",
   "metadata": {},
   "source": [
    "### Reading from CSV"
   ]
  },
  {
   "cell_type": "code",
   "execution_count": 300,
   "metadata": {},
   "outputs": [
    {
     "data": {
      "application/javascript": [
       "\n",
       "            setTimeout(function() {\n",
       "                var nbb_cell_id = 300;\n",
       "                var nbb_unformatted_code = \"df2 = spark.read.csv(\\\"finaloutput.csv\\\", inferSchema=True, header=True)\";\n",
       "                var nbb_formatted_code = \"df2 = spark.read.csv(\\\"finaloutput.csv\\\", inferSchema=True, header=True)\";\n",
       "                var nbb_cells = Jupyter.notebook.get_cells();\n",
       "                for (var i = 0; i < nbb_cells.length; ++i) {\n",
       "                    if (nbb_cells[i].input_prompt_number == nbb_cell_id) {\n",
       "                        if (nbb_cells[i].get_text() == nbb_unformatted_code) {\n",
       "                             nbb_cells[i].set_text(nbb_formatted_code);\n",
       "                        }\n",
       "                        break;\n",
       "                    }\n",
       "                }\n",
       "            }, 500);\n",
       "            "
      ],
      "text/plain": [
       "<IPython.core.display.Javascript object>"
      ]
     },
     "metadata": {},
     "output_type": "display_data"
    }
   ],
   "source": [
    "df2 = spark.read.csv(\"finaloutput.csv\", inferSchema=True, header=True)"
   ]
  },
  {
   "cell_type": "code",
   "execution_count": 301,
   "metadata": {},
   "outputs": [
    {
     "data": {
      "application/javascript": [
       "\n",
       "            setTimeout(function() {\n",
       "                var nbb_cell_id = 301;\n",
       "                var nbb_unformatted_code = \"df2.createOrReplaceTempView(\\\"df2_table\\\")\";\n",
       "                var nbb_formatted_code = \"df2.createOrReplaceTempView(\\\"df2_table\\\")\";\n",
       "                var nbb_cells = Jupyter.notebook.get_cells();\n",
       "                for (var i = 0; i < nbb_cells.length; ++i) {\n",
       "                    if (nbb_cells[i].input_prompt_number == nbb_cell_id) {\n",
       "                        if (nbb_cells[i].get_text() == nbb_unformatted_code) {\n",
       "                             nbb_cells[i].set_text(nbb_formatted_code);\n",
       "                        }\n",
       "                        break;\n",
       "                    }\n",
       "                }\n",
       "            }, 500);\n",
       "            "
      ],
      "text/plain": [
       "<IPython.core.display.Javascript object>"
      ]
     },
     "metadata": {},
     "output_type": "display_data"
    }
   ],
   "source": [
    "df2.createOrReplaceTempView(\"df2_table\")"
   ]
  },
  {
   "cell_type": "code",
   "execution_count": 302,
   "metadata": {},
   "outputs": [
    {
     "name": "stdout",
     "output_type": "stream",
     "text": [
      "root\n",
      " |-- _c0: integer (nullable = true)\n",
      " |-- T1A1_1: integer (nullable = true)\n",
      " |-- T1A1_2: integer (nullable = true)\n",
      " |-- T1B1_1: integer (nullable = true)\n",
      " |-- T1B1_2: integer (nullable = true)\n",
      " |-- T1B1_3: integer (nullable = true)\n",
      " |-- T1C1_1: double (nullable = true)\n",
      " |-- T1C1_2: integer (nullable = true)\n",
      " |-- T1D1_1: integer (nullable = true)\n",
      " |-- T1D1_2: integer (nullable = true)\n",
      " |-- T1D1_3: integer (nullable = true)\n",
      " |-- T1D1_4: double (nullable = true)\n",
      " |-- T1D1_5: integer (nullable = true)\n",
      " |-- T1E1_1: integer (nullable = true)\n",
      " |-- T1E1_2: integer (nullable = true)\n",
      " |-- T1E1_3: integer (nullable = true)\n",
      " |-- T1E1_4: double (nullable = true)\n",
      " |-- T1F1: integer (nullable = true)\n",
      " |-- T2A1_1: integer (nullable = true)\n",
      " |-- T2A1_2: integer (nullable = true)\n",
      " |-- T2A1_3: integer (nullable = true)\n",
      " |-- T2A1_4: integer (nullable = true)\n",
      " |-- T2A1_5: integer (nullable = true)\n",
      " |-- T2A1_6: double (nullable = true)\n",
      " |-- T2B1_1: integer (nullable = true)\n",
      " |-- T2B1_2: integer (nullable = true)\n",
      " |-- T2B1_3: integer (nullable = true)\n",
      " |-- T2B1_4: double (nullable = true)\n",
      " |-- T2B1_5: double (nullable = true)\n",
      " |-- T2B1_6: integer (nullable = true)\n",
      " |-- T2B1_7: double (nullable = true)\n",
      " |-- T2C1_1: integer (nullable = true)\n",
      " |-- T2C1_2: double (nullable = true)\n",
      " |-- T2C1_3: double (nullable = true)\n",
      " |-- T2C1_4: double (nullable = true)\n",
      " |-- T2F1: integer (nullable = true)\n",
      " |-- T3C1: integer (nullable = true)\n",
      " |-- T3C2: integer (nullable = true)\n",
      " |-- T3C3: integer (nullable = true)\n",
      " |-- T3C4: integer (nullable = true)\n",
      " |-- T3C5: integer (nullable = true)\n",
      " |-- T3C6: integer (nullable = true)\n",
      " |-- T3B1_1: double (nullable = true)\n",
      " |-- T3B1_2: integer (nullable = true)\n",
      " |-- T3B1_3: integer (nullable = true)\n",
      " |-- T3B1_4: integer (nullable = true)\n",
      " |-- T3B1_5: integer (nullable = true)\n",
      " |-- T3B1_6: integer (nullable = true)\n",
      " |-- T3D1: integer (nullable = true)\n",
      " |-- T3D2: double (nullable = true)\n",
      " |-- T3D3: double (nullable = true)\n",
      " |-- T3D4: integer (nullable = true)\n",
      " |-- T3D5: integer (nullable = true)\n",
      " |-- T3A1: integer (nullable = true)\n",
      " |-- T3A2: double (nullable = true)\n",
      " |-- T3A3: double (nullable = true)\n",
      " |-- T3A4: integer (nullable = true)\n",
      " |-- T3F1: integer (nullable = true)\n",
      " |-- T4F1: integer (nullable = true)\n",
      " |-- T5F1_1: double (nullable = true)\n",
      " |-- T5F1_2: double (nullable = true)\n",
      " |-- T5F1_3: double (nullable = true)\n",
      " |-- T5F1_4: double (nullable = true)\n",
      " |-- T5F1_5: double (nullable = true)\n",
      " |-- T5F2: integer (nullable = true)\n",
      " |-- T5F3_1: double (nullable = true)\n",
      " |-- T5F3_2: double (nullable = true)\n",
      " |-- T5F3_3: double (nullable = true)\n",
      " |-- T5F3_4: double (nullable = true)\n",
      " |-- T5F3_5: double (nullable = true)\n",
      " |-- T5F3_6: double (nullable = true)\n",
      " |-- T5F3_7: double (nullable = true)\n",
      " |-- T5F3_8: double (nullable = true)\n",
      " |-- T5F3_9: double (nullable = true)\n",
      " |-- T5F3_10: double (nullable = true)\n",
      " |-- T5F3_11: double (nullable = true)\n",
      " |-- T5F3_12: double (nullable = true)\n",
      " |-- T5F3_13: double (nullable = true)\n",
      " |-- T5F3_14: double (nullable = true)\n",
      " |-- T5F3_15: double (nullable = true)\n",
      " |-- T5F3_16: double (nullable = true)\n",
      " |-- T5F4#1_1: double (nullable = true)\n",
      " |-- T5F4#1_2: double (nullable = true)\n",
      " |-- T5F4#1_3: double (nullable = true)\n",
      " |-- T5F4#1_4: double (nullable = true)\n",
      " |-- T5F4#1_5: double (nullable = true)\n",
      " |-- T5F4#1_6: double (nullable = true)\n",
      " |-- T5F4#1_7: double (nullable = true)\n",
      " |-- T5F4#1_8: double (nullable = true)\n",
      " |-- T5F4#1_9: double (nullable = true)\n",
      " |-- T5F4#1_10: double (nullable = true)\n",
      " |-- T5F4#1_11: double (nullable = true)\n",
      " |-- T5F4#1_12: double (nullable = true)\n",
      " |-- T5F4#1_13: double (nullable = true)\n",
      " |-- T5F4#1_14: double (nullable = true)\n",
      " |-- T5F4#1_15: double (nullable = true)\n",
      " |-- T5F4#1_16: double (nullable = true)\n",
      " |-- T5F4#2_1: double (nullable = true)\n",
      " |-- T5F4#2_2: double (nullable = true)\n",
      " |-- T5F4#2_3: double (nullable = true)\n",
      " |-- T5F4#2_4: double (nullable = true)\n",
      " |-- T5F4#2_5: double (nullable = true)\n",
      " |-- T5F4#2_6: double (nullable = true)\n",
      " |-- T5F4#2_7: double (nullable = true)\n",
      " |-- T5F4#2_8: double (nullable = true)\n",
      " |-- T5F4#2_9: double (nullable = true)\n",
      " |-- T5F4#2_10: double (nullable = true)\n",
      " |-- T5F4#2_11: double (nullable = true)\n",
      " |-- T5F4#2_12: double (nullable = true)\n",
      " |-- T5F4#2_13: double (nullable = true)\n",
      " |-- T5F4#2_14: double (nullable = true)\n",
      " |-- T5F4#2_15: double (nullable = true)\n",
      " |-- T5F4#2_16: double (nullable = true)\n",
      " |-- TUnnamed: 145: string (nullable = true)\n",
      "\n"
     ]
    },
    {
     "data": {
      "application/javascript": [
       "\n",
       "            setTimeout(function() {\n",
       "                var nbb_cell_id = 302;\n",
       "                var nbb_unformatted_code = \"df2.printSchema()\";\n",
       "                var nbb_formatted_code = \"df2.printSchema()\";\n",
       "                var nbb_cells = Jupyter.notebook.get_cells();\n",
       "                for (var i = 0; i < nbb_cells.length; ++i) {\n",
       "                    if (nbb_cells[i].input_prompt_number == nbb_cell_id) {\n",
       "                        if (nbb_cells[i].get_text() == nbb_unformatted_code) {\n",
       "                             nbb_cells[i].set_text(nbb_formatted_code);\n",
       "                        }\n",
       "                        break;\n",
       "                    }\n",
       "                }\n",
       "            }, 500);\n",
       "            "
      ],
      "text/plain": [
       "<IPython.core.display.Javascript object>"
      ]
     },
     "metadata": {},
     "output_type": "display_data"
    }
   ],
   "source": [
    "df2.printSchema()"
   ]
  },
  {
   "cell_type": "markdown",
   "metadata": {},
   "source": [
    "### Manipulating Columns"
   ]
  },
  {
   "cell_type": "code",
   "execution_count": 308,
   "metadata": {},
   "outputs": [
    {
     "name": "stdout",
     "output_type": "stream",
     "text": [
      "+-------+--------+\n",
      "|country|    city|\n",
      "+-------+--------+\n",
      "|     US|      LA|\n",
      "|     US|New York|\n",
      "+-------+--------+\n",
      "only showing top 2 rows\n",
      "\n"
     ]
    },
    {
     "data": {
      "application/javascript": [
       "\n",
       "            setTimeout(function() {\n",
       "                var nbb_cell_id = 308;\n",
       "                var nbb_unformatted_code = \"df.select(\\\"country\\\",\\\"city\\\").show(2)\";\n",
       "                var nbb_formatted_code = \"df.select(\\\"country\\\", \\\"city\\\").show(2)\";\n",
       "                var nbb_cells = Jupyter.notebook.get_cells();\n",
       "                for (var i = 0; i < nbb_cells.length; ++i) {\n",
       "                    if (nbb_cells[i].input_prompt_number == nbb_cell_id) {\n",
       "                        if (nbb_cells[i].get_text() == nbb_unformatted_code) {\n",
       "                             nbb_cells[i].set_text(nbb_formatted_code);\n",
       "                        }\n",
       "                        break;\n",
       "                    }\n",
       "                }\n",
       "            }, 500);\n",
       "            "
      ],
      "text/plain": [
       "<IPython.core.display.Javascript object>"
      ]
     },
     "metadata": {},
     "output_type": "display_data"
    }
   ],
   "source": [
    "df.select(\"country\", \"city\").show(2)"
   ]
  },
  {
   "cell_type": "code",
   "execution_count": 309,
   "metadata": {},
   "outputs": [
    {
     "name": "stdout",
     "output_type": "stream",
     "text": [
      "+-------+\n",
      "|country|\n",
      "+-------+\n",
      "|     US|\n",
      "|     US|\n",
      "+-------+\n",
      "only showing top 2 rows\n",
      "\n"
     ]
    },
    {
     "data": {
      "application/javascript": [
       "\n",
       "            setTimeout(function() {\n",
       "                var nbb_cell_id = 309;\n",
       "                var nbb_unformatted_code = \"df.select(F.col(\\\"country\\\")).show(2)\";\n",
       "                var nbb_formatted_code = \"df.select(F.col(\\\"country\\\")).show(2)\";\n",
       "                var nbb_cells = Jupyter.notebook.get_cells();\n",
       "                for (var i = 0; i < nbb_cells.length; ++i) {\n",
       "                    if (nbb_cells[i].input_prompt_number == nbb_cell_id) {\n",
       "                        if (nbb_cells[i].get_text() == nbb_unformatted_code) {\n",
       "                             nbb_cells[i].set_text(nbb_formatted_code);\n",
       "                        }\n",
       "                        break;\n",
       "                    }\n",
       "                }\n",
       "            }, 500);\n",
       "            "
      ],
      "text/plain": [
       "<IPython.core.display.Javascript object>"
      ]
     },
     "metadata": {},
     "output_type": "display_data"
    }
   ],
   "source": [
    "df.select(F.col(\"country\")).show(2)"
   ]
  },
  {
   "cell_type": "code",
   "execution_count": 305,
   "metadata": {},
   "outputs": [
    {
     "name": "stdout",
     "output_type": "stream",
     "text": [
      "+-------+----+\n",
      "|country|city|\n",
      "+-------+----+\n",
      "|     US|  LA|\n",
      "+-------+----+\n",
      "only showing top 1 row\n",
      "\n"
     ]
    },
    {
     "data": {
      "application/javascript": [
       "\n",
       "            setTimeout(function() {\n",
       "                var nbb_cell_id = 305;\n",
       "                var nbb_unformatted_code = \"df.select(\\\"country\\\", \\\"city\\\").show(1)\";\n",
       "                var nbb_formatted_code = \"df.select(\\\"country\\\", \\\"city\\\").show(1)\";\n",
       "                var nbb_cells = Jupyter.notebook.get_cells();\n",
       "                for (var i = 0; i < nbb_cells.length; ++i) {\n",
       "                    if (nbb_cells[i].input_prompt_number == nbb_cell_id) {\n",
       "                        if (nbb_cells[i].get_text() == nbb_unformatted_code) {\n",
       "                             nbb_cells[i].set_text(nbb_formatted_code);\n",
       "                        }\n",
       "                        break;\n",
       "                    }\n",
       "                }\n",
       "            }, 500);\n",
       "            "
      ],
      "text/plain": [
       "<IPython.core.display.Javascript object>"
      ]
     },
     "metadata": {},
     "output_type": "display_data"
    }
   ],
   "source": [
    "df.select(\"country\", \"city\").show(1)"
   ]
  },
  {
   "cell_type": "code",
   "execution_count": 306,
   "metadata": {},
   "outputs": [
    {
     "name": "stdout",
     "output_type": "stream",
     "text": [
      "+-----------+\n",
      "|destination|\n",
      "+-----------+\n",
      "|         US|\n",
      "|         US|\n",
      "+-----------+\n",
      "only showing top 2 rows\n",
      "\n"
     ]
    },
    {
     "data": {
      "application/javascript": [
       "\n",
       "            setTimeout(function() {\n",
       "                var nbb_cell_id = 306;\n",
       "                var nbb_unformatted_code = \"df.select(F.expr(\\\"Country as destination\\\")).show(2)\";\n",
       "                var nbb_formatted_code = \"df.select(F.expr(\\\"Country as destination\\\")).show(2)\";\n",
       "                var nbb_cells = Jupyter.notebook.get_cells();\n",
       "                for (var i = 0; i < nbb_cells.length; ++i) {\n",
       "                    if (nbb_cells[i].input_prompt_number == nbb_cell_id) {\n",
       "                        if (nbb_cells[i].get_text() == nbb_unformatted_code) {\n",
       "                             nbb_cells[i].set_text(nbb_formatted_code);\n",
       "                        }\n",
       "                        break;\n",
       "                    }\n",
       "                }\n",
       "            }, 500);\n",
       "            "
      ],
      "text/plain": [
       "<IPython.core.display.Javascript object>"
      ]
     },
     "metadata": {},
     "output_type": "display_data"
    }
   ],
   "source": [
    "df.select(F.expr(\"Country as destination\")).show(2)"
   ]
  },
  {
   "cell_type": "markdown",
   "metadata": {},
   "source": [
    "Changing the column name in an expression. Country -> Destination"
   ]
  },
  {
   "cell_type": "code",
   "execution_count": 311,
   "metadata": {},
   "outputs": [
    {
     "name": "stdout",
     "output_type": "stream",
     "text": [
      "+-----------+\n",
      "|destination|\n",
      "+-----------+\n",
      "|         US|\n",
      "|         US|\n",
      "+-----------+\n",
      "only showing top 2 rows\n",
      "\n"
     ]
    },
    {
     "data": {
      "application/javascript": [
       "\n",
       "            setTimeout(function() {\n",
       "                var nbb_cell_id = 311;\n",
       "                var nbb_unformatted_code = \"df.select(F.expr(\\\"Country\\\").alias(\\\"destination\\\")).show(2)\";\n",
       "                var nbb_formatted_code = \"df.select(F.expr(\\\"Country\\\").alias(\\\"destination\\\")).show(2)\";\n",
       "                var nbb_cells = Jupyter.notebook.get_cells();\n",
       "                for (var i = 0; i < nbb_cells.length; ++i) {\n",
       "                    if (nbb_cells[i].input_prompt_number == nbb_cell_id) {\n",
       "                        if (nbb_cells[i].get_text() == nbb_unformatted_code) {\n",
       "                             nbb_cells[i].set_text(nbb_formatted_code);\n",
       "                        }\n",
       "                        break;\n",
       "                    }\n",
       "                }\n",
       "            }, 500);\n",
       "            "
      ],
      "text/plain": [
       "<IPython.core.display.Javascript object>"
      ]
     },
     "metadata": {},
     "output_type": "display_data"
    }
   ],
   "source": [
    "df.select(F.expr(\"Country\").alias(\"destination\")).show(2)"
   ]
  },
  {
   "cell_type": "code",
   "execution_count": 40,
   "metadata": {},
   "outputs": [
    {
     "name": "stdout",
     "output_type": "stream",
     "text": [
      "+-----------+-------+\n",
      "|destination|Country|\n",
      "+-----------+-------+\n",
      "|         US|     US|\n",
      "|         US|     US|\n",
      "|         UK|     UK|\n",
      "+-----------+-------+\n",
      "\n"
     ]
    },
    {
     "data": {
      "application/javascript": [
       "\n",
       "            setTimeout(function() {\n",
       "                var nbb_cell_id = 40;\n",
       "                var nbb_unformatted_code = \"(df.selectExpr(\\\"Country as destination\\\", \\\"Country\\\")).show()\";\n",
       "                var nbb_formatted_code = \"(df.selectExpr(\\\"Country as destination\\\", \\\"Country\\\")).show()\";\n",
       "                var nbb_cells = Jupyter.notebook.get_cells();\n",
       "                for (var i = 0; i < nbb_cells.length; ++i) {\n",
       "                    if (nbb_cells[i].input_prompt_number == nbb_cell_id) {\n",
       "                        if (nbb_cells[i].get_text() == nbb_unformatted_code) {\n",
       "                             nbb_cells[i].set_text(nbb_formatted_code);\n",
       "                        }\n",
       "                        break;\n",
       "                    }\n",
       "                }\n",
       "            }, 500);\n",
       "            "
      ],
      "text/plain": [
       "<IPython.core.display.Javascript object>"
      ]
     },
     "metadata": {},
     "output_type": "display_data"
    }
   ],
   "source": [
    "(df.selectExpr(\"Country as destination\", \"Country\")).show()"
   ]
  },
  {
   "cell_type": "code",
   "execution_count": 48,
   "metadata": {},
   "outputs": [
    {
     "name": "stdout",
     "output_type": "stream",
     "text": [
      "+------------------+\n",
      "|       avg(counts)|\n",
      "+------------------+\n",
      "|2.3333333333333335|\n",
      "+------------------+\n",
      "\n"
     ]
    },
    {
     "data": {
      "application/javascript": [
       "\n",
       "            setTimeout(function() {\n",
       "                var nbb_cell_id = 48;\n",
       "                var nbb_unformatted_code = \"new_df = df.selectExpr(\\\"avg(counts)\\\")\\n\\n\\n\\nnew_df.show()\";\n",
       "                var nbb_formatted_code = \"new_df = df.selectExpr(\\\"avg(counts)\\\")\\n\\n\\nnew_df.show()\";\n",
       "                var nbb_cells = Jupyter.notebook.get_cells();\n",
       "                for (var i = 0; i < nbb_cells.length; ++i) {\n",
       "                    if (nbb_cells[i].input_prompt_number == nbb_cell_id) {\n",
       "                        if (nbb_cells[i].get_text() == nbb_unformatted_code) {\n",
       "                             nbb_cells[i].set_text(nbb_formatted_code);\n",
       "                        }\n",
       "                        break;\n",
       "                    }\n",
       "                }\n",
       "            }, 500);\n",
       "            "
      ],
      "text/plain": [
       "<IPython.core.display.Javascript object>"
      ]
     },
     "metadata": {},
     "output_type": "display_data"
    }
   ],
   "source": [
    "new_df = df.selectExpr(\"avg(counts)\")\n",
    "\n",
    "new_df.show()"
   ]
  },
  {
   "cell_type": "markdown",
   "metadata": {},
   "source": [
    "### Adding a new column to a dataframe\n"
   ]
  },
  {
   "cell_type": "code",
   "execution_count": 314,
   "metadata": {},
   "outputs": [
    {
     "name": "stdout",
     "output_type": "stream",
     "text": [
      "+--------+-------+------+---------------+\n",
      "|    city|country|counts|New Column Name|\n",
      "+--------+-------+------+---------------+\n",
      "|      LA|     US|     3|              1|\n",
      "|New York|     US|     1|              1|\n",
      "|  London|     UK|     3|              1|\n",
      "+--------+-------+------+---------------+\n",
      "\n"
     ]
    },
    {
     "data": {
      "application/javascript": [
       "\n",
       "            setTimeout(function() {\n",
       "                var nbb_cell_id = 314;\n",
       "                var nbb_unformatted_code = \"df = df.withColumn(\\\"New Column Name\\\", F.lit(1))\\ndf.show()\";\n",
       "                var nbb_formatted_code = \"df = df.withColumn(\\\"New Column Name\\\", F.lit(1))\\ndf.show()\";\n",
       "                var nbb_cells = Jupyter.notebook.get_cells();\n",
       "                for (var i = 0; i < nbb_cells.length; ++i) {\n",
       "                    if (nbb_cells[i].input_prompt_number == nbb_cell_id) {\n",
       "                        if (nbb_cells[i].get_text() == nbb_unformatted_code) {\n",
       "                             nbb_cells[i].set_text(nbb_formatted_code);\n",
       "                        }\n",
       "                        break;\n",
       "                    }\n",
       "                }\n",
       "            }, 500);\n",
       "            "
      ],
      "text/plain": [
       "<IPython.core.display.Javascript object>"
      ]
     },
     "metadata": {},
     "output_type": "display_data"
    }
   ],
   "source": [
    "df = df.withColumn(\"New Column Name\", F.lit(1))\n",
    "df.show()"
   ]
  },
  {
   "cell_type": "markdown",
   "metadata": {},
   "source": [
    "### Renaming a column"
   ]
  },
  {
   "cell_type": "code",
   "execution_count": 58,
   "metadata": {},
   "outputs": [
    {
     "name": "stdout",
     "output_type": "stream",
     "text": [
      "+--------+-------+------+------------+\n",
      "|    city|country|counts|Changed Name|\n",
      "+--------+-------+------+------------+\n",
      "|      LA|     US|     3|           1|\n",
      "|New York|     US|     1|           1|\n",
      "|  London|     UK|     3|           1|\n",
      "+--------+-------+------+------------+\n",
      "\n"
     ]
    },
    {
     "data": {
      "application/javascript": [
       "\n",
       "            setTimeout(function() {\n",
       "                var nbb_cell_id = 58;\n",
       "                var nbb_unformatted_code = \"df = df.withColumnRenamed(\\\"New Column Name\\\",'Changed Name')\\ndf.show()\";\n",
       "                var nbb_formatted_code = \"df = df.withColumnRenamed(\\\"New Column Name\\\", \\\"Changed Name\\\")\\ndf.show()\";\n",
       "                var nbb_cells = Jupyter.notebook.get_cells();\n",
       "                for (var i = 0; i < nbb_cells.length; ++i) {\n",
       "                    if (nbb_cells[i].input_prompt_number == nbb_cell_id) {\n",
       "                        if (nbb_cells[i].get_text() == nbb_unformatted_code) {\n",
       "                             nbb_cells[i].set_text(nbb_formatted_code);\n",
       "                        }\n",
       "                        break;\n",
       "                    }\n",
       "                }\n",
       "            }, 500);\n",
       "            "
      ],
      "text/plain": [
       "<IPython.core.display.Javascript object>"
      ]
     },
     "metadata": {},
     "output_type": "display_data"
    }
   ],
   "source": [
    "df = df.withColumnRenamed(\"New Column Name\", \"Changed Name\")\n",
    "df.show()"
   ]
  },
  {
   "cell_type": "markdown",
   "metadata": {},
   "source": [
    "### Removing Columns"
   ]
  },
  {
   "cell_type": "code",
   "execution_count": 59,
   "metadata": {},
   "outputs": [
    {
     "name": "stdout",
     "output_type": "stream",
     "text": [
      "+--------+-------+------+\n",
      "|    city|country|counts|\n",
      "+--------+-------+------+\n",
      "|      LA|     US|     3|\n",
      "|New York|     US|     1|\n",
      "|  London|     UK|     3|\n",
      "+--------+-------+------+\n",
      "\n"
     ]
    },
    {
     "data": {
      "application/javascript": [
       "\n",
       "            setTimeout(function() {\n",
       "                var nbb_cell_id = 59;\n",
       "                var nbb_unformatted_code = \"df = df.drop(\\\"Changed Name\\\")\\ndf.show()\";\n",
       "                var nbb_formatted_code = \"df = df.drop(\\\"Changed Name\\\")\\ndf.show()\";\n",
       "                var nbb_cells = Jupyter.notebook.get_cells();\n",
       "                for (var i = 0; i < nbb_cells.length; ++i) {\n",
       "                    if (nbb_cells[i].input_prompt_number == nbb_cell_id) {\n",
       "                        if (nbb_cells[i].get_text() == nbb_unformatted_code) {\n",
       "                             nbb_cells[i].set_text(nbb_formatted_code);\n",
       "                        }\n",
       "                        break;\n",
       "                    }\n",
       "                }\n",
       "            }, 500);\n",
       "            "
      ],
      "text/plain": [
       "<IPython.core.display.Javascript object>"
      ]
     },
     "metadata": {},
     "output_type": "display_data"
    }
   ],
   "source": [
    "df = df.drop(\"Changed Name\")\n",
    "df.show()"
   ]
  },
  {
   "cell_type": "markdown",
   "metadata": {},
   "source": [
    "### Dataframe filtering"
   ]
  },
  {
   "cell_type": "code",
   "execution_count": 60,
   "metadata": {},
   "outputs": [
    {
     "name": "stdout",
     "output_type": "stream",
     "text": [
      "+--------+-------+------+\n",
      "|    city|country|counts|\n",
      "+--------+-------+------+\n",
      "|New York|     US|     1|\n",
      "+--------+-------+------+\n",
      "\n"
     ]
    },
    {
     "data": {
      "application/javascript": [
       "\n",
       "            setTimeout(function() {\n",
       "                var nbb_cell_id = 60;\n",
       "                var nbb_unformatted_code = \"df.filter(F.col(\\\"counts\\\") < 2 ).show()\";\n",
       "                var nbb_formatted_code = \"df.filter(F.col(\\\"counts\\\") < 2).show()\";\n",
       "                var nbb_cells = Jupyter.notebook.get_cells();\n",
       "                for (var i = 0; i < nbb_cells.length; ++i) {\n",
       "                    if (nbb_cells[i].input_prompt_number == nbb_cell_id) {\n",
       "                        if (nbb_cells[i].get_text() == nbb_unformatted_code) {\n",
       "                             nbb_cells[i].set_text(nbb_formatted_code);\n",
       "                        }\n",
       "                        break;\n",
       "                    }\n",
       "                }\n",
       "            }, 500);\n",
       "            "
      ],
      "text/plain": [
       "<IPython.core.display.Javascript object>"
      ]
     },
     "metadata": {},
     "output_type": "display_data"
    }
   ],
   "source": [
    "df.filter(F.col(\"counts\") < 2).show()"
   ]
  },
  {
   "cell_type": "code",
   "execution_count": 62,
   "metadata": {},
   "outputs": [
    {
     "name": "stdout",
     "output_type": "stream",
     "text": [
      "+------+-------+------+\n",
      "|  city|country|counts|\n",
      "+------+-------+------+\n",
      "|    LA|     US|     3|\n",
      "|London|     UK|     3|\n",
      "+------+-------+------+\n",
      "\n"
     ]
    },
    {
     "data": {
      "application/javascript": [
       "\n",
       "            setTimeout(function() {\n",
       "                var nbb_cell_id = 62;\n",
       "                var nbb_unformatted_code = \"df.where(\\\"counts>2\\\").show(2)\";\n",
       "                var nbb_formatted_code = \"df.where(\\\"counts>2\\\").show(2)\";\n",
       "                var nbb_cells = Jupyter.notebook.get_cells();\n",
       "                for (var i = 0; i < nbb_cells.length; ++i) {\n",
       "                    if (nbb_cells[i].input_prompt_number == nbb_cell_id) {\n",
       "                        if (nbb_cells[i].get_text() == nbb_unformatted_code) {\n",
       "                             nbb_cells[i].set_text(nbb_formatted_code);\n",
       "                        }\n",
       "                        break;\n",
       "                    }\n",
       "                }\n",
       "            }, 500);\n",
       "            "
      ],
      "text/plain": [
       "<IPython.core.display.Javascript object>"
      ]
     },
     "metadata": {},
     "output_type": "display_data"
    }
   ],
   "source": [
    "df.where(\"counts>2\").show(2)"
   ]
  },
  {
   "cell_type": "code",
   "execution_count": 64,
   "metadata": {},
   "outputs": [
    {
     "name": "stdout",
     "output_type": "stream",
     "text": [
      "+--------+-------+------+\n",
      "|    city|country|counts|\n",
      "+--------+-------+------+\n",
      "|New York|     US|     1|\n",
      "+--------+-------+------+\n",
      "\n"
     ]
    },
    {
     "data": {
      "application/javascript": [
       "\n",
       "            setTimeout(function() {\n",
       "                var nbb_cell_id = 64;\n",
       "                var nbb_unformatted_code = \"df.where(F.col(\\\"counts\\\") <= 1).where(F.col(\\\"country\\\") == \\\"US\\\").show()\";\n",
       "                var nbb_formatted_code = \"df.where(F.col(\\\"counts\\\") <= 1).where(F.col(\\\"country\\\") == \\\"US\\\").show()\";\n",
       "                var nbb_cells = Jupyter.notebook.get_cells();\n",
       "                for (var i = 0; i < nbb_cells.length; ++i) {\n",
       "                    if (nbb_cells[i].input_prompt_number == nbb_cell_id) {\n",
       "                        if (nbb_cells[i].get_text() == nbb_unformatted_code) {\n",
       "                             nbb_cells[i].set_text(nbb_formatted_code);\n",
       "                        }\n",
       "                        break;\n",
       "                    }\n",
       "                }\n",
       "            }, 500);\n",
       "            "
      ],
      "text/plain": [
       "<IPython.core.display.Javascript object>"
      ]
     },
     "metadata": {},
     "output_type": "display_data"
    }
   ],
   "source": [
    "df.where(F.col(\"counts\") <= 1).where(F.col(\"country\") == \"US\").show()"
   ]
  },
  {
   "cell_type": "markdown",
   "metadata": {},
   "source": [
    "### Get Distinct Rows"
   ]
  },
  {
   "cell_type": "code",
   "execution_count": 66,
   "metadata": {},
   "outputs": [
    {
     "data": {
      "text/plain": [
       "3"
      ]
     },
     "execution_count": 66,
     "metadata": {},
     "output_type": "execute_result"
    },
    {
     "data": {
      "application/javascript": [
       "\n",
       "            setTimeout(function() {\n",
       "                var nbb_cell_id = 66;\n",
       "                var nbb_unformatted_code = \"df.select(\\\"city\\\").distinct().count()\";\n",
       "                var nbb_formatted_code = \"df.select(\\\"city\\\").distinct().count()\";\n",
       "                var nbb_cells = Jupyter.notebook.get_cells();\n",
       "                for (var i = 0; i < nbb_cells.length; ++i) {\n",
       "                    if (nbb_cells[i].input_prompt_number == nbb_cell_id) {\n",
       "                        if (nbb_cells[i].get_text() == nbb_unformatted_code) {\n",
       "                             nbb_cells[i].set_text(nbb_formatted_code);\n",
       "                        }\n",
       "                        break;\n",
       "                    }\n",
       "                }\n",
       "            }, 500);\n",
       "            "
      ],
      "text/plain": [
       "<IPython.core.display.Javascript object>"
      ]
     },
     "metadata": {},
     "output_type": "display_data"
    }
   ],
   "source": [
    "df.select(\"city\").distinct().count()"
   ]
  },
  {
   "cell_type": "markdown",
   "metadata": {},
   "source": [
    "### Get RandomSamples"
   ]
  },
  {
   "cell_type": "code",
   "execution_count": 67,
   "metadata": {},
   "outputs": [
    {
     "data": {
      "text/plain": [
       "3"
      ]
     },
     "execution_count": 67,
     "metadata": {},
     "output_type": "execute_result"
    },
    {
     "data": {
      "application/javascript": [
       "\n",
       "            setTimeout(function() {\n",
       "                var nbb_cell_id = 67;\n",
       "                var nbb_unformatted_code = \"df.sample(withReplacement=False,fraction=1.0, seed=5).count()\";\n",
       "                var nbb_formatted_code = \"df.sample(withReplacement=False, fraction=1.0, seed=5).count()\";\n",
       "                var nbb_cells = Jupyter.notebook.get_cells();\n",
       "                for (var i = 0; i < nbb_cells.length; ++i) {\n",
       "                    if (nbb_cells[i].input_prompt_number == nbb_cell_id) {\n",
       "                        if (nbb_cells[i].get_text() == nbb_unformatted_code) {\n",
       "                             nbb_cells[i].set_text(nbb_formatted_code);\n",
       "                        }\n",
       "                        break;\n",
       "                    }\n",
       "                }\n",
       "            }, 500);\n",
       "            "
      ],
      "text/plain": [
       "<IPython.core.display.Javascript object>"
      ]
     },
     "metadata": {},
     "output_type": "display_data"
    }
   ],
   "source": [
    "df.sample(withReplacement=False, fraction=1.0, seed=5).count()"
   ]
  },
  {
   "cell_type": "markdown",
   "metadata": {},
   "source": [
    "### Random Splits for train test split"
   ]
  },
  {
   "cell_type": "code",
   "execution_count": 74,
   "metadata": {},
   "outputs": [
    {
     "data": {
      "text/plain": [
       "[DataFrame[city: string, country: string, counts: bigint],\n",
       " DataFrame[city: string, country: string, counts: bigint]]"
      ]
     },
     "execution_count": 74,
     "metadata": {},
     "output_type": "execute_result"
    },
    {
     "data": {
      "application/javascript": [
       "\n",
       "            setTimeout(function() {\n",
       "                var nbb_cell_id = 74;\n",
       "                var nbb_unformatted_code = \"df2 = df.randomSplit([0.67, 0.33], seed=5)\\ndf2\";\n",
       "                var nbb_formatted_code = \"df2 = df.randomSplit([0.67, 0.33], seed=5)\\ndf2\";\n",
       "                var nbb_cells = Jupyter.notebook.get_cells();\n",
       "                for (var i = 0; i < nbb_cells.length; ++i) {\n",
       "                    if (nbb_cells[i].input_prompt_number == nbb_cell_id) {\n",
       "                        if (nbb_cells[i].get_text() == nbb_unformatted_code) {\n",
       "                             nbb_cells[i].set_text(nbb_formatted_code);\n",
       "                        }\n",
       "                        break;\n",
       "                    }\n",
       "                }\n",
       "            }, 500);\n",
       "            "
      ],
      "text/plain": [
       "<IPython.core.display.Javascript object>"
      ]
     },
     "metadata": {},
     "output_type": "display_data"
    }
   ],
   "source": [
    "df2 = df.randomSplit([0.67, 0.33], seed=5)\n",
    "df2"
   ]
  },
  {
   "cell_type": "markdown",
   "metadata": {},
   "source": [
    "### Concatenating and Appending Rows"
   ]
  },
  {
   "cell_type": "code",
   "execution_count": 75,
   "metadata": {},
   "outputs": [
    {
     "data": {
      "application/javascript": [
       "\n",
       "            setTimeout(function() {\n",
       "                var nbb_cell_id = 75;\n",
       "                var nbb_unformatted_code = \"rows = [\\n    Row(\\\"Berlin\\\",\\\"Germany\\\",2),\\n    Row(\\\"Singapore\\\",\\\"Singapore\\\",1),\\n]\\nparalplelizeRows = spark.sparkContext.parallelize(rows)\\ndf2=spark.createDataFrame(rows,schema)\";\n",
       "                var nbb_formatted_code = \"rows = [\\n    Row(\\\"Berlin\\\", \\\"Germany\\\", 2),\\n    Row(\\\"Singapore\\\", \\\"Singapore\\\", 1),\\n]\\nparalplelizeRows = spark.sparkContext.parallelize(rows)\\ndf2 = spark.createDataFrame(rows, schema)\";\n",
       "                var nbb_cells = Jupyter.notebook.get_cells();\n",
       "                for (var i = 0; i < nbb_cells.length; ++i) {\n",
       "                    if (nbb_cells[i].input_prompt_number == nbb_cell_id) {\n",
       "                        if (nbb_cells[i].get_text() == nbb_unformatted_code) {\n",
       "                             nbb_cells[i].set_text(nbb_formatted_code);\n",
       "                        }\n",
       "                        break;\n",
       "                    }\n",
       "                }\n",
       "            }, 500);\n",
       "            "
      ],
      "text/plain": [
       "<IPython.core.display.Javascript object>"
      ]
     },
     "metadata": {},
     "output_type": "display_data"
    }
   ],
   "source": [
    "rows = [\n",
    "    Row(\"Berlin\", \"Germany\", 2),\n",
    "    Row(\"Singapore\", \"Singapore\", 1),\n",
    "]\n",
    "paralplelizeRows = spark.sparkContext.parallelize(rows)\n",
    "df2 = spark.createDataFrame(rows, schema)"
   ]
  },
  {
   "cell_type": "code",
   "execution_count": 76,
   "metadata": {},
   "outputs": [
    {
     "name": "stdout",
     "output_type": "stream",
     "text": [
      "+---------+---------+------+\n",
      "|     city|  country|counts|\n",
      "+---------+---------+------+\n",
      "|       LA|       US|     3|\n",
      "| New York|       US|     1|\n",
      "|   London|       UK|     3|\n",
      "|   Berlin|  Germany|     2|\n",
      "|Singapore|Singapore|     1|\n",
      "+---------+---------+------+\n",
      "\n"
     ]
    },
    {
     "data": {
      "application/javascript": [
       "\n",
       "            setTimeout(function() {\n",
       "                var nbb_cell_id = 76;\n",
       "                var nbb_unformatted_code = \"df3 = df.union(df2)\\ndf3.show()\";\n",
       "                var nbb_formatted_code = \"df3 = df.union(df2)\\ndf3.show()\";\n",
       "                var nbb_cells = Jupyter.notebook.get_cells();\n",
       "                for (var i = 0; i < nbb_cells.length; ++i) {\n",
       "                    if (nbb_cells[i].input_prompt_number == nbb_cell_id) {\n",
       "                        if (nbb_cells[i].get_text() == nbb_unformatted_code) {\n",
       "                             nbb_cells[i].set_text(nbb_formatted_code);\n",
       "                        }\n",
       "                        break;\n",
       "                    }\n",
       "                }\n",
       "            }, 500);\n",
       "            "
      ],
      "text/plain": [
       "<IPython.core.display.Javascript object>"
      ]
     },
     "metadata": {},
     "output_type": "display_data"
    }
   ],
   "source": [
    "df3 = df.union(df2) ## Union of df with df2 \n",
    "df3.show()"
   ]
  },
  {
   "cell_type": "markdown",
   "metadata": {},
   "source": [
    "### Sorting\n",
    "Using either \"sort\" or \"orderBy\""
   ]
  },
  {
   "cell_type": "code",
   "execution_count": 77,
   "metadata": {},
   "outputs": [
    {
     "name": "stdout",
     "output_type": "stream",
     "text": [
      "+---------+---------+------+\n",
      "|     city|  country|counts|\n",
      "+---------+---------+------+\n",
      "| New York|       US|     1|\n",
      "|Singapore|Singapore|     1|\n",
      "|   Berlin|  Germany|     2|\n",
      "|       LA|       US|     3|\n",
      "|   London|       UK|     3|\n",
      "+---------+---------+------+\n",
      "\n"
     ]
    },
    {
     "data": {
      "application/javascript": [
       "\n",
       "            setTimeout(function() {\n",
       "                var nbb_cell_id = 77;\n",
       "                var nbb_unformatted_code = \"df3.sort(\\\"counts\\\").show()\";\n",
       "                var nbb_formatted_code = \"df3.sort(\\\"counts\\\").show()\";\n",
       "                var nbb_cells = Jupyter.notebook.get_cells();\n",
       "                for (var i = 0; i < nbb_cells.length; ++i) {\n",
       "                    if (nbb_cells[i].input_prompt_number == nbb_cell_id) {\n",
       "                        if (nbb_cells[i].get_text() == nbb_unformatted_code) {\n",
       "                             nbb_cells[i].set_text(nbb_formatted_code);\n",
       "                        }\n",
       "                        break;\n",
       "                    }\n",
       "                }\n",
       "            }, 500);\n",
       "            "
      ],
      "text/plain": [
       "<IPython.core.display.Javascript object>"
      ]
     },
     "metadata": {},
     "output_type": "display_data"
    }
   ],
   "source": [
    "df3.sort(\"counts\").show()"
   ]
  },
  {
   "cell_type": "code",
   "execution_count": 79,
   "metadata": {},
   "outputs": [
    {
     "name": "stdout",
     "output_type": "stream",
     "text": [
      "+---------+---------+------+\n",
      "|     city|  country|counts|\n",
      "+---------+---------+------+\n",
      "|       LA|       US|     3|\n",
      "|   London|       UK|     3|\n",
      "|   Berlin|  Germany|     2|\n",
      "| New York|       US|     1|\n",
      "|Singapore|Singapore|     1|\n",
      "+---------+---------+------+\n",
      "\n"
     ]
    },
    {
     "data": {
      "application/javascript": [
       "\n",
       "            setTimeout(function() {\n",
       "                var nbb_cell_id = 79;\n",
       "                var nbb_unformatted_code = \"df3.sort(F.desc(\\\"counts\\\")).show()\";\n",
       "                var nbb_formatted_code = \"df3.sort(F.desc(\\\"counts\\\")).show()\";\n",
       "                var nbb_cells = Jupyter.notebook.get_cells();\n",
       "                for (var i = 0; i < nbb_cells.length; ++i) {\n",
       "                    if (nbb_cells[i].input_prompt_number == nbb_cell_id) {\n",
       "                        if (nbb_cells[i].get_text() == nbb_unformatted_code) {\n",
       "                             nbb_cells[i].set_text(nbb_formatted_code);\n",
       "                        }\n",
       "                        break;\n",
       "                    }\n",
       "                }\n",
       "            }, 500);\n",
       "            "
      ],
      "text/plain": [
       "<IPython.core.display.Javascript object>"
      ]
     },
     "metadata": {},
     "output_type": "display_data"
    }
   ],
   "source": [
    "df3.sort(F.desc(\"counts\")).show()"
   ]
  },
  {
   "cell_type": "code",
   "execution_count": 80,
   "metadata": {},
   "outputs": [
    {
     "name": "stdout",
     "output_type": "stream",
     "text": [
      "+---------+---------+------+\n",
      "|     city|  country|counts|\n",
      "+---------+---------+------+\n",
      "|       LA|       US|     3|\n",
      "|   London|       UK|     3|\n",
      "|   Berlin|  Germany|     2|\n",
      "| New York|       US|     1|\n",
      "|Singapore|Singapore|     1|\n",
      "+---------+---------+------+\n",
      "\n"
     ]
    },
    {
     "data": {
      "application/javascript": [
       "\n",
       "            setTimeout(function() {\n",
       "                var nbb_cell_id = 80;\n",
       "                var nbb_unformatted_code = \"df3.orderBy(F.desc(\\\"counts\\\")).show()\";\n",
       "                var nbb_formatted_code = \"df3.orderBy(F.desc(\\\"counts\\\")).show()\";\n",
       "                var nbb_cells = Jupyter.notebook.get_cells();\n",
       "                for (var i = 0; i < nbb_cells.length; ++i) {\n",
       "                    if (nbb_cells[i].input_prompt_number == nbb_cell_id) {\n",
       "                        if (nbb_cells[i].get_text() == nbb_unformatted_code) {\n",
       "                             nbb_cells[i].set_text(nbb_formatted_code);\n",
       "                        }\n",
       "                        break;\n",
       "                    }\n",
       "                }\n",
       "            }, 500);\n",
       "            "
      ],
      "text/plain": [
       "<IPython.core.display.Javascript object>"
      ]
     },
     "metadata": {},
     "output_type": "display_data"
    }
   ],
   "source": [
    "df3.orderBy(F.desc(\"counts\")).show()"
   ]
  },
  {
   "cell_type": "markdown",
   "metadata": {},
   "source": [
    "# UFC Data"
   ]
  },
  {
   "cell_type": "code",
   "execution_count": 123,
   "metadata": {},
   "outputs": [
    {
     "name": "stdout",
     "output_type": "stream",
     "text": [
      "['raw_total_fight_data.csv', 'raw_fighter_details.csv', 'data.csv', 'preprocessed_data.csv']\n"
     ]
    },
    {
     "data": {
      "application/javascript": [
       "\n",
       "            setTimeout(function() {\n",
       "                var nbb_cell_id = 123;\n",
       "                var nbb_unformatted_code = \"import os\\nfrom os.path import isfile, join\\n\\nloc = os.path.abspath(\\\"\\\")\\ndata_loc = f\\\"{loc}/data/ufcdata/\\\"\\ndata_files = [f for f in os.listdir(data_loc) if isfile(join(data_loc, f))]\\nprint(data_files)\";\n",
       "                var nbb_formatted_code = \"import os\\nfrom os.path import isfile, join\\n\\nloc = os.path.abspath(\\\"\\\")\\ndata_loc = f\\\"{loc}/data/ufcdata/\\\"\\ndata_files = [f for f in os.listdir(data_loc) if isfile(join(data_loc, f))]\\nprint(data_files)\";\n",
       "                var nbb_cells = Jupyter.notebook.get_cells();\n",
       "                for (var i = 0; i < nbb_cells.length; ++i) {\n",
       "                    if (nbb_cells[i].input_prompt_number == nbb_cell_id) {\n",
       "                        if (nbb_cells[i].get_text() == nbb_unformatted_code) {\n",
       "                             nbb_cells[i].set_text(nbb_formatted_code);\n",
       "                        }\n",
       "                        break;\n",
       "                    }\n",
       "                }\n",
       "            }, 500);\n",
       "            "
      ],
      "text/plain": [
       "<IPython.core.display.Javascript object>"
      ]
     },
     "metadata": {},
     "output_type": "display_data"
    }
   ],
   "source": [
    "import os\n",
    "from os.path import isfile, join\n",
    "\n",
    "loc = os.path.abspath(\"\")\n",
    "data_loc = f\"{loc}/data/ufcdata/\"\n",
    "data_files = [f for f in os.listdir(data_loc) if isfile(join(data_loc, f))]\n",
    "print(data_files)"
   ]
  },
  {
   "cell_type": "code",
   "execution_count": 124,
   "metadata": {},
   "outputs": [
    {
     "name": "stdout",
     "output_type": "stream",
     "text": [
      "dict_keys(['raw_total_fight_data', 'raw_fighter_details', 'data', 'preprocessed_data'])\n"
     ]
    },
    {
     "data": {
      "application/javascript": [
       "\n",
       "            setTimeout(function() {\n",
       "                var nbb_cell_id = 124;\n",
       "                var nbb_unformatted_code = \"data = {}\\nfor file in data_files:\\n    data[file[:-4]] = spark.read.csv(f\\\"{data_loc}{file}\\\", inferSchema=True, header=True)\\n    data[file[:-4]].createOrReplaceTempView(f\\\"data_{file[:-4]}\\\")\\nprint(data.keys())\";\n",
       "                var nbb_formatted_code = \"data = {}\\nfor file in data_files:\\n    data[file[:-4]] = spark.read.csv(f\\\"{data_loc}{file}\\\", inferSchema=True, header=True)\\n    data[file[:-4]].createOrReplaceTempView(f\\\"data_{file[:-4]}\\\")\\nprint(data.keys())\";\n",
       "                var nbb_cells = Jupyter.notebook.get_cells();\n",
       "                for (var i = 0; i < nbb_cells.length; ++i) {\n",
       "                    if (nbb_cells[i].input_prompt_number == nbb_cell_id) {\n",
       "                        if (nbb_cells[i].get_text() == nbb_unformatted_code) {\n",
       "                             nbb_cells[i].set_text(nbb_formatted_code);\n",
       "                        }\n",
       "                        break;\n",
       "                    }\n",
       "                }\n",
       "            }, 500);\n",
       "            "
      ],
      "text/plain": [
       "<IPython.core.display.Javascript object>"
      ]
     },
     "metadata": {},
     "output_type": "display_data"
    }
   ],
   "source": [
    "data = {}\n",
    "for file in data_files:\n",
    "    data[file[:-4]] = spark.read.csv(f\"{data_loc}{file}\", inferSchema=True, header=True)\n",
    "    data[file[:-4]].createOrReplaceTempView(f\"data_{file[:-4]}\")\n",
    "print(data.keys())"
   ]
  },
  {
   "cell_type": "code",
   "execution_count": 125,
   "metadata": {},
   "outputs": [
    {
     "data": {
      "application/javascript": [
       "\n",
       "            setTimeout(function() {\n",
       "                var nbb_cell_id = 125;\n",
       "                var nbb_unformatted_code = \"data[\\\"data\\\"] = (\\n    data[\\\"data\\\"]\\n    .where(F.col(\\\"date\\\") > \\\"2017-01-01\\\")\\n    .withColumn(\\n        \\\"Winner_name\\\",\\n        F.when(F.col(\\\"Winner\\\") == \\\"Red\\\", F.col(\\\"R_fighter\\\")).otherwise(\\n            F.col(\\\"B_fighter\\\")\\n        ),\\n    )\\n    .withColumn(\\n        \\\"Loser_name\\\",\\n        F.when(F.col(\\\"Winner\\\") == \\\"Red\\\", F.col(\\\"B_fighter\\\")).otherwise(\\n            F.col(\\\"R_fighter\\\")\\n        ),\\n    )\\n)\";\n",
       "                var nbb_formatted_code = \"data[\\\"data\\\"] = (\\n    data[\\\"data\\\"]\\n    .where(F.col(\\\"date\\\") > \\\"2017-01-01\\\")\\n    .withColumn(\\n        \\\"Winner_name\\\",\\n        F.when(F.col(\\\"Winner\\\") == \\\"Red\\\", F.col(\\\"R_fighter\\\")).otherwise(\\n            F.col(\\\"B_fighter\\\")\\n        ),\\n    )\\n    .withColumn(\\n        \\\"Loser_name\\\",\\n        F.when(F.col(\\\"Winner\\\") == \\\"Red\\\", F.col(\\\"B_fighter\\\")).otherwise(\\n            F.col(\\\"R_fighter\\\")\\n        ),\\n    )\\n)\";\n",
       "                var nbb_cells = Jupyter.notebook.get_cells();\n",
       "                for (var i = 0; i < nbb_cells.length; ++i) {\n",
       "                    if (nbb_cells[i].input_prompt_number == nbb_cell_id) {\n",
       "                        if (nbb_cells[i].get_text() == nbb_unformatted_code) {\n",
       "                             nbb_cells[i].set_text(nbb_formatted_code);\n",
       "                        }\n",
       "                        break;\n",
       "                    }\n",
       "                }\n",
       "            }, 500);\n",
       "            "
      ],
      "text/plain": [
       "<IPython.core.display.Javascript object>"
      ]
     },
     "metadata": {},
     "output_type": "display_data"
    }
   ],
   "source": [
    "data[\"data\"] = (\n",
    "    data[\"data\"]\n",
    "    .where(F.col(\"date\") > \"2017-01-01\")\n",
    "    .withColumn(\n",
    "        \"Winner_name\",\n",
    "        F.when(F.col(\"Winner\") == \"Red\", F.col(\"R_fighter\")).otherwise(\n",
    "            F.col(\"B_fighter\")\n",
    "        ),\n",
    "    )\n",
    "    .withColumn(\n",
    "        \"Loser_name\",\n",
    "        F.when(F.col(\"Winner\") == \"Red\", F.col(\"B_fighter\")).otherwise(\n",
    "            F.col(\"R_fighter\")\n",
    "        ),\n",
    "    )\n",
    ")"
   ]
  },
  {
   "cell_type": "code",
   "execution_count": 126,
   "metadata": {},
   "outputs": [
    {
     "data": {
      "application/javascript": [
       "\n",
       "            setTimeout(function() {\n",
       "                var nbb_cell_id = 126;\n",
       "                var nbb_unformatted_code = \"losses = (\\n    data[\\\"data\\\"]\\n    .withColumnRenamed(\\\"Loser_name\\\", \\\"name\\\")\\n    .groupBy(\\\"name\\\")\\n    .count()\\n    .select(\\\"name\\\", F.col(\\\"count\\\").alias(\\\"losses\\\"))\\n)\\n\\nwins = (\\n    data[\\\"data\\\"]\\n    .withColumnRenamed(\\\"Winner_name\\\", \\\"name\\\")\\n    .groupBy(\\\"name\\\")\\n    .count()\\n    .select(\\\"name\\\", F.col(\\\"count\\\").alias(\\\"wins\\\"))\\n)\";\n",
       "                var nbb_formatted_code = \"losses = (\\n    data[\\\"data\\\"]\\n    .withColumnRenamed(\\\"Loser_name\\\", \\\"name\\\")\\n    .groupBy(\\\"name\\\")\\n    .count()\\n    .select(\\\"name\\\", F.col(\\\"count\\\").alias(\\\"losses\\\"))\\n)\\n\\nwins = (\\n    data[\\\"data\\\"]\\n    .withColumnRenamed(\\\"Winner_name\\\", \\\"name\\\")\\n    .groupBy(\\\"name\\\")\\n    .count()\\n    .select(\\\"name\\\", F.col(\\\"count\\\").alias(\\\"wins\\\"))\\n)\";\n",
       "                var nbb_cells = Jupyter.notebook.get_cells();\n",
       "                for (var i = 0; i < nbb_cells.length; ++i) {\n",
       "                    if (nbb_cells[i].input_prompt_number == nbb_cell_id) {\n",
       "                        if (nbb_cells[i].get_text() == nbb_unformatted_code) {\n",
       "                             nbb_cells[i].set_text(nbb_formatted_code);\n",
       "                        }\n",
       "                        break;\n",
       "                    }\n",
       "                }\n",
       "            }, 500);\n",
       "            "
      ],
      "text/plain": [
       "<IPython.core.display.Javascript object>"
      ]
     },
     "metadata": {},
     "output_type": "display_data"
    }
   ],
   "source": [
    "losses = (\n",
    "    data[\"data\"]\n",
    "    .withColumnRenamed(\"Loser_name\", \"name\")\n",
    "    .groupBy(\"name\")\n",
    "    .count()\n",
    "    .select(\"name\", F.col(\"count\").alias(\"losses\"))\n",
    ")\n",
    "\n",
    "wins = (\n",
    "    data[\"data\"]\n",
    "    .withColumnRenamed(\"Winner_name\", \"name\")\n",
    "    .groupBy(\"name\")\n",
    "    .count()\n",
    "    .select(\"name\", F.col(\"count\").alias(\"wins\"))\n",
    ")"
   ]
  },
  {
   "cell_type": "code",
   "execution_count": 127,
   "metadata": {},
   "outputs": [
    {
     "name": "stdout",
     "output_type": "stream",
     "text": [
      "763\n"
     ]
    },
    {
     "data": {
      "application/javascript": [
       "\n",
       "            setTimeout(function() {\n",
       "                var nbb_cell_id = 127;\n",
       "                var nbb_unformatted_code = \"red = data[\\\"data\\\"].select(\\\"R_fighter\\\").distinct()\\nblue = data[\\\"data\\\"].select(\\\"B_fighter\\\").distinct()\\ncheck = red.union(blue).distinct().count()\\nprint(check)\";\n",
       "                var nbb_formatted_code = \"red = data[\\\"data\\\"].select(\\\"R_fighter\\\").distinct()\\nblue = data[\\\"data\\\"].select(\\\"B_fighter\\\").distinct()\\ncheck = red.union(blue).distinct().count()\\nprint(check)\";\n",
       "                var nbb_cells = Jupyter.notebook.get_cells();\n",
       "                for (var i = 0; i < nbb_cells.length; ++i) {\n",
       "                    if (nbb_cells[i].input_prompt_number == nbb_cell_id) {\n",
       "                        if (nbb_cells[i].get_text() == nbb_unformatted_code) {\n",
       "                             nbb_cells[i].set_text(nbb_formatted_code);\n",
       "                        }\n",
       "                        break;\n",
       "                    }\n",
       "                }\n",
       "            }, 500);\n",
       "            "
      ],
      "text/plain": [
       "<IPython.core.display.Javascript object>"
      ]
     },
     "metadata": {},
     "output_type": "display_data"
    }
   ],
   "source": [
    "red = data[\"data\"].select(\"R_fighter\").distinct()\n",
    "blue = data[\"data\"].select(\"B_fighter\").distinct()\n",
    "check = red.union(blue).distinct().count()\n",
    "print(check)"
   ]
  },
  {
   "cell_type": "code",
   "execution_count": 128,
   "metadata": {},
   "outputs": [
    {
     "name": "stdout",
     "output_type": "stream",
     "text": [
      "535\n",
      "645\n"
     ]
    },
    {
     "data": {
      "application/javascript": [
       "\n",
       "            setTimeout(function() {\n",
       "                var nbb_cell_id = 128;\n",
       "                var nbb_unformatted_code = \"print(wins.distinct().count())\\nprint(losses.distinct().count())\";\n",
       "                var nbb_formatted_code = \"print(wins.distinct().count())\\nprint(losses.distinct().count())\";\n",
       "                var nbb_cells = Jupyter.notebook.get_cells();\n",
       "                for (var i = 0; i < nbb_cells.length; ++i) {\n",
       "                    if (nbb_cells[i].input_prompt_number == nbb_cell_id) {\n",
       "                        if (nbb_cells[i].get_text() == nbb_unformatted_code) {\n",
       "                             nbb_cells[i].set_text(nbb_formatted_code);\n",
       "                        }\n",
       "                        break;\n",
       "                    }\n",
       "                }\n",
       "            }, 500);\n",
       "            "
      ],
      "text/plain": [
       "<IPython.core.display.Javascript object>"
      ]
     },
     "metadata": {},
     "output_type": "display_data"
    }
   ],
   "source": [
    "print(wins.distinct().count())\n",
    "print(losses.distinct().count())"
   ]
  },
  {
   "cell_type": "markdown",
   "metadata": {},
   "source": [
    "### Inner Join"
   ]
  },
  {
   "cell_type": "code",
   "execution_count": 129,
   "metadata": {},
   "outputs": [
    {
     "name": "stdout",
     "output_type": "stream",
     "text": [
      "417\n"
     ]
    },
    {
     "data": {
      "application/javascript": [
       "\n",
       "            setTimeout(function() {\n",
       "                var nbb_cell_id = 129;\n",
       "                var nbb_unformatted_code = \"win_loss_data = wins.join(losses, \\\"name\\\")\\nprint(win_loss_data.distinct().count())\";\n",
       "                var nbb_formatted_code = \"win_loss_data = wins.join(losses, \\\"name\\\")\\nprint(win_loss_data.distinct().count())\";\n",
       "                var nbb_cells = Jupyter.notebook.get_cells();\n",
       "                for (var i = 0; i < nbb_cells.length; ++i) {\n",
       "                    if (nbb_cells[i].input_prompt_number == nbb_cell_id) {\n",
       "                        if (nbb_cells[i].get_text() == nbb_unformatted_code) {\n",
       "                             nbb_cells[i].set_text(nbb_formatted_code);\n",
       "                        }\n",
       "                        break;\n",
       "                    }\n",
       "                }\n",
       "            }, 500);\n",
       "            "
      ],
      "text/plain": [
       "<IPython.core.display.Javascript object>"
      ]
     },
     "metadata": {},
     "output_type": "display_data"
    }
   ],
   "source": [
    "win_loss_data = wins.join(losses, \"name\")\n",
    "print(win_loss_data.distinct().count())"
   ]
  },
  {
   "cell_type": "code",
   "execution_count": 130,
   "metadata": {},
   "outputs": [
    {
     "name": "stdout",
     "output_type": "stream",
     "text": [
      "535\n"
     ]
    },
    {
     "data": {
      "application/javascript": [
       "\n",
       "            setTimeout(function() {\n",
       "                var nbb_cell_id = 130;\n",
       "                var nbb_unformatted_code = \"win_loss_data = wins.join(losses, \\\"name\\\", \\\"left\\\")\\nprint(win_loss_data.distinct().count())\";\n",
       "                var nbb_formatted_code = \"win_loss_data = wins.join(losses, \\\"name\\\", \\\"left\\\")\\nprint(win_loss_data.distinct().count())\";\n",
       "                var nbb_cells = Jupyter.notebook.get_cells();\n",
       "                for (var i = 0; i < nbb_cells.length; ++i) {\n",
       "                    if (nbb_cells[i].input_prompt_number == nbb_cell_id) {\n",
       "                        if (nbb_cells[i].get_text() == nbb_unformatted_code) {\n",
       "                             nbb_cells[i].set_text(nbb_formatted_code);\n",
       "                        }\n",
       "                        break;\n",
       "                    }\n",
       "                }\n",
       "            }, 500);\n",
       "            "
      ],
      "text/plain": [
       "<IPython.core.display.Javascript object>"
      ]
     },
     "metadata": {},
     "output_type": "display_data"
    }
   ],
   "source": [
    "win_loss_data = wins.join(losses, \"name\", \"left\")\n",
    "print(win_loss_data.distinct().count())"
   ]
  },
  {
   "cell_type": "code",
   "execution_count": 131,
   "metadata": {},
   "outputs": [
    {
     "name": "stdout",
     "output_type": "stream",
     "text": [
      "645\n"
     ]
    },
    {
     "data": {
      "application/javascript": [
       "\n",
       "            setTimeout(function() {\n",
       "                var nbb_cell_id = 131;\n",
       "                var nbb_unformatted_code = \"win_loss_data = wins.join(losses, \\\"name\\\", \\\"right\\\")\\nprint(win_loss_data.distinct().count())\";\n",
       "                var nbb_formatted_code = \"win_loss_data = wins.join(losses, \\\"name\\\", \\\"right\\\")\\nprint(win_loss_data.distinct().count())\";\n",
       "                var nbb_cells = Jupyter.notebook.get_cells();\n",
       "                for (var i = 0; i < nbb_cells.length; ++i) {\n",
       "                    if (nbb_cells[i].input_prompt_number == nbb_cell_id) {\n",
       "                        if (nbb_cells[i].get_text() == nbb_unformatted_code) {\n",
       "                             nbb_cells[i].set_text(nbb_formatted_code);\n",
       "                        }\n",
       "                        break;\n",
       "                    }\n",
       "                }\n",
       "            }, 500);\n",
       "            "
      ],
      "text/plain": [
       "<IPython.core.display.Javascript object>"
      ]
     },
     "metadata": {},
     "output_type": "display_data"
    }
   ],
   "source": [
    "win_loss_data = wins.join(losses, \"name\", \"right\")\n",
    "print(win_loss_data.distinct().count())"
   ]
  },
  {
   "cell_type": "code",
   "execution_count": 132,
   "metadata": {},
   "outputs": [
    {
     "name": "stdout",
     "output_type": "stream",
     "text": [
      "763\n"
     ]
    },
    {
     "data": {
      "application/javascript": [
       "\n",
       "            setTimeout(function() {\n",
       "                var nbb_cell_id = 132;\n",
       "                var nbb_unformatted_code = \"win_loss_data = wins.join(losses, \\\"name\\\", \\\"outer\\\")\\nprint(win_loss_data.distinct().count())\";\n",
       "                var nbb_formatted_code = \"win_loss_data = wins.join(losses, \\\"name\\\", \\\"outer\\\")\\nprint(win_loss_data.distinct().count())\";\n",
       "                var nbb_cells = Jupyter.notebook.get_cells();\n",
       "                for (var i = 0; i < nbb_cells.length; ++i) {\n",
       "                    if (nbb_cells[i].input_prompt_number == nbb_cell_id) {\n",
       "                        if (nbb_cells[i].get_text() == nbb_unformatted_code) {\n",
       "                             nbb_cells[i].set_text(nbb_formatted_code);\n",
       "                        }\n",
       "                        break;\n",
       "                    }\n",
       "                }\n",
       "            }, 500);\n",
       "            "
      ],
      "text/plain": [
       "<IPython.core.display.Javascript object>"
      ]
     },
     "metadata": {},
     "output_type": "display_data"
    }
   ],
   "source": [
    "win_loss_data = wins.join(losses, \"name\", \"outer\")\n",
    "print(win_loss_data.distinct().count())"
   ]
  },
  {
   "cell_type": "code",
   "execution_count": 118,
   "metadata": {},
   "outputs": [
    {
     "name": "stdout",
     "output_type": "stream",
     "text": [
      "+---------------+----+------+\n",
      "|           name|wins|losses|\n",
      "+---------------+----+------+\n",
      "|Andrei Arlovski|   2|     6|\n",
      "| Donald Cerrone|   4|     5|\n",
      "|    Angela Hill|   3|     5|\n",
      "|     Jim Miller|   2|     5|\n",
      "|   Ben Saunders|   2|     5|\n",
      "+---------------+----+------+\n",
      "only showing top 5 rows\n",
      "\n"
     ]
    },
    {
     "data": {
      "application/javascript": [
       "\n",
       "            setTimeout(function() {\n",
       "                var nbb_cell_id = 118;\n",
       "                var nbb_unformatted_code = \"win_loss_data.orderBy(F.desc(\\\"losses\\\")).show(5)\";\n",
       "                var nbb_formatted_code = \"win_loss_data.orderBy(F.desc(\\\"losses\\\")).show(5)\";\n",
       "                var nbb_cells = Jupyter.notebook.get_cells();\n",
       "                for (var i = 0; i < nbb_cells.length; ++i) {\n",
       "                    if (nbb_cells[i].input_prompt_number == nbb_cell_id) {\n",
       "                        if (nbb_cells[i].get_text() == nbb_unformatted_code) {\n",
       "                             nbb_cells[i].set_text(nbb_formatted_code);\n",
       "                        }\n",
       "                        break;\n",
       "                    }\n",
       "                }\n",
       "            }, 500);\n",
       "            "
      ],
      "text/plain": [
       "<IPython.core.display.Javascript object>"
      ]
     },
     "metadata": {},
     "output_type": "display_data"
    }
   ],
   "source": [
    "win_loss_data.orderBy(F.desc(\"losses\")).show(5)"
   ]
  },
  {
   "cell_type": "code",
   "execution_count": 119,
   "metadata": {},
   "outputs": [
    {
     "name": "stdout",
     "output_type": "stream",
     "text": [
      "+--------------+----+------+\n",
      "|          name|wins|losses|\n",
      "+--------------+----+------+\n",
      "|Conor McGregor|null|     1|\n",
      "+--------------+----+------+\n",
      "\n"
     ]
    },
    {
     "data": {
      "application/javascript": [
       "\n",
       "            setTimeout(function() {\n",
       "                var nbb_cell_id = 119;\n",
       "                var nbb_unformatted_code = \"win_loss_data.where(F.col(\\\"name\\\") == \\\"Conor McGregor\\\").show()\";\n",
       "                var nbb_formatted_code = \"win_loss_data.where(F.col(\\\"name\\\") == \\\"Conor McGregor\\\").show()\";\n",
       "                var nbb_cells = Jupyter.notebook.get_cells();\n",
       "                for (var i = 0; i < nbb_cells.length; ++i) {\n",
       "                    if (nbb_cells[i].input_prompt_number == nbb_cell_id) {\n",
       "                        if (nbb_cells[i].get_text() == nbb_unformatted_code) {\n",
       "                             nbb_cells[i].set_text(nbb_formatted_code);\n",
       "                        }\n",
       "                        break;\n",
       "                    }\n",
       "                }\n",
       "            }, 500);\n",
       "            "
      ],
      "text/plain": [
       "<IPython.core.display.Javascript object>"
      ]
     },
     "metadata": {},
     "output_type": "display_data"
    }
   ],
   "source": [
    "win_loss_data.where(F.col(\"name\") == \"Conor McGregor\").show()"
   ]
  },
  {
   "cell_type": "code",
   "execution_count": 133,
   "metadata": {},
   "outputs": [
    {
     "data": {
      "application/javascript": [
       "\n",
       "            setTimeout(function() {\n",
       "                var nbb_cell_id = 133;\n",
       "                var nbb_unformatted_code = \"### Figuring out Age of Fighters\\nwin_loss_data = win_loss_data.join(\\n    data[\\\"raw_fighter_details\\\"].withColumnRenamed(\\\"fighter_name\\\", \\\"name\\\"),\\n    \\\"name\\\",\\n    \\\"left\\\",\\n)\";\n",
       "                var nbb_formatted_code = \"### Figuring out Age of Fighters\\nwin_loss_data = win_loss_data.join(\\n    data[\\\"raw_fighter_details\\\"].withColumnRenamed(\\\"fighter_name\\\", \\\"name\\\"),\\n    \\\"name\\\",\\n    \\\"left\\\",\\n)\";\n",
       "                var nbb_cells = Jupyter.notebook.get_cells();\n",
       "                for (var i = 0; i < nbb_cells.length; ++i) {\n",
       "                    if (nbb_cells[i].input_prompt_number == nbb_cell_id) {\n",
       "                        if (nbb_cells[i].get_text() == nbb_unformatted_code) {\n",
       "                             nbb_cells[i].set_text(nbb_formatted_code);\n",
       "                        }\n",
       "                        break;\n",
       "                    }\n",
       "                }\n",
       "            }, 500);\n",
       "            "
      ],
      "text/plain": [
       "<IPython.core.display.Javascript object>"
      ]
     },
     "metadata": {},
     "output_type": "display_data"
    }
   ],
   "source": [
    "### Figuring out Age of Fighters\n",
    "win_loss_data = win_loss_data.join(\n",
    "    data[\"raw_fighter_details\"].withColumnRenamed(\"fighter_name\", \"name\"),\n",
    "    \"name\",\n",
    "    \"left\",\n",
    ")"
   ]
  },
  {
   "cell_type": "code",
   "execution_count": 134,
   "metadata": {},
   "outputs": [
    {
     "data": {
      "application/javascript": [
       "\n",
       "            setTimeout(function() {\n",
       "                var nbb_cell_id = 134;\n",
       "                var nbb_unformatted_code = \"win_loss_data = (\\n    win_loss_data.withColumn(\\\"birthday\\\", F.to_date(F.col(\\\"DOB\\\"), \\\"MMM dd, yyyy\\\"))\\n    .withColumn(\\n        \\\"age\\\", F.round(F.months_between(F.current_date(), F.col(\\\"birthday\\\")) / 12, 1)\\n    )\\n    .select(\\\"name\\\", \\\"wins\\\", \\\"losses\\\", \\\"age\\\")\\n)\";\n",
       "                var nbb_formatted_code = \"win_loss_data = (\\n    win_loss_data.withColumn(\\\"birthday\\\", F.to_date(F.col(\\\"DOB\\\"), \\\"MMM dd, yyyy\\\"))\\n    .withColumn(\\n        \\\"age\\\", F.round(F.months_between(F.current_date(), F.col(\\\"birthday\\\")) / 12, 1)\\n    )\\n    .select(\\\"name\\\", \\\"wins\\\", \\\"losses\\\", \\\"age\\\")\\n)\";\n",
       "                var nbb_cells = Jupyter.notebook.get_cells();\n",
       "                for (var i = 0; i < nbb_cells.length; ++i) {\n",
       "                    if (nbb_cells[i].input_prompt_number == nbb_cell_id) {\n",
       "                        if (nbb_cells[i].get_text() == nbb_unformatted_code) {\n",
       "                             nbb_cells[i].set_text(nbb_formatted_code);\n",
       "                        }\n",
       "                        break;\n",
       "                    }\n",
       "                }\n",
       "            }, 500);\n",
       "            "
      ],
      "text/plain": [
       "<IPython.core.display.Javascript object>"
      ]
     },
     "metadata": {},
     "output_type": "display_data"
    }
   ],
   "source": [
    "win_loss_data = (\n",
    "    win_loss_data.withColumn(\"birthday\", F.to_date(F.col(\"DOB\"), \"MMM dd, yyyy\"))\n",
    "    .withColumn(\n",
    "        \"age\", F.round(F.months_between(F.current_date(), F.col(\"birthday\")) / 12, 1)\n",
    "    )\n",
    "    .select(\"name\", \"wins\", \"losses\", \"age\")\n",
    ")"
   ]
  },
  {
   "cell_type": "code",
   "execution_count": 137,
   "metadata": {},
   "outputs": [
    {
     "name": "stdout",
     "output_type": "stream",
     "text": [
      "+--------------------+----+------+----+\n",
      "|                name|wins|losses| age|\n",
      "+--------------------+----+------+----+\n",
      "|Abdul Razak Alhassan|   3|     1|34.7|\n",
      "|  Abdul-Kerim Edilov|   1|  null|28.4|\n",
      "|       Abel Trujillo|null|     2|36.6|\n",
      "|         Abu Azaitar|   1|  null|34.1|\n",
      "|       Adam Milstead|null|     3|32.8|\n",
      "+--------------------+----+------+----+\n",
      "only showing top 5 rows\n",
      "\n"
     ]
    },
    {
     "data": {
      "application/javascript": [
       "\n",
       "            setTimeout(function() {\n",
       "                var nbb_cell_id = 137;\n",
       "                var nbb_unformatted_code = \"win_loss_data.show(5)\";\n",
       "                var nbb_formatted_code = \"win_loss_data.show(5)\";\n",
       "                var nbb_cells = Jupyter.notebook.get_cells();\n",
       "                for (var i = 0; i < nbb_cells.length; ++i) {\n",
       "                    if (nbb_cells[i].input_prompt_number == nbb_cell_id) {\n",
       "                        if (nbb_cells[i].get_text() == nbb_unformatted_code) {\n",
       "                             nbb_cells[i].set_text(nbb_formatted_code);\n",
       "                        }\n",
       "                        break;\n",
       "                    }\n",
       "                }\n",
       "            }, 500);\n",
       "            "
      ],
      "text/plain": [
       "<IPython.core.display.Javascript object>"
      ]
     },
     "metadata": {},
     "output_type": "display_data"
    }
   ],
   "source": [
    "win_loss_data.show(5)"
   ]
  },
  {
   "cell_type": "code",
   "execution_count": 139,
   "metadata": {},
   "outputs": [
    {
     "name": "stdout",
     "output_type": "stream",
     "text": [
      "+--------------------+----+------+----+\n",
      "|                name|wins|losses| age|\n",
      "+--------------------+----+------+----+\n",
      "|Abdul Razak Alhassan|   3|     1|34.7|\n",
      "|  Abdul-Kerim Edilov|   1|  null|28.4|\n",
      "+--------------------+----+------+----+\n",
      "only showing top 2 rows\n",
      "\n"
     ]
    },
    {
     "data": {
      "application/javascript": [
       "\n",
       "            setTimeout(function() {\n",
       "                var nbb_cell_id = 139;\n",
       "                var nbb_unformatted_code = \"win_loss_data.show(2)\";\n",
       "                var nbb_formatted_code = \"win_loss_data.show(2)\";\n",
       "                var nbb_cells = Jupyter.notebook.get_cells();\n",
       "                for (var i = 0; i < nbb_cells.length; ++i) {\n",
       "                    if (nbb_cells[i].input_prompt_number == nbb_cell_id) {\n",
       "                        if (nbb_cells[i].get_text() == nbb_unformatted_code) {\n",
       "                             nbb_cells[i].set_text(nbb_formatted_code);\n",
       "                        }\n",
       "                        break;\n",
       "                    }\n",
       "                }\n",
       "            }, 500);\n",
       "            "
      ],
      "text/plain": [
       "<IPython.core.display.Javascript object>"
      ]
     },
     "metadata": {},
     "output_type": "display_data"
    }
   ],
   "source": [
    "win_loss_data = win_loss_data.join(\n",
    "    data[\"raw_fighter_details\"].withColumnRenamed(\"fighter_name\", \"name\"),\n",
    "    \"name\",\n",
    "    \"left\",\n",
    ")"
   ]
  },
  {
   "cell_type": "code",
   "execution_count": 124,
   "metadata": {},
   "outputs": [
    {
     "name": "stdout",
     "output_type": "stream",
     "text": [
      "+--------------------+----+------+----+\n",
      "|                name|wins|losses| age|\n",
      "+--------------------+----+------+----+\n",
      "|     Israel Adesanya|   6|  null|30.7|\n",
      "|      Dustin Poirier|   6|  null|31.2|\n",
      "|Alexander Volkano...|   6|  null|31.6|\n",
      "|        Kamaru Usman|   6|  null|32.9|\n",
      "+--------------------+----+------+----+\n",
      "\n"
     ]
    },
    {
     "data": {
      "application/javascript": [
       "\n",
       "            setTimeout(function() {\n",
       "                var nbb_cell_id = 124;\n",
       "                var nbb_unformatted_code = \"win_loss_data.where(F.col(\\\"losses\\\").isNull()).orderBy(\\n    F.asc(\\\"age\\\"), F.desc(\\\"wins\\\")\\n).where(\\\"wins>5\\\").show()\";\n",
       "                var nbb_formatted_code = \"win_loss_data.where(F.col(\\\"losses\\\").isNull()).orderBy(\\n    F.asc(\\\"age\\\"), F.desc(\\\"wins\\\")\\n).where(\\\"wins>5\\\").show()\";\n",
       "                var nbb_cells = Jupyter.notebook.get_cells();\n",
       "                for (var i = 0; i < nbb_cells.length; ++i) {\n",
       "                    if (nbb_cells[i].input_prompt_number == nbb_cell_id) {\n",
       "                        if (nbb_cells[i].get_text() == nbb_unformatted_code) {\n",
       "                             nbb_cells[i].set_text(nbb_formatted_code);\n",
       "                        }\n",
       "                        break;\n",
       "                    }\n",
       "                }\n",
       "            }, 500);\n",
       "            "
      ],
      "text/plain": [
       "<IPython.core.display.Javascript object>"
      ]
     },
     "metadata": {},
     "output_type": "display_data"
    }
   ],
   "source": [
    "win_loss_data.where(F.col(\"losses\").isNull()).orderBy(\n",
    "    F.asc(\"age\"), F.desc(\"wins\")\n",
    ").where(\"wins>5\").show()"
   ]
  },
  {
   "cell_type": "markdown",
   "metadata": {},
   "source": [
    "## Date and Timestamps"
   ]
  },
  {
   "cell_type": "code",
   "execution_count": 126,
   "metadata": {},
   "outputs": [
    {
     "data": {
      "application/javascript": [
       "\n",
       "            setTimeout(function() {\n",
       "                var nbb_cell_id = 126;\n",
       "                var nbb_unformatted_code = \"rows = [\\n    Row(\\\"2020-01-03\\\"),\\n    Row(\\\"2020 01 10\\\"),\\n    Row(\\\"2020 Jan 10\\\"),\\n    Row(\\\"Sat, 11 Jan 2020\\\"),\\n]\\n\\nmyrdd = spark.sparkContext.parallelize(rows)\\n\\nschema = T.StructType(\\n    [T.StructField(name=\\\"date_str\\\", dataType=T.StringType(), nullable=True)]\\n)\\n\\ndf = spark.createDataFrame(myrdd, schema)\";\n",
       "                var nbb_formatted_code = \"rows = [\\n    Row(\\\"2020-01-03\\\"),\\n    Row(\\\"2020 01 10\\\"),\\n    Row(\\\"2020 Jan 10\\\"),\\n    Row(\\\"Sat, 11 Jan 2020\\\"),\\n]\\n\\nmyrdd = spark.sparkContext.parallelize(rows)\\n\\nschema = T.StructType(\\n    [T.StructField(name=\\\"date_str\\\", dataType=T.StringType(), nullable=True)]\\n)\\n\\ndf = spark.createDataFrame(myrdd, schema)\";\n",
       "                var nbb_cells = Jupyter.notebook.get_cells();\n",
       "                for (var i = 0; i < nbb_cells.length; ++i) {\n",
       "                    if (nbb_cells[i].input_prompt_number == nbb_cell_id) {\n",
       "                        if (nbb_cells[i].get_text() == nbb_unformatted_code) {\n",
       "                             nbb_cells[i].set_text(nbb_formatted_code);\n",
       "                        }\n",
       "                        break;\n",
       "                    }\n",
       "                }\n",
       "            }, 500);\n",
       "            "
      ],
      "text/plain": [
       "<IPython.core.display.Javascript object>"
      ]
     },
     "metadata": {},
     "output_type": "display_data"
    }
   ],
   "source": [
    "rows = [\n",
    "    Row(\"2020-01-03\"),\n",
    "    Row(\"2020 01 10\"),\n",
    "    Row(\"2020 Jan 10\"),\n",
    "    Row(\"Sat, 11 Jan 2020\"),\n",
    "]\n",
    "\n",
    "myrdd = spark.sparkContext.parallelize(rows)\n",
    "\n",
    "schema = T.StructType(\n",
    "    [T.StructField(name=\"date_str\", dataType=T.StringType(), nullable=True)]\n",
    ")\n",
    "\n",
    "df = spark.createDataFrame(myrdd, schema)"
   ]
  },
  {
   "cell_type": "code",
   "execution_count": 127,
   "metadata": {},
   "outputs": [
    {
     "name": "stdout",
     "output_type": "stream",
     "text": [
      "+----------------+\n",
      "|        date_str|\n",
      "+----------------+\n",
      "|      2020-01-03|\n",
      "|      2020 01 10|\n",
      "|     2020 Jan 10|\n",
      "|Sat, 11 Jan 2020|\n",
      "+----------------+\n",
      "\n"
     ]
    },
    {
     "data": {
      "application/javascript": [
       "\n",
       "            setTimeout(function() {\n",
       "                var nbb_cell_id = 127;\n",
       "                var nbb_unformatted_code = \"df.show()\";\n",
       "                var nbb_formatted_code = \"df.show()\";\n",
       "                var nbb_cells = Jupyter.notebook.get_cells();\n",
       "                for (var i = 0; i < nbb_cells.length; ++i) {\n",
       "                    if (nbb_cells[i].input_prompt_number == nbb_cell_id) {\n",
       "                        if (nbb_cells[i].get_text() == nbb_unformatted_code) {\n",
       "                             nbb_cells[i].set_text(nbb_formatted_code);\n",
       "                        }\n",
       "                        break;\n",
       "                    }\n",
       "                }\n",
       "            }, 500);\n",
       "            "
      ],
      "text/plain": [
       "<IPython.core.display.Javascript object>"
      ]
     },
     "metadata": {},
     "output_type": "display_data"
    }
   ],
   "source": [
    "df.show()"
   ]
  }
 ],
 "metadata": {
  "kernelspec": {
   "display_name": "Python 3",
   "language": "python",
   "name": "python3"
  },
  "language_info": {
   "codemirror_mode": {
    "name": "ipython",
    "version": 3
   },
   "file_extension": ".py",
   "mimetype": "text/x-python",
   "name": "python",
   "nbconvert_exporter": "python",
   "pygments_lexer": "ipython3",
   "version": "3.7.3"
  }
 },
 "nbformat": 4,
 "nbformat_minor": 2
}
