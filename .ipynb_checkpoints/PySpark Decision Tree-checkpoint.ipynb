{
 "cells": [
  {
   "cell_type": "markdown",
   "metadata": {},
   "source": [
    "## Decision Trees and Random Forest Classifier with PySpark"
   ]
  },
  {
   "cell_type": "markdown",
   "metadata": {},
   "source": [
    "### Importing Requirements"
   ]
  },
  {
   "cell_type": "code",
   "execution_count": 50,
   "metadata": {},
   "outputs": [
    {
     "data": {
      "text/html": [
       "<style>.container { width:250% !important; }</style>"
      ],
      "text/plain": [
       "<IPython.core.display.HTML object>"
      ]
     },
     "metadata": {},
     "output_type": "display_data"
    }
   ],
   "source": [
    "from pyspark.sql import SQLContext\n",
    "from pyspark.ml import Pipeline\n",
    "from pyspark.ml.feature import VectorAssembler\n",
    "from pyspark.ml.feature import StringIndexer\n",
    "from pyspark.ml.classification import DecisionTreeClassifier\n",
    "\n",
    "from pyspark.ml.evaluation import BinaryClassificationEvaluator\n",
    "from pyspark.sql.types import *\n",
    "import pandas as pd\n",
    "\n",
    "from IPython.core.display import display, HTML\n",
    "display(HTML(\"<style>.container { width:250% !important; }</style>\"))"
   ]
  },
  {
   "cell_type": "code",
   "execution_count": 51,
   "metadata": {},
   "outputs": [],
   "source": [
    "sqlContext = SQLContext(sc)\n",
    "\n",
    "schema = StructType([ \\\n",
    "    StructField(\"ID\", StringType(), True), \\\n",
    "    StructField(\"Gender\", StringType(), True), \\\n",
    "    StructField(\"SeniorCitizen\", BooleanType(), True), \\\n",
    "    StructField(\"Partner\", StringType(), True), \\\n",
    "    StructField(\"Dependents\", StringType(), True), \\\n",
    "    StructField(\"Tenure\", StringType(), True), \\\n",
    "    StructField(\"PhoneService\", StringType(), True), \\\n",
    "    StructField(\"MultipleLines\", BooleanType(), True), \\\n",
    "    StructField(\"InternetService\", StringType(), True), \\\n",
    "    StructField(\"OnlineSecurity\", BooleanType(), True), \\\n",
    "    StructField(\"OnlineBackup\", BooleanType(), True), \\\n",
    "    StructField(\"DeviceProtection\", BooleanType(), True), \\\n",
    "    StructField(\"TechSupport\", BooleanType(), True), \\\n",
    "    StructField(\"StreamingTV\", BooleanType(), True), \\\n",
    "    StructField(\"StreamingMovies\", BooleanType(), True), \\\n",
    "    StructField(\"Contract\", StringType(), True), \\\n",
    "    StructField(\"PaperlessBilling\", StringType(), True), \\\n",
    "    StructField(\"PaymentMethod\", StringType(), True), \\\n",
    "    StructField(\"MonthlyCharges\", DoubleType(),True), \\\n",
    "    StructField(\"TotalCharges\", DoubleType(), True), \\\n",
    "    StructField(\"Churn\", StringType(), True)])\n",
    "\n",
    "churn_data = spark.read.csv(\"Telco_Churn.csv\", schema=schema) "
   ]
  },
  {
   "cell_type": "code",
   "execution_count": 52,
   "metadata": {},
   "outputs": [
    {
     "data": {
      "text/html": [
       "<div>\n",
       "<style scoped>\n",
       "    .dataframe tbody tr th:only-of-type {\n",
       "        vertical-align: middle;\n",
       "    }\n",
       "\n",
       "    .dataframe tbody tr th {\n",
       "        vertical-align: top;\n",
       "    }\n",
       "\n",
       "    .dataframe thead th {\n",
       "        text-align: right;\n",
       "    }\n",
       "</style>\n",
       "<table border=\"1\" class=\"dataframe\">\n",
       "  <thead>\n",
       "    <tr style=\"text-align: right;\">\n",
       "      <th></th>\n",
       "      <th>customerID</th>\n",
       "      <th>gender</th>\n",
       "      <th>SeniorCitizen</th>\n",
       "      <th>Partner</th>\n",
       "      <th>Dependents</th>\n",
       "      <th>tenure</th>\n",
       "      <th>PhoneService</th>\n",
       "      <th>MultipleLines</th>\n",
       "      <th>InternetService</th>\n",
       "      <th>OnlineSecurity</th>\n",
       "      <th>...</th>\n",
       "      <th>DeviceProtection</th>\n",
       "      <th>TechSupport</th>\n",
       "      <th>StreamingTV</th>\n",
       "      <th>StreamingMovies</th>\n",
       "      <th>Contract</th>\n",
       "      <th>PaperlessBilling</th>\n",
       "      <th>PaymentMethod</th>\n",
       "      <th>MonthlyCharges</th>\n",
       "      <th>TotalCharges</th>\n",
       "      <th>Churn</th>\n",
       "    </tr>\n",
       "  </thead>\n",
       "  <tbody>\n",
       "    <tr>\n",
       "      <th>0</th>\n",
       "      <td>7590-VHVEG</td>\n",
       "      <td>Female</td>\n",
       "      <td>0</td>\n",
       "      <td>Yes</td>\n",
       "      <td>No</td>\n",
       "      <td>1</td>\n",
       "      <td>No</td>\n",
       "      <td>No phone service</td>\n",
       "      <td>DSL</td>\n",
       "      <td>No</td>\n",
       "      <td>...</td>\n",
       "      <td>No</td>\n",
       "      <td>No</td>\n",
       "      <td>No</td>\n",
       "      <td>No</td>\n",
       "      <td>Month-to-month</td>\n",
       "      <td>Yes</td>\n",
       "      <td>Electronic check</td>\n",
       "      <td>29.85</td>\n",
       "      <td>29.85</td>\n",
       "      <td>No</td>\n",
       "    </tr>\n",
       "    <tr>\n",
       "      <th>1</th>\n",
       "      <td>5575-GNVDE</td>\n",
       "      <td>Male</td>\n",
       "      <td>0</td>\n",
       "      <td>No</td>\n",
       "      <td>No</td>\n",
       "      <td>34</td>\n",
       "      <td>Yes</td>\n",
       "      <td>No</td>\n",
       "      <td>DSL</td>\n",
       "      <td>Yes</td>\n",
       "      <td>...</td>\n",
       "      <td>Yes</td>\n",
       "      <td>No</td>\n",
       "      <td>No</td>\n",
       "      <td>No</td>\n",
       "      <td>One year</td>\n",
       "      <td>No</td>\n",
       "      <td>Mailed check</td>\n",
       "      <td>56.95</td>\n",
       "      <td>1889.5</td>\n",
       "      <td>No</td>\n",
       "    </tr>\n",
       "    <tr>\n",
       "      <th>2</th>\n",
       "      <td>3668-QPYBK</td>\n",
       "      <td>Male</td>\n",
       "      <td>0</td>\n",
       "      <td>No</td>\n",
       "      <td>No</td>\n",
       "      <td>2</td>\n",
       "      <td>Yes</td>\n",
       "      <td>No</td>\n",
       "      <td>DSL</td>\n",
       "      <td>Yes</td>\n",
       "      <td>...</td>\n",
       "      <td>No</td>\n",
       "      <td>No</td>\n",
       "      <td>No</td>\n",
       "      <td>No</td>\n",
       "      <td>Month-to-month</td>\n",
       "      <td>Yes</td>\n",
       "      <td>Mailed check</td>\n",
       "      <td>53.85</td>\n",
       "      <td>108.15</td>\n",
       "      <td>Yes</td>\n",
       "    </tr>\n",
       "    <tr>\n",
       "      <th>3</th>\n",
       "      <td>7795-CFOCW</td>\n",
       "      <td>Male</td>\n",
       "      <td>0</td>\n",
       "      <td>No</td>\n",
       "      <td>No</td>\n",
       "      <td>45</td>\n",
       "      <td>No</td>\n",
       "      <td>No phone service</td>\n",
       "      <td>DSL</td>\n",
       "      <td>Yes</td>\n",
       "      <td>...</td>\n",
       "      <td>Yes</td>\n",
       "      <td>Yes</td>\n",
       "      <td>No</td>\n",
       "      <td>No</td>\n",
       "      <td>One year</td>\n",
       "      <td>No</td>\n",
       "      <td>Bank transfer (automatic)</td>\n",
       "      <td>42.30</td>\n",
       "      <td>1840.75</td>\n",
       "      <td>No</td>\n",
       "    </tr>\n",
       "    <tr>\n",
       "      <th>4</th>\n",
       "      <td>9237-HQITU</td>\n",
       "      <td>Female</td>\n",
       "      <td>0</td>\n",
       "      <td>No</td>\n",
       "      <td>No</td>\n",
       "      <td>2</td>\n",
       "      <td>Yes</td>\n",
       "      <td>No</td>\n",
       "      <td>Fiber optic</td>\n",
       "      <td>No</td>\n",
       "      <td>...</td>\n",
       "      <td>No</td>\n",
       "      <td>No</td>\n",
       "      <td>No</td>\n",
       "      <td>No</td>\n",
       "      <td>Month-to-month</td>\n",
       "      <td>Yes</td>\n",
       "      <td>Electronic check</td>\n",
       "      <td>70.70</td>\n",
       "      <td>151.65</td>\n",
       "      <td>Yes</td>\n",
       "    </tr>\n",
       "  </tbody>\n",
       "</table>\n",
       "<p>5 rows × 21 columns</p>\n",
       "</div>"
      ],
      "text/plain": [
       "   customerID  gender  SeniorCitizen Partner Dependents  tenure PhoneService  \\\n",
       "0  7590-VHVEG  Female              0     Yes         No       1           No   \n",
       "1  5575-GNVDE    Male              0      No         No      34          Yes   \n",
       "2  3668-QPYBK    Male              0      No         No       2          Yes   \n",
       "3  7795-CFOCW    Male              0      No         No      45           No   \n",
       "4  9237-HQITU  Female              0      No         No       2          Yes   \n",
       "\n",
       "      MultipleLines InternetService OnlineSecurity  ... DeviceProtection  \\\n",
       "0  No phone service             DSL             No  ...               No   \n",
       "1                No             DSL            Yes  ...              Yes   \n",
       "2                No             DSL            Yes  ...               No   \n",
       "3  No phone service             DSL            Yes  ...              Yes   \n",
       "4                No     Fiber optic             No  ...               No   \n",
       "\n",
       "  TechSupport StreamingTV StreamingMovies        Contract PaperlessBilling  \\\n",
       "0          No          No              No  Month-to-month              Yes   \n",
       "1          No          No              No        One year               No   \n",
       "2          No          No              No  Month-to-month              Yes   \n",
       "3         Yes          No              No        One year               No   \n",
       "4          No          No              No  Month-to-month              Yes   \n",
       "\n",
       "               PaymentMethod MonthlyCharges  TotalCharges Churn  \n",
       "0           Electronic check          29.85         29.85    No  \n",
       "1               Mailed check          56.95        1889.5    No  \n",
       "2               Mailed check          53.85        108.15   Yes  \n",
       "3  Bank transfer (automatic)          42.30       1840.75    No  \n",
       "4           Electronic check          70.70        151.65   Yes  \n",
       "\n",
       "[5 rows x 21 columns]"
      ]
     },
     "execution_count": 52,
     "metadata": {},
     "output_type": "execute_result"
    }
   ],
   "source": [
    "df=pd.read_csv('Telco_Churn.csv')\n",
    "df.head()"
   ]
  },
  {
   "cell_type": "code",
   "execution_count": 53,
   "metadata": {},
   "outputs": [],
   "source": [
    "df['SeniorCitizen']=df['SeniorCitizen'].replace({0:False, 1:True})\n",
    "df['Partner']=df['Partner'].replace({'No':False, 'Yes':True})\n",
    "df['Dependents']=df['Dependents'].replace({'No':False, 'Yes':True})\n",
    "df['PhoneService']=df['PhoneService'].replace({'No':False, 'Yes':True})\n",
    "df['MultipleLines']=df['MultipleLines'].replace({'No':False, 'Yes':True,'No phone service':False})\n",
    "df['OnlineSecurity']=df['OnlineSecurity'].replace({'No':False, 'Yes':True,'No internet service':False})\n",
    "df['OnlineBackup']=df['OnlineBackup'].replace({'No':False, 'Yes':True,'No internet service':False})\n",
    "df['DeviceProtection']=df['DeviceProtection'].replace({'No':False, 'Yes':True,'No internet service':False})\n",
    "df['TechSupport']=df['TechSupport'].replace({'No':False, 'Yes':True,'No internet service':False})\n",
    "df['StreamingTV']=df['StreamingTV'].replace({'No':False, 'Yes':True,'No internet service':False})\n",
    "df['StreamingMovies']=df['StreamingMovies'].replace({'No':False, 'Yes':True,'No internet service':False})\n",
    "df['PaperlessBilling']=df['PaperlessBilling'].replace({'No':False, 'Yes':True})\n",
    " \n",
    "#df['Churn']=df['Churn'].replace({'No':False, 'Yes':True})\n",
    "#df=df.drop(labels=None, axis=0, index=[488,752,751,750], columns=None, level=None, inplace=False, errors='raise')"
   ]
  },
  {
   "cell_type": "code",
   "execution_count": 54,
   "metadata": {},
   "outputs": [],
   "source": [
    "df['TotalCharges'] = df['TotalCharges'].str.strip()\n",
    "df['TotalCharges'] = pd.to_numeric(df['TotalCharges'])"
   ]
  },
  {
   "cell_type": "code",
   "execution_count": 55,
   "metadata": {},
   "outputs": [
    {
     "data": {
      "text/plain": [
       "(7032, 21)"
      ]
     },
     "execution_count": 55,
     "metadata": {},
     "output_type": "execute_result"
    }
   ],
   "source": [
    "df = df.dropna(how=\"any\")\n",
    "df.shape"
   ]
  },
  {
   "cell_type": "code",
   "execution_count": 56,
   "metadata": {},
   "outputs": [],
   "source": [
    "pysparkdf = spark.createDataFrame(df,schema=schema)\n"
   ]
  },
  {
   "cell_type": "code",
   "execution_count": 57,
   "metadata": {},
   "outputs": [
    {
     "name": "stdout",
     "output_type": "stream",
     "text": [
      "+----------+------+-------------+-------+----------+------+------------+-------------+---------------+--------------+------------+----------------+-----------+-----------+---------------+--------------+----------------+--------------------+--------------+------------+-----+\n",
      "|        ID|Gender|SeniorCitizen|Partner|Dependents|Tenure|PhoneService|MultipleLines|InternetService|OnlineSecurity|OnlineBackup|DeviceProtection|TechSupport|StreamingTV|StreamingMovies|      Contract|PaperlessBilling|       PaymentMethod|MonthlyCharges|TotalCharges|Churn|\n",
      "+----------+------+-------------+-------+----------+------+------------+-------------+---------------+--------------+------------+----------------+-----------+-----------+---------------+--------------+----------------+--------------------+--------------+------------+-----+\n",
      "|7590-VHVEG|Female|        false|   true|     false|     1|       false|        false|            DSL|         false|        true|           false|      false|      false|          false|Month-to-month|            true|    Electronic check|         29.85|       29.85|   No|\n",
      "|5575-GNVDE|  Male|        false|  false|     false|    34|        true|        false|            DSL|          true|       false|            true|      false|      false|          false|      One year|           false|        Mailed check|         56.95|      1889.5|   No|\n",
      "|3668-QPYBK|  Male|        false|  false|     false|     2|        true|        false|            DSL|          true|        true|           false|      false|      false|          false|Month-to-month|            true|        Mailed check|         53.85|      108.15|  Yes|\n",
      "|7795-CFOCW|  Male|        false|  false|     false|    45|       false|        false|            DSL|          true|       false|            true|       true|      false|          false|      One year|           false|Bank transfer (au...|          42.3|     1840.75|   No|\n",
      "|9237-HQITU|Female|        false|  false|     false|     2|        true|        false|    Fiber optic|         false|       false|           false|      false|      false|          false|Month-to-month|            true|    Electronic check|          70.7|      151.65|  Yes|\n",
      "|9305-CDSKC|Female|        false|  false|     false|     8|        true|         true|    Fiber optic|         false|       false|            true|      false|       true|           true|Month-to-month|            true|    Electronic check|         99.65|       820.5|  Yes|\n",
      "|1452-KIOVK|  Male|        false|  false|      true|    22|        true|         true|    Fiber optic|         false|        true|           false|      false|       true|          false|Month-to-month|            true|Credit card (auto...|          89.1|      1949.4|   No|\n",
      "|6713-OKOMC|Female|        false|  false|     false|    10|       false|        false|            DSL|          true|       false|           false|      false|      false|          false|Month-to-month|           false|        Mailed check|         29.75|       301.9|   No|\n",
      "|7892-POOKP|Female|        false|   true|     false|    28|        true|         true|    Fiber optic|         false|       false|            true|       true|       true|           true|Month-to-month|            true|    Electronic check|         104.8|     3046.05|  Yes|\n",
      "|6388-TABGU|  Male|        false|  false|      true|    62|        true|        false|            DSL|          true|        true|           false|      false|      false|          false|      One year|           false|Bank transfer (au...|         56.15|     3487.95|   No|\n",
      "|9763-GRSKD|  Male|        false|   true|      true|    13|        true|        false|            DSL|          true|       false|           false|      false|      false|          false|Month-to-month|            true|        Mailed check|         49.95|      587.45|   No|\n",
      "|7469-LKBCI|  Male|        false|  false|     false|    16|        true|        false|             No|         false|       false|           false|      false|      false|          false|      Two year|           false|Credit card (auto...|         18.95|       326.8|   No|\n",
      "|8091-TTVAX|  Male|        false|   true|     false|    58|        true|         true|    Fiber optic|         false|       false|            true|      false|       true|           true|      One year|           false|Credit card (auto...|        100.35|      5681.1|   No|\n",
      "|0280-XJGEX|  Male|        false|  false|     false|    49|        true|         true|    Fiber optic|         false|        true|            true|      false|       true|           true|Month-to-month|            true|Bank transfer (au...|         103.7|      5036.3|  Yes|\n",
      "|5129-JLPIS|  Male|        false|  false|     false|    25|        true|        false|    Fiber optic|          true|       false|            true|       true|       true|           true|Month-to-month|            true|    Electronic check|         105.5|     2686.05|   No|\n",
      "|3655-SNQYZ|Female|        false|   true|      true|    69|        true|         true|    Fiber optic|          true|        true|            true|       true|       true|           true|      Two year|           false|Credit card (auto...|        113.25|     7895.15|   No|\n",
      "|8191-XWSZG|Female|        false|  false|     false|    52|        true|        false|             No|         false|       false|           false|      false|      false|          false|      One year|           false|        Mailed check|         20.65|     1022.95|   No|\n",
      "|9959-WOFKT|  Male|        false|  false|      true|    71|        true|         true|    Fiber optic|          true|       false|            true|      false|       true|           true|      Two year|           false|Bank transfer (au...|         106.7|     7382.25|   No|\n",
      "|4190-MFLUW|Female|        false|   true|      true|    10|        true|        false|            DSL|         false|       false|            true|       true|      false|          false|Month-to-month|           false|Credit card (auto...|          55.2|      528.35|  Yes|\n",
      "|4183-MYFRB|Female|        false|  false|     false|    21|        true|        false|    Fiber optic|         false|        true|            true|      false|      false|           true|Month-to-month|            true|    Electronic check|         90.05|      1862.9|   No|\n",
      "+----------+------+-------------+-------+----------+------+------------+-------------+---------------+--------------+------------+----------------+-----------+-----------+---------------+--------------+----------------+--------------------+--------------+------------+-----+\n",
      "only showing top 20 rows\n",
      "\n"
     ]
    }
   ],
   "source": [
    "pysparkdf.show()"
   ]
  },
  {
   "cell_type": "code",
   "execution_count": 58,
   "metadata": {},
   "outputs": [],
   "source": [
    "reduced_numeric_cols=['MonthlyCharges']"
   ]
  },
  {
   "cell_type": "code",
   "execution_count": 59,
   "metadata": {},
   "outputs": [],
   "source": [
    "label_indexer = StringIndexer(inputCol = 'Churn', outputCol = 'label')\n",
    "InternetService_indexer = StringIndexer(inputCol = 'InternetService', outputCol = 'InternetService_indexed')\n",
    "PhoneService_indexer = StringIndexer(inputCol = 'PhoneService', outputCol = 'PhoneService_indexed')\n",
    "\n",
    "\n",
    "assembler = VectorAssembler(\n",
    "    inputCols=[\n",
    "        \"TotalCharges\",\n",
    "    ] + reduced_numeric_cols,\n",
    "    outputCol=\"features\",\n",
    ")\n",
    "#output = featureassembler.transform(pysparkdf)"
   ]
  },
  {
   "cell_type": "code",
   "execution_count": 60,
   "metadata": {},
   "outputs": [],
   "source": [
    "classifier = DecisionTreeClassifier(labelCol = 'label', featuresCol = 'features')\n",
    "pipeline = Pipeline(stages=[label_indexer, InternetService_indexer,PhoneService_indexer, assembler, classifier])\n",
    "(train, test) = pysparkdf.randomSplit([0.9, 0.1])\n",
    "model = pipeline.fit(train)"
   ]
  },
  {
   "cell_type": "markdown",
   "metadata": {},
   "source": [
    "### Model Evaluation"
   ]
  },
  {
   "cell_type": "code",
   "execution_count": 61,
   "metadata": {},
   "outputs": [
    {
     "data": {
      "text/plain": [
       "'The AUROC is 0.4333862955657828 and the AUPR is 0.26958234240681367.'"
      ]
     },
     "execution_count": 61,
     "metadata": {},
     "output_type": "execute_result"
    }
   ],
   "source": [
    "from pyspark.ml.evaluation import BinaryClassificationEvaluator\n",
    "\n",
    "predictions = model.transform(test)\n",
    "evaluator = BinaryClassificationEvaluator()\n",
    "auroc = evaluator.evaluate(predictions, {evaluator.metricName: \"areaUnderROC\"})\n",
    "aupr = evaluator.evaluate(predictions, {evaluator.metricName: \"areaUnderPR\"})\n",
    "\"The AUROC is %s and the AUPR is %s.\" % (auroc, aupr)"
   ]
  },
  {
   "cell_type": "markdown",
   "metadata": {},
   "source": [
    "## Random Forest Classifier \n"
   ]
  },
  {
   "cell_type": "code",
   "execution_count": 62,
   "metadata": {},
   "outputs": [],
   "source": [
    "from pyspark.ml.classification import RandomForestClassifier\n",
    "RF_NUM_TREES = 3"
   ]
  },
  {
   "cell_type": "code",
   "execution_count": 63,
   "metadata": {},
   "outputs": [],
   "source": [
    "classifier = RandomForestClassifier(impurity=\"gini\",featureSubsetStrategy=\"auto\", numTrees=RF_NUM_TREES, maxDepth = 30, labelCol = 'label', featuresCol = 'features')\n",
    "pipeline = Pipeline(stages=[label_indexer, InternetService_indexer,PhoneService_indexer, assembler, classifier])\n",
    "(train, test) = pysparkdf.randomSplit([0.9, 0.1])\n",
    "model = pipeline.fit(train)"
   ]
  },
  {
   "cell_type": "code",
   "execution_count": 64,
   "metadata": {},
   "outputs": [
    {
     "data": {
      "text/plain": [
       "'The AUROC is 0.7760461023107934 and the AUPR is 0.5800377753171316.'"
      ]
     },
     "execution_count": 64,
     "metadata": {},
     "output_type": "execute_result"
    }
   ],
   "source": [
    "from pyspark.ml.evaluation import BinaryClassificationEvaluator\n",
    "\n",
    "predictions = model.transform(test)\n",
    "evaluator = BinaryClassificationEvaluator()\n",
    "auroc = evaluator.evaluate(predictions, {evaluator.metricName: \"areaUnderROC\"})\n",
    "aupr = evaluator.evaluate(predictions, {evaluator.metricName: \"areaUnderPR\"})\n",
    "\"The AUROC is %s and the AUPR is %s.\" % (auroc, aupr)"
   ]
  },
  {
   "cell_type": "code",
   "execution_count": 65,
   "metadata": {},
   "outputs": [
    {
     "name": "stdout",
     "output_type": "stream",
     "text": [
      "+-----+----------+\n",
      "|label|prediction|\n",
      "+-----+----------+\n",
      "|  0.0|       1.0|\n",
      "|  1.0|       1.0|\n",
      "|  1.0|       0.0|\n",
      "|  0.0|       0.0|\n",
      "|  1.0|       1.0|\n",
      "|  1.0|       0.0|\n",
      "|  1.0|       0.0|\n",
      "|  0.0|       0.0|\n",
      "|  0.0|       0.0|\n",
      "|  1.0|       1.0|\n",
      "|  0.0|       0.0|\n",
      "|  0.0|       0.0|\n",
      "|  1.0|       0.0|\n",
      "|  0.0|       0.0|\n",
      "|  0.0|       0.0|\n",
      "|  0.0|       0.0|\n",
      "|  0.0|       0.0|\n",
      "|  1.0|       1.0|\n",
      "|  1.0|       0.0|\n",
      "|  0.0|       0.0|\n",
      "+-----+----------+\n",
      "only showing top 20 rows\n",
      "\n"
     ]
    }
   ],
   "source": [
    "(predictions.select(\"label\",\"prediction\")).show()"
   ]
  }
 ],
 "metadata": {
  "kernelspec": {
   "display_name": "Python 3",
   "language": "python",
   "name": "python3"
  },
  "language_info": {
   "codemirror_mode": {
    "name": "ipython",
    "version": 3
   },
   "file_extension": ".py",
   "mimetype": "text/x-python",
   "name": "python",
   "nbconvert_exporter": "python",
   "pygments_lexer": "ipython3",
   "version": "3.7.3"
  }
 },
 "nbformat": 4,
 "nbformat_minor": 2
}
